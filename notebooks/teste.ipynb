{
 "cells": [
  {
   "cell_type": "code",
   "execution_count": 1,
   "id": "add44727",
   "metadata": {},
   "outputs": [],
   "source": [
    "%%capture\n",
    "%run part03_preparation.ipynb"
   ]
  },
  {
   "cell_type": "code",
   "execution_count": 33,
   "id": "f8e25aa8",
   "metadata": {},
   "outputs": [],
   "source": [
    "import mlflow\n",
    "import mlflow.sklearn\n",
    "from mlflow.models.signature import infer_signature\n",
    "\n",
    "import sys\n",
    "import os\n",
    "from datetime import datetime\n",
    "\n",
    "import pickle\n",
    "\n",
    "from mlflow.models.signature import infer_signature\n",
    "\n",
    "#Visualization Tools\n",
    "from matplotlib import pyplot as plt\n",
    "%matplotlib inline\n",
    "import seaborn as sns\n",
    "\n",
    "\n",
    "# Machine Learning Models\n",
    "from lightgbm import LGBMClassifier\n",
    "from xgboost import XGBClassifier\n",
    "\n",
    "# Model Selection Tools\n",
    "from sklearn.model_selection import train_test_split\n",
    "from sklearn.model_selection import cross_val_score, cross_val_predict, KFold, cross_validate, StratifiedKFold\n",
    "from sklearn.pipeline import Pipeline, make_pipeline\n",
    "#import optuna\n",
    "\n",
    "# Model Evaluation Tools\n",
    "from sklearn.metrics import accuracy_score, precision_score, recall_score, log_loss, roc_auc_score, f1_score\n",
    "from sklearn.metrics import confusion_matrix, ConfusionMatrixDisplay, roc_curve, auc, classification_report\n",
    "\n",
    "\n",
    "RANDOM_SEED = 42\n",
    "np.random.seed(RANDOM_SEED)"
   ]
  },
  {
   "cell_type": "code",
   "execution_count": 3,
   "id": "c2bd84c7",
   "metadata": {},
   "outputs": [],
   "source": [
    "ROOT_DIR = '/home/alysson/projects/Hotel-Booking-Cancelations'\n",
    "MLFLOW_DIR = '/home/alysson/projects/Hotel-Booking-Cancelations/mlflow'\n",
    "MLFLOW_PLOTS_FOLDER = '/home/alysson/projects/Hotel-Booking-Cancelations/mlflow/plots'\n",
    "MLFLOW_CONFUSION_MATRIX_PATH = '/home/alysson/projects/Hotel-Booking-Cancelations/mlflow/plots/confusion_matrix.png'"
   ]
  },
  {
   "cell_type": "code",
   "execution_count": 4,
   "id": "20710c51",
   "metadata": {},
   "outputs": [],
   "source": [
    "os.makedirs(MLFLOW_DIR, exist_ok=True)\n",
    "os.makedirs(MLFLOW_PLOTS_FOLDER, exist_ok=True)"
   ]
  },
  {
   "cell_type": "code",
   "execution_count": 5,
   "id": "ce3d58c7",
   "metadata": {},
   "outputs": [],
   "source": [
    "if ROOT_DIR not in sys.path:\n",
    "    sys.path.append(ROOT_DIR)\n",
    "os.chdir(ROOT_DIR)"
   ]
  },
  {
   "cell_type": "code",
   "execution_count": 15,
   "id": "ee4781e0",
   "metadata": {},
   "outputs": [],
   "source": [
    "def get_metrics(y_true, y_pred):    \n",
    "    acc = accuracy_score(y_true, y_pred)\n",
    "    prec = precision_score(y_true, y_pred)\n",
    "    recall = recall_score(y_true, y_pred)\n",
    "    f1 = f1_score(y_true, y_pred)\n",
    "    auc = roc_auc_score(y_true, y_pred)\n",
    "    #entropy = log_loss(y_true, y_pred_prob)\n",
    "    return {'Accuracy': round(acc, 3), \n",
    "            'Precision': round(prec, 3), \n",
    "            'Recall': round(recall, 3), \n",
    "            'F1': round(f1, 3),\n",
    "            'Auc': round(auc, 3),\n",
    "            #'Entropy': round(entropy, 3)\n",
    "           }"
   ]
  },
  {
   "cell_type": "code",
   "execution_count": 8,
   "id": "cbff16ed",
   "metadata": {},
   "outputs": [],
   "source": [
    "X_train, X_val, y_train, y_val = train_test_split(X, y, test_size = 0.2, stratify=y, shuffle=True, random_state=RANDOM_SEED)"
   ]
  },
  {
   "cell_type": "markdown",
   "id": "a96183c1",
   "metadata": {},
   "source": [
    "## Begin"
   ]
  },
  {
   "cell_type": "code",
   "execution_count": 6,
   "id": "8dd6f82c",
   "metadata": {},
   "outputs": [
    {
     "name": "stderr",
     "output_type": "stream",
     "text": [
      "2023/06/12 13:01:45 INFO mlflow.store.db.utils: Creating initial MLflow database tables...\n",
      "2023/06/12 13:01:45 INFO mlflow.store.db.utils: Updating database tables\n",
      "INFO  [alembic.runtime.migration] Context impl SQLiteImpl.\n",
      "INFO  [alembic.runtime.migration] Will assume non-transactional DDL.\n",
      "INFO  [alembic.runtime.migration] Context impl SQLiteImpl.\n",
      "INFO  [alembic.runtime.migration] Will assume non-transactional DDL.\n",
      "2023/06/12 13:01:45 INFO mlflow.tracking.fluent: Experiment with name 'Hotel Cancelations Booking' does not exist. Creating a new experiment.\n"
     ]
    },
    {
     "data": {
      "text/plain": [
       "<Experiment: artifact_location='/home/alysson/projects/Hotel-Booking-Cancelations/mlruns/1', creation_time=1686585705056, experiment_id='1', last_update_time=1686585705056, lifecycle_stage='active', name='Hotel Cancelations Booking', tags={}>"
      ]
     },
     "execution_count": 6,
     "metadata": {},
     "output_type": "execute_result"
    }
   ],
   "source": [
    "mlflow.set_tracking_uri(\"sqlite:///mlflow/mlflow.db\")\n",
    "mlflow.set_experiment(\"Hotel Cancelations Booking\")"
   ]
  },
  {
   "cell_type": "code",
   "execution_count": 32,
   "id": "15c8ca11",
   "metadata": {},
   "outputs": [
    {
     "name": "stdout",
     "output_type": "stream",
     "text": [
      "Run Name: lightgbm\n",
      "Run id: 401a11aa36104fe49d61248b3da678cc\n",
      "\n"
     ]
    }
   ],
   "source": [
    "mlflow.sklearn.autolog(disable=True)\n",
    "\n",
    "run_name='lightgbm'\n",
    "\n",
    "with mlflow.start_run(run_name=run_name):\n",
    "    \n",
    "    lgbm_params = {'objective': 'binary', \n",
    "              'boosting_type': 'gbdt', \n",
    "              'num_leaves': 220, \n",
    "              'max_depth': 7, \n",
    "              'learning_rate': 0.075, \n",
    "              'reg_alpha': 0.002, \n",
    "              'reg_lambda': 0.025, \n",
    "              'subsample_freq': 2, \n",
    "              'min_child_samples': 1, \n",
    "              'scale_pos_weight': 2.7}\n",
    "\n",
    "    mlflow.set_tag(\"Tag1\", \"Tag2\")\n",
    "    mlflow.log_params(lgbm_params)\n",
    "\n",
    "    lgbm = LGBMClassifier(**lgbm_params)\n",
    "    lgbm.fit(X_train, y_train)\n",
    "    lgbm_preds = lgbm.predict(X_val)\n",
    "    lgbm_scores = get_metrics(y_val, lgbm_preds)\n",
    "    \n",
    "    for score in lgbm_scores:\n",
    "            mlflow.log_metric(score, lgbm_scores[score])\n",
    "    \n",
    "\n",
    "    mlflow.lightgbm.log_model(lgbm, \"lgbm\")\n",
    "    \n",
    "    #Print\n",
    "    run_id = mlflow.active_run().info.run_id\n",
    "        \n",
    "    print(f'Run Name: {run_name}\\nRun id: {run_id}\\n')"
   ]
  },
  {
   "cell_type": "code",
   "execution_count": 39,
   "id": "61f2d1c3",
   "metadata": {},
   "outputs": [
    {
     "name": "stdout",
     "output_type": "stream",
     "text": [
      "Run Name: xgboost\n",
      "Run id: 60d96ab7386f4b34aa5029a246ff7557\n",
      "\n"
     ]
    }
   ],
   "source": [
    "mlflow.sklearn.autolog(disable=True)\n",
    "\n",
    "run_name='xgboost'\n",
    "\n",
    "with mlflow.start_run(run_name=run_name):\n",
    "    \n",
    "    xgb_params = {'objective': 'binary:logistic',\n",
    "                  'eval_metric': 'auc',\n",
    "                  'booster': 'gbtree',\n",
    "                  'max_depth': 12,\n",
    "                  'learning_rate': 0.1,\n",
    "                  'n_estimators': 180,\n",
    "                  'alpha': 2.95e-08,\n",
    "                  'lambda': 4.00e-07,\n",
    "                  'min_child_weight': 5,\n",
    "                  'colsample_bytree': 0.5,\n",
    "                  'scale_pos_weight': 2.63,\n",
    "                  'seed': 42}\n",
    "\n",
    "    mlflow.set_tag(\"XGBoost\", \"XGboost Tag2\")\n",
    "    mlflow.log_params(xgb_params)\n",
    "\n",
    "    xgb = XGBClassifier(**xgb_params)\n",
    "    xgb.fit(X_train, y_train)\n",
    "    xgb_preds = xgb.predict(X_val)\n",
    "    xgb_scores = get_metrics(y_val, xgb_preds)\n",
    "    \n",
    "    for score in xgb_scores:\n",
    "            mlflow.log_metric(score, xgb_scores[score])\n",
    "    \n",
    "\n",
    "    mlflow.xgboost.log_model(xgb, \"xgboost\")\n",
    "    \n",
    "    run_id = mlflow.active_run().info.run_id\n",
    "        \n",
    "    print(f'Run Name: {run_name}\\nRun id: {run_id}\\n')"
   ]
  },
  {
   "cell_type": "code",
   "execution_count": 40,
   "id": "55c8b7c9",
   "metadata": {},
   "outputs": [],
   "source": [
    "model_id = \"runs:/401a11aa36104fe49d61248b3da678cc/lgbm\" # take it from mlflow\n",
    "loaded_ft = mlflow.lightgbm.load_model(model_id)"
   ]
  }
 ],
 "metadata": {
  "kernelspec": {
   "display_name": "Python 3 (ipykernel)",
   "language": "python",
   "name": "python3"
  },
  "language_info": {
   "codemirror_mode": {
    "name": "ipython",
    "version": 3
   },
   "file_extension": ".py",
   "mimetype": "text/x-python",
   "name": "python",
   "nbconvert_exporter": "python",
   "pygments_lexer": "ipython3",
   "version": "3.10.6"
  }
 },
 "nbformat": 4,
 "nbformat_minor": 5
}
