{
 "cells": [
  {
   "cell_type": "code",
   "execution_count": 1,
   "id": "e136480e",
   "metadata": {},
   "outputs": [],
   "source": [
    "%%capture\n",
    "%run part03_preparation.ipynb"
   ]
  },
  {
   "cell_type": "code",
   "execution_count": 114,
   "id": "627a22dd",
   "metadata": {},
   "outputs": [],
   "source": [
    "import mlflow\n",
    "import mlflow.sklearn\n",
    "from mlflow.models.signature import infer_signature\n",
    "\n",
    "import sys\n",
    "import os\n",
    "from datetime import datetime\n",
    "\n",
    "import pickle\n",
    "\n",
    "from mlflow.models.signature import infer_signature\n",
    "\n",
    "\n",
    "#Visualization Tools\n",
    "from matplotlib import pyplot as plt\n",
    "%matplotlib inline\n",
    "import seaborn as sns\n",
    "\n",
    "\n",
    "# Machine Learning Models\n",
    "from lightgbm import LGBMClassifier\n",
    "\n",
    "# Model Selection Tools\n",
    "from sklearn.model_selection import train_test_split\n",
    "from sklearn.model_selection import cross_val_score, cross_val_predict, KFold, cross_validate, StratifiedKFold\n",
    "from sklearn.pipeline import Pipeline, make_pipeline\n",
    "#import optuna\n",
    "\n",
    "# Model Evaluation Tools\n",
    "from sklearn.metrics import accuracy_score, precision_score, recall_score, log_loss, roc_auc_score, f1_score\n",
    "from sklearn.metrics import confusion_matrix, ConfusionMatrixDisplay, roc_curve, auc, classification_report\n",
    "\n",
    "\n",
    "RANDOM_SEED = 42\n",
    "np.random.seed(RANDOM_SEED)"
   ]
  },
  {
   "cell_type": "code",
   "execution_count": 5,
   "id": "0e4c1efa",
   "metadata": {},
   "outputs": [],
   "source": [
    "ROOT_DIR = '/home/alysson/projects/Hotel-Booking-Cancelations'\n",
    "MLFLOW_DIR = '/home/alysson/projects/Hotel-Booking-Cancelations/mlflow'\n",
    "MLFLOW_PLOTS_FOLDER = '/home/alysson/projects/Hotel-Booking-Cancelations/mlflow/plots'\n",
    "MLFLOW_CONFUSION_MATRIX_PATH = '/home/alysson/projects/Hotel-Booking-Cancelations/mlflow/plots/confusion_matrix.png'"
   ]
  },
  {
   "cell_type": "code",
   "execution_count": 9,
   "id": "3d428afe",
   "metadata": {},
   "outputs": [],
   "source": [
    "os.makedirs(MLFLOW_DIR, exist_ok=True)\n",
    "os.makedirs(MLFLOW_PLOTS_FOLDER, exist_ok=True)"
   ]
  },
  {
   "cell_type": "code",
   "execution_count": 10,
   "id": "c87649ba",
   "metadata": {},
   "outputs": [],
   "source": [
    "if MLFLOW_DIR not in sys.path:\n",
    "    sys.path.append(MLFLOW_DIR)\n",
    "os.chdir(MLFLOW_DIR)"
   ]
  },
  {
   "cell_type": "code",
   "execution_count": 11,
   "id": "c2d8fec9",
   "metadata": {},
   "outputs": [
    {
     "name": "stdout",
     "output_type": "stream",
     "text": [
      "/home/alysson/projects/Hotel-Booking-Cancelations/mlflow\r\n"
     ]
    }
   ],
   "source": [
    "!pwd"
   ]
  },
  {
   "cell_type": "code",
   "execution_count": 13,
   "id": "df0ad56e",
   "metadata": {},
   "outputs": [],
   "source": [
    "def get_metrics(y_true, y_pred, y_pred_prob):    \n",
    "    acc = accuracy_score(y_true, y_pred)\n",
    "    prec = precision_score(y_true, y_pred)\n",
    "    recall = recall_score(y_true, y_pred)\n",
    "    f1 = f1_score(y_true, y_pred)\n",
    "    auc = roc_auc_score(y_true, y_pred)\n",
    "    entropy = log_loss(y_true, y_pred_prob)\n",
    "    return {'Accuracy': round(acc, 3), \n",
    "            'Precision': round(prec, 3), \n",
    "            'Recall': round(recall, 3), \n",
    "            'F1': round(f1, 3),\n",
    "            'Auc': round(auc, 3),\n",
    "            'Entropy': round(entropy, 3)}"
   ]
  },
  {
   "cell_type": "code",
   "execution_count": 14,
   "id": "c43f48ab",
   "metadata": {},
   "outputs": [],
   "source": [
    "def CM(y, y_pred, save=False): \n",
    "    \n",
    "        labels = [\"Não Cancelado\", \"Cancelado\"]\n",
    "        cm = confusion_matrix(y, y_pred)\n",
    "        disp = ConfusionMatrixDisplay(confusion_matrix=cm, display_labels=labels) \n",
    "        disp.plot(cmap=\"Blues\", values_format=\"d\")          \n",
    "        \n",
    "        if save == True:\n",
    "            plt.savefig(MLFLOW_CONFUSION_MATRIX_PATH, dpi=120)\n",
    "            \n",
    "        plt.show() \n",
    "        print(\"Score: \\n\", classification_report(y,y_pred))  "
   ]
  },
  {
   "cell_type": "code",
   "execution_count": 15,
   "id": "25057014",
   "metadata": {},
   "outputs": [],
   "source": [
    "def CVS(model, X, y, model_dict=''):\n",
    "   \n",
    "    number_folds = 5    \n",
    "    Kfold = StratifiedKFold(n_splits=number_folds, shuffle=True, random_state=RANDOM_SEED )\n",
    "    \n",
    "    y_prob = cross_val_predict(model, X, y, cv=Kfold, method='predict_proba', verbose=False)    \n",
    "    y_prob = y_prob[:,1]\n",
    "    \n",
    "    ### Defining threshold ###\n",
    "    y_pred = np.empty(shape=(len(y_prob)))\n",
    "    threshold = 0.5\n",
    "    for i in range(len(y_prob)):    \n",
    "        if y_prob[i] >= threshold:\n",
    "            y_pred[i] = 1  \n",
    "        else:\n",
    "            y_pred[i] = 0\n",
    "  \n",
    "    scores = cross_validate(model, X, y, cv = Kfold, scoring=['accuracy','precision','recall','f1','roc_auc'], return_train_score=True)\n",
    "    \n",
    "    df = pd.DataFrame.from_dict(scores).T\n",
    "    df['value'] = df.mean(axis=1)\n",
    "    df['std'] = df.std(axis=1)\n",
    "    display(df[['value','std']])    \n",
    "    \n",
    "    return y_prob, y_pred"
   ]
  },
  {
   "cell_type": "markdown",
   "id": "27a4fe0b",
   "metadata": {},
   "source": [
    "### Start"
   ]
  },
  {
   "cell_type": "code",
   "execution_count": 16,
   "id": "719ec6a1",
   "metadata": {},
   "outputs": [],
   "source": [
    "filepath = '/home/alysson/projects/Hotel-Booking-Cancelations/models/lgbm/lgbm_11-06-23.pkl'\n",
    "with open(filepath, 'rb') as file:\n",
    "    lgbm = pickle.load(file)"
   ]
  },
  {
   "cell_type": "code",
   "execution_count": 17,
   "id": "ebef60bd",
   "metadata": {},
   "outputs": [
    {
     "data": {
      "text/html": [
       "<style>#sk-container-id-1 {color: black;background-color: white;}#sk-container-id-1 pre{padding: 0;}#sk-container-id-1 div.sk-toggleable {background-color: white;}#sk-container-id-1 label.sk-toggleable__label {cursor: pointer;display: block;width: 100%;margin-bottom: 0;padding: 0.3em;box-sizing: border-box;text-align: center;}#sk-container-id-1 label.sk-toggleable__label-arrow:before {content: \"▸\";float: left;margin-right: 0.25em;color: #696969;}#sk-container-id-1 label.sk-toggleable__label-arrow:hover:before {color: black;}#sk-container-id-1 div.sk-estimator:hover label.sk-toggleable__label-arrow:before {color: black;}#sk-container-id-1 div.sk-toggleable__content {max-height: 0;max-width: 0;overflow: hidden;text-align: left;background-color: #f0f8ff;}#sk-container-id-1 div.sk-toggleable__content pre {margin: 0.2em;color: black;border-radius: 0.25em;background-color: #f0f8ff;}#sk-container-id-1 input.sk-toggleable__control:checked~div.sk-toggleable__content {max-height: 200px;max-width: 100%;overflow: auto;}#sk-container-id-1 input.sk-toggleable__control:checked~label.sk-toggleable__label-arrow:before {content: \"▾\";}#sk-container-id-1 div.sk-estimator input.sk-toggleable__control:checked~label.sk-toggleable__label {background-color: #d4ebff;}#sk-container-id-1 div.sk-label input.sk-toggleable__control:checked~label.sk-toggleable__label {background-color: #d4ebff;}#sk-container-id-1 input.sk-hidden--visually {border: 0;clip: rect(1px 1px 1px 1px);clip: rect(1px, 1px, 1px, 1px);height: 1px;margin: -1px;overflow: hidden;padding: 0;position: absolute;width: 1px;}#sk-container-id-1 div.sk-estimator {font-family: monospace;background-color: #f0f8ff;border: 1px dotted black;border-radius: 0.25em;box-sizing: border-box;margin-bottom: 0.5em;}#sk-container-id-1 div.sk-estimator:hover {background-color: #d4ebff;}#sk-container-id-1 div.sk-parallel-item::after {content: \"\";width: 100%;border-bottom: 1px solid gray;flex-grow: 1;}#sk-container-id-1 div.sk-label:hover label.sk-toggleable__label {background-color: #d4ebff;}#sk-container-id-1 div.sk-serial::before {content: \"\";position: absolute;border-left: 1px solid gray;box-sizing: border-box;top: 0;bottom: 0;left: 50%;z-index: 0;}#sk-container-id-1 div.sk-serial {display: flex;flex-direction: column;align-items: center;background-color: white;padding-right: 0.2em;padding-left: 0.2em;position: relative;}#sk-container-id-1 div.sk-item {position: relative;z-index: 1;}#sk-container-id-1 div.sk-parallel {display: flex;align-items: stretch;justify-content: center;background-color: white;position: relative;}#sk-container-id-1 div.sk-item::before, #sk-container-id-1 div.sk-parallel-item::before {content: \"\";position: absolute;border-left: 1px solid gray;box-sizing: border-box;top: 0;bottom: 0;left: 50%;z-index: -1;}#sk-container-id-1 div.sk-parallel-item {display: flex;flex-direction: column;z-index: 1;position: relative;background-color: white;}#sk-container-id-1 div.sk-parallel-item:first-child::after {align-self: flex-end;width: 50%;}#sk-container-id-1 div.sk-parallel-item:last-child::after {align-self: flex-start;width: 50%;}#sk-container-id-1 div.sk-parallel-item:only-child::after {width: 0;}#sk-container-id-1 div.sk-dashed-wrapped {border: 1px dashed gray;margin: 0 0.4em 0.5em 0.4em;box-sizing: border-box;padding-bottom: 0.4em;background-color: white;}#sk-container-id-1 div.sk-label label {font-family: monospace;font-weight: bold;display: inline-block;line-height: 1.2em;}#sk-container-id-1 div.sk-label-container {text-align: center;}#sk-container-id-1 div.sk-container {/* jupyter's `normalize.less` sets `[hidden] { display: none; }` but bootstrap.min.css set `[hidden] { display: none !important; }` so we also need the `!important` here to be able to override the default hidden behavior on the sphinx rendered scikit-learn.org. See: https://github.com/scikit-learn/scikit-learn/issues/21755 */display: inline-block !important;position: relative;}#sk-container-id-1 div.sk-text-repr-fallback {display: none;}</style><div id=\"sk-container-id-1\" class=\"sk-top-container\"><div class=\"sk-text-repr-fallback\"><pre>LGBMClassifier(learning_rate=0.075, max_depth=12, min_child_samples=1,\n",
       "               num_leaves=200, objective=&#x27;binary&#x27;, reg_alpha=0.002,\n",
       "               reg_lambda=0.25, scale_pos_weight=2.631, subsample_freq=2)</pre><b>In a Jupyter environment, please rerun this cell to show the HTML representation or trust the notebook. <br />On GitHub, the HTML representation is unable to render, please try loading this page with nbviewer.org.</b></div><div class=\"sk-container\" hidden><div class=\"sk-item\"><div class=\"sk-estimator sk-toggleable\"><input class=\"sk-toggleable__control sk-hidden--visually\" id=\"sk-estimator-id-1\" type=\"checkbox\" checked><label for=\"sk-estimator-id-1\" class=\"sk-toggleable__label sk-toggleable__label-arrow\">LGBMClassifier</label><div class=\"sk-toggleable__content\"><pre>LGBMClassifier(learning_rate=0.075, max_depth=12, min_child_samples=1,\n",
       "               num_leaves=200, objective=&#x27;binary&#x27;, reg_alpha=0.002,\n",
       "               reg_lambda=0.25, scale_pos_weight=2.631, subsample_freq=2)</pre></div></div></div></div></div>"
      ],
      "text/plain": [
       "LGBMClassifier(learning_rate=0.075, max_depth=12, min_child_samples=1,\n",
       "               num_leaves=200, objective='binary', reg_alpha=0.002,\n",
       "               reg_lambda=0.25, scale_pos_weight=2.631, subsample_freq=2)"
      ]
     },
     "execution_count": 17,
     "metadata": {},
     "output_type": "execute_result"
    }
   ],
   "source": [
    "lgbm"
   ]
  },
  {
   "cell_type": "code",
   "execution_count": 80,
   "id": "8cdd2a9e",
   "metadata": {},
   "outputs": [
    {
     "data": {
      "text/plain": [
       "<bound method LGBMModel.get_params of LGBMClassifier(learning_rate=0.075, max_depth=12, min_child_samples=1,\n",
       "               num_leaves=200, objective='binary', reg_alpha=0.002,\n",
       "               reg_lambda=0.25, scale_pos_weight=2.631, subsample_freq=2)>"
      ]
     },
     "execution_count": 80,
     "metadata": {},
     "output_type": "execute_result"
    }
   ],
   "source": [
    "lgbm.get_params"
   ]
  },
  {
   "cell_type": "code",
   "execution_count": 19,
   "id": "4fe73519",
   "metadata": {},
   "outputs": [],
   "source": [
    "run_params = {'objective': 'binary', \n",
    "              'boosting_type': 'gbdt', \n",
    "              'num_leaves': 220, \n",
    "              'max_depth': 7, \n",
    "              'learning_rate': 0.075, \n",
    "              'reg_alpha': 0.002, \n",
    "              'reg_lambda': 0.025, \n",
    "              'subsample_freq': 2, \n",
    "              'min_child_samples': 1, \n",
    "              'scale_pos_weight': 2.7}"
   ]
  },
  {
   "cell_type": "code",
   "execution_count": 20,
   "id": "7faaec29",
   "metadata": {},
   "outputs": [],
   "source": [
    "lgbm_model = LGBMClassifier(**run_params)"
   ]
  },
  {
   "cell_type": "code",
   "execution_count": 21,
   "id": "71b55fe0",
   "metadata": {},
   "outputs": [
    {
     "data": {
      "text/html": [
       "<div>\n",
       "<style scoped>\n",
       "    .dataframe tbody tr th:only-of-type {\n",
       "        vertical-align: middle;\n",
       "    }\n",
       "\n",
       "    .dataframe tbody tr th {\n",
       "        vertical-align: top;\n",
       "    }\n",
       "\n",
       "    .dataframe thead th {\n",
       "        text-align: right;\n",
       "    }\n",
       "</style>\n",
       "<table border=\"1\" class=\"dataframe\">\n",
       "  <thead>\n",
       "    <tr style=\"text-align: right;\">\n",
       "      <th></th>\n",
       "      <th>value</th>\n",
       "      <th>std</th>\n",
       "    </tr>\n",
       "  </thead>\n",
       "  <tbody>\n",
       "    <tr>\n",
       "      <th>fit_time</th>\n",
       "      <td>0.199953</td>\n",
       "      <td>0.030698</td>\n",
       "    </tr>\n",
       "    <tr>\n",
       "      <th>score_time</th>\n",
       "      <td>0.036689</td>\n",
       "      <td>0.001091</td>\n",
       "    </tr>\n",
       "    <tr>\n",
       "      <th>test_accuracy</th>\n",
       "      <td>0.770394</td>\n",
       "      <td>0.000744</td>\n",
       "    </tr>\n",
       "    <tr>\n",
       "      <th>train_accuracy</th>\n",
       "      <td>0.778649</td>\n",
       "      <td>0.000819</td>\n",
       "    </tr>\n",
       "    <tr>\n",
       "      <th>test_precision</th>\n",
       "      <td>0.551388</td>\n",
       "      <td>0.001167</td>\n",
       "    </tr>\n",
       "    <tr>\n",
       "      <th>train_precision</th>\n",
       "      <td>0.560657</td>\n",
       "      <td>0.001078</td>\n",
       "    </tr>\n",
       "    <tr>\n",
       "      <th>test_recall</th>\n",
       "      <td>0.891779</td>\n",
       "      <td>0.004210</td>\n",
       "    </tr>\n",
       "    <tr>\n",
       "      <th>train_recall</th>\n",
       "      <td>0.906691</td>\n",
       "      <td>0.001160</td>\n",
       "    </tr>\n",
       "    <tr>\n",
       "      <th>test_f1</th>\n",
       "      <td>0.681434</td>\n",
       "      <td>0.000486</td>\n",
       "    </tr>\n",
       "    <tr>\n",
       "      <th>train_f1</th>\n",
       "      <td>0.692872</td>\n",
       "      <td>0.000697</td>\n",
       "    </tr>\n",
       "    <tr>\n",
       "      <th>test_roc_auc</th>\n",
       "      <td>0.883305</td>\n",
       "      <td>0.002079</td>\n",
       "    </tr>\n",
       "    <tr>\n",
       "      <th>train_roc_auc</th>\n",
       "      <td>0.895955</td>\n",
       "      <td>0.000294</td>\n",
       "    </tr>\n",
       "  </tbody>\n",
       "</table>\n",
       "</div>"
      ],
      "text/plain": [
       "                    value       std\n",
       "fit_time         0.199953  0.030698\n",
       "score_time       0.036689  0.001091\n",
       "test_accuracy    0.770394  0.000744\n",
       "train_accuracy   0.778649  0.000819\n",
       "test_precision   0.551388  0.001167\n",
       "train_precision  0.560657  0.001078\n",
       "test_recall      0.891779  0.004210\n",
       "train_recall     0.906691  0.001160\n",
       "test_f1          0.681434  0.000486\n",
       "train_f1         0.692872  0.000697\n",
       "test_roc_auc     0.883305  0.002079\n",
       "train_roc_auc    0.895955  0.000294"
      ]
     },
     "metadata": {},
     "output_type": "display_data"
    }
   ],
   "source": [
    "lgbm_y_prob, lgbm_y_pred  = CVS(lgbm_model,X,y,'LightGBM')"
   ]
  },
  {
   "cell_type": "code",
   "execution_count": 22,
   "id": "ea127f16",
   "metadata": {},
   "outputs": [
    {
     "data": {
      "image/png": "[encoded data removed]",
      "text/plain": [
       "<Figure size 640x480 with 2 Axes>"
      ]
     },
     "metadata": {},
     "output_type": "display_data"
    },
    {
     "name": "stdout",
     "output_type": "stream",
     "text": [
      "Score: \n",
      "               precision    recall  f1-score   support\n",
      "\n",
      "           0       0.95      0.72      0.82     63220\n",
      "           1       0.55      0.89      0.68     24025\n",
      "\n",
      "    accuracy                           0.77     87245\n",
      "   macro avg       0.75      0.81      0.75     87245\n",
      "weighted avg       0.84      0.77      0.78     87245\n",
      "\n"
     ]
    }
   ],
   "source": [
    "CM(y, lgbm_y_pred, save=True)"
   ]
  },
  {
   "cell_type": "code",
   "execution_count": 23,
   "id": "00ef0769",
   "metadata": {},
   "outputs": [
    {
     "data": {
      "text/plain": [
       "{'Accuracy': 0.77,\n",
       " 'Precision': 0.551,\n",
       " 'Recall': 0.892,\n",
       " 'F1': 0.681,\n",
       " 'Auc': 0.808,\n",
       " 'Entropy': 0.427}"
      ]
     },
     "execution_count": 23,
     "metadata": {},
     "output_type": "execute_result"
    }
   ],
   "source": [
    "METRICS = get_metrics(y, lgbm_y_pred, lgbm_y_prob)"
   ]
  },
  {
   "cell_type": "code",
   "execution_count": 48,
   "id": "6f50c797",
   "metadata": {},
   "outputs": [],
   "source": [
    "X_train, X_val, y_train, y_val = train_test_split(X, y, test_size = 0.2, stratify=y, shuffle=True, random_state=RANDOM_SEED)\n",
    "X_train.shape, y_train.shape, X_val.shape, y_val.shape"
   ]
  },
  {
   "cell_type": "code",
   "execution_count": 107,
   "id": "f9116ae5",
   "metadata": {},
   "outputs": [],
   "source": [
    "data = data.astype({\"hotel\": 'str', \n",
    "                    \"is_canceled\": float,\n",
    "                    \"lead_time\": float, \n",
    "                    \"arrival_date_year\": float, \n",
    "                    \"arrival_date_month\": 'str', \n",
    "                    \"arrival_date_week_number\": float, \n",
    "                    \"arrival_date_day_of_month\": float, \n",
    "                    \"stays_in_weekend_nights\": float, \n",
    "                    \"stays_in_week_nights\": float, \n",
    "                    \"adults\": float, \n",
    "                    \"children\": float, \n",
    "                    \"babies\": float,\n",
    "                    \"meal\": 'str',\n",
    "                    \"country\": 'str', \n",
    "                    \"market_segment\": 'str', \n",
    "                    \"distribution_channel\": 'str',\n",
    "                    \"is_repeated_guest\": float, \n",
    "                    \"previous_cancellations\": float, \n",
    "                    \"previous_bookings_not_canceled\": float, \n",
    "                    \"reserved_room_type\": 'str', \n",
    "                    \"assigned_room_type\": 'str', \n",
    "                    \"booking_changes\": float,\n",
    "                    \"deposit_type\": 'str', \n",
    "                    \"agent\": float, \n",
    "                    \"company\": float, \n",
    "                    \"days_in_waiting_list\": float, \n",
    "                    \"customer_type\": 'str',\n",
    "                    \"adr\": float,\n",
    "                    \"required_car_parking_spaces\": float,\n",
    "                    \"total_of_special_requests\": float,\n",
    "                    \"reservation_status\": 'str',\n",
    "                    \"reservation_status_date\": 'str',\n",
    "                    \"people\": float,\n",
    "                    \"kids\": float,\n",
    "                    \"days_stay\": float,\n",
    "                    \"country_name\": 'str',\n",
    "                    \"continentes\": 'str'})"
   ]
  },
  {
   "cell_type": "code",
   "execution_count": 123,
   "id": "9e4d6f0f",
   "metadata": {},
   "outputs": [],
   "source": [
    "def create_experiment(experiment_name,\n",
    "                      description,\n",
    "                      run_name,\n",
    "                      run_metrics,                      \n",
    "                      model,\n",
    "                      registered_model_name,\n",
    "                      signature,\n",
    "                      run_params = None,\n",
    "                      confusion_matrix_path = None): \n",
    "\n",
    "    mlflow.set_tracking_uri(\"http://localhost:5000\") \n",
    "    mlflow.set_experiment(experiment_name)\n",
    "    experiment_id = mlflow.get_experiment_by_name(experiment_name).experiment_id\n",
    "    \n",
    "    \n",
    "    \n",
    "    with mlflow.start_run(run_name=run_name,description=description) as run:        \n",
    "    \n",
    "        X_train, X_val, y_train, y_val = train_test_split(X, y, test_size = 0.2, stratify=y, shuffle=True, random_state=RANDOM_SEED)\n",
    "        X_train.shape, y_train.shape, X_val.shape, y_val.shape\n",
    "        \n",
    "        model = LGBMClassifier(**run_params)\n",
    "        model.fit(X_train, y_train)\n",
    "\n",
    "        #Infer the model signature\n",
    "        y_pred = model.predict(X_val)       \n",
    "    \n",
    "\n",
    "        if not run_params == None:\n",
    "            for param in run_params:\n",
    "                mlflow.log_param(param, run_params[param])\n",
    "            \n",
    "        for metric in run_metrics:\n",
    "            mlflow.log_metric(metric, run_metrics[metric])       \n",
    " \n",
    "        if not confusion_matrix_path == None:\n",
    "            mlflow.log_artifact(MLFLOW_CONFUSION_MATRIX_PATH, 'confusion_matrix')\n",
    "            \n",
    "            \n",
    "        mlflow.set_tags({\"tag1\":\"nlsaldlasd\", \"tag2\":\"Production\"})\n",
    "        \n",
    "        \n",
    "        #mlflow.lightgbm.autolog()\n",
    "        \n",
    "        mlflow.sklearn.log_model(\n",
    "        sk_model=model,\n",
    "        artifact_path=\"sklearn-model\",\n",
    "        serialization_format=\"cloudpickle\",    \n",
    "        signature=signature,\n",
    "        registered_model_name=registered_model_name,\n",
    "    )\n",
    "        \n",
    "        \n",
    "        run_id = mlflow.active_run().info.run_id\n",
    "        \n",
    "    print(f'Run Name: {run_name}\\nRun id: {run_id}\\nExperiment Name: {experiment_name}\\nExperiment ID: {experiment_id}')"
   ]
  },
  {
   "cell_type": "markdown",
   "id": "ea608cdd",
   "metadata": {},
   "source": [
    "## Run Experiment"
   ]
  },
  {
   "cell_type": "code",
   "execution_count": 125,
   "id": "15472962",
   "metadata": {},
   "outputs": [],
   "source": [
    "experiment_name = 'Hotel Cancelations'\n",
    "description= 'Offline Running'\n",
    "run_name = 'LGBM'\n",
    "run_metrics = METRICS\n",
    "run_params = run_params\n",
    "model = lgbm\n",
    "registered_model_name = 'lgbmfinal'\n",
    "confusion_matrix_path = MLFLOW_CONFUSION_MATRIX_PATH\n",
    "signature = infer_signature(data[SELECTED_FEATURES], data[TARGET])"
   ]
  },
  {
   "cell_type": "code",
   "execution_count": 126,
   "id": "a109f698",
   "metadata": {},
   "outputs": [
    {
     "name": "stderr",
     "output_type": "stream",
     "text": [
      "Successfully registered model 'lgbmfinal'.\n",
      "2023/06/12 09:23:26 INFO mlflow.tracking._model_registry.client: Waiting up to 300 seconds for model version to finish creation. Model name: lgbmfinal, version 1\n"
     ]
    },
    {
     "name": "stdout",
     "output_type": "stream",
     "text": [
      "Run Name: LGBM\n",
      "Run id: 4022aa1f0d634d09a7882b4a3fd31aaf\n",
      "Experiment Name: Hotel Cancelations\n",
      "Experiment ID: 849774867254009182\n"
     ]
    },
    {
     "name": "stderr",
     "output_type": "stream",
     "text": [
      "Created version '1' of model 'lgbmfinal'.\n"
     ]
    }
   ],
   "source": [
    "create_experiment(experiment_name=experiment_name, \n",
    "                  description=description,\n",
    "                  run_name=run_name, \n",
    "                  run_metrics=run_metrics,\n",
    "                  model=model,\n",
    "                  registered_model_name=registered_model_name,\n",
    "                  signature=signature,\n",
    "                  run_params=run_params, \n",
    "                  confusion_matrix_path = confusion_matrix_path, \n",
    "                  )"
   ]
  },
  {
   "cell_type": "markdown",
   "id": "dfe9f505",
   "metadata": {},
   "source": [
    "## Register a Model using run_id"
   ]
  },
  {
   "cell_type": "code",
   "execution_count": 138,
   "id": "b2efeade",
   "metadata": {},
   "outputs": [
    {
     "name": "stderr",
     "output_type": "stream",
     "text": [
      "Successfully registered model 'lgbm2'.\n",
      "2023/06/12 09:31:34 INFO mlflow.tracking._model_registry.client: Waiting up to 300 seconds for model version to finish creation. Model name: lgbm2, version 1\n",
      "Created version '1' of model 'lgbm2'.\n"
     ]
    }
   ],
   "source": [
    "# import mlflow\n",
    "# with mlflow.start_run(run_name=run_name) as run:\n",
    "#     result = mlflow.register_model(\n",
    "#         \"runs:/165763a9ce3d4ef5926fb99346544ba9/model\",\n",
    "#         \"finalmodel\"\n",
    "#     )\n",
    "    \n",
    "#utro Jeito de registar o modelo\n",
    "result = mlflow.register_model(\n",
    "    \"runs:/4022aa1f0d634d09a7882b4a3fd31aaf/sklearn-model\", \"lgbm2\"\n",
    ")"
   ]
  },
  {
   "cell_type": "markdown",
   "id": "75c51a4f",
   "metadata": {},
   "source": [
    "## Register Other Models"
   ]
  },
  {
   "cell_type": "code",
   "execution_count": 73,
   "id": "48ea4278",
   "metadata": {},
   "outputs": [],
   "source": [
    "# import mlflow\n",
    "# client = mlflow.tracking.MlflowClient()\n",
    "# client.create_registered_model(\"basic-classifier-method-7\") #Cria um modelo pelado"
   ]
  },
  {
   "cell_type": "code",
   "execution_count": 72,
   "id": "17132b89",
   "metadata": {},
   "outputs": [],
   "source": [
    "# #the method below creates a new version of the model.\n",
    "# client = mlflow.tracking.MlflowClient()\n",
    "# result = client.create_model_version(\n",
    "#     name=\"basic-classifier-method-7\",\n",
    "#     source=\"165763a9ce3d4ef5926fb99346544ba9/artifacts/model\", \n",
    "#     run_id=\"165763a9ce3d4ef5926fb99346544ba9\" # Pega um run_id nos experimentos qjue você quer\n",
    "# )"
   ]
  },
  {
   "cell_type": "markdown",
   "id": "366688df",
   "metadata": {},
   "source": [
    "### Load Model and Predict"
   ]
  },
  {
   "cell_type": "code",
   "execution_count": 69,
   "id": "707db1c3",
   "metadata": {},
   "outputs": [
    {
     "name": "stdout",
     "output_type": "stream",
     "text": [
      "[0.80009376 0.27508141 0.02498051 ... 0.31701164 0.73889546 0.04081293]\n"
     ]
    }
   ],
   "source": [
    "model_name = \"Outro Modelo\"\n",
    "model_version = 1\n",
    "sklearn_model = mlflow.sklearn.load_model(model_uri=f\"models:/{model_name}/{model_version}\")\n",
    "sklearn_model.fit(X_train, y_train) \n",
    "y_pred_prob = sklearn_model.predict_proba(X_val)\n",
    "#print(y_pred_prob)\n",
    "print(y_pred_prob[:,1])"
   ]
  },
  {
   "cell_type": "markdown",
   "id": "55707bb3",
   "metadata": {},
   "source": [
    "### Mudando o stage do modelo"
   ]
  },
  {
   "cell_type": "code",
   "execution_count": 131,
   "id": "98db28da",
   "metadata": {},
   "outputs": [
    {
     "data": {
      "text/plain": [
       "<ModelVersion: aliases=[], creation_timestamp=1686572606164, current_stage='Production', description='', last_updated_timestamp=1686572889709, name='lgbmfinal', run_id='4022aa1f0d634d09a7882b4a3fd31aaf', run_link='', source='mlflow-artifacts:/849774867254009182/4022aa1f0d634d09a7882b4a3fd31aaf/artifacts/sklearn-model', status='READY', status_message='', tags={}, user_id='', version='1'>"
      ]
     },
     "execution_count": 131,
     "metadata": {},
     "output_type": "execute_result"
    }
   ],
   "source": [
    "#Jeito 1\n",
    "client = mlflow.tracking.MlflowClient()\n",
    "client.transition_model_version_stage(\n",
    "    name=\"lgbmfinal\",\n",
    "    version=1,\n",
    "    stage=\"Production\"\n",
    ")"
   ]
  },
  {
   "cell_type": "markdown",
   "id": "256fcdc9",
   "metadata": {},
   "source": [
    "### Predctin Local"
   ]
  },
  {
   "cell_type": "code",
   "execution_count": 144,
   "id": "b88ca892",
   "metadata": {},
   "outputs": [],
   "source": [
    "mlflow.set_tracking_uri(\"http://localhost:5000\")\n",
    "\n"
   ]
  },
  {
   "cell_type": "code",
   "execution_count": 151,
   "id": "ca380e01",
   "metadata": {},
   "outputs": [
    {
     "name": "stdout",
     "output_type": "stream",
     "text": [
      "Traceback (most recent call last):\r\n",
      "  File \"/home/alysson/.local/bin/mlflow\", line 8, in <module>\r\n",
      "    sys.exit(cli())\r\n",
      "  File \"/usr/lib/python3/dist-packages/click/core.py\", line 1128, in __call__\r\n",
      "    return self.main(*args, **kwargs)\r\n",
      "  File \"/usr/lib/python3/dist-packages/click/core.py\", line 1053, in main\r\n",
      "    rv = self.invoke(ctx)\r\n",
      "  File \"/usr/lib/python3/dist-packages/click/core.py\", line 1659, in invoke\r\n",
      "    return _process_result(sub_ctx.command.invoke(sub_ctx))\r\n",
      "  File \"/usr/lib/python3/dist-packages/click/core.py\", line 1659, in invoke\r\n",
      "    return _process_result(sub_ctx.command.invoke(sub_ctx))\r\n",
      "  File \"/usr/lib/python3/dist-packages/click/core.py\", line 1395, in invoke\r\n",
      "    return ctx.invoke(self.callback, **ctx.params)\r\n",
      "  File \"/usr/lib/python3/dist-packages/click/core.py\", line 754, in invoke\r\n",
      "    return __callback(*args, **kwargs)\r\n",
      "  File \"/home/alysson/.local/lib/python3.10/site-packages/mlflow/models/cli.py\", line 105, in serve\r\n",
      "    return get_flavor_backend(\r\n",
      "  File \"/home/alysson/.local/lib/python3.10/site-packages/mlflow/models/flavor_backend_registry.py\", line 42, in get_flavor_backend\r\n",
      "    underlying_model_uri = ModelsArtifactRepository.get_underlying_uri(model_uri)\r\n",
      "  File \"/home/alysson/.local/lib/python3.10/site-packages/mlflow/store/artifact/models_artifact_repo.py\", line 78, in get_underlying_uri\r\n",
      "    (name, version) = get_model_name_and_version(client, uri)\r\n",
      "  File \"/home/alysson/.local/lib/python3.10/site-packages/mlflow/store/artifact/utils/models.py\", line 94, in get_model_name_and_version\r\n",
      "    return model_name, str(_get_latest_model_version(client, model_name, model_stage))\r\n",
      "  File \"/home/alysson/.local/lib/python3.10/site-packages/mlflow/store/artifact/utils/models.py\", line 32, in _get_latest_model_version\r\n",
      "    latest = client.get_latest_versions(name, None if stage is None else [stage])\r\n",
      "  File \"/home/alysson/.local/lib/python3.10/site-packages/mlflow/tracking/client.py\", line 2425, in get_latest_versions\r\n",
      "    return self._get_registry_client().get_latest_versions(name, stages)\r\n",
      "  File \"/home/alysson/.local/lib/python3.10/site-packages/mlflow/tracking/_model_registry/client.py\", line 140, in get_latest_versions\r\n",
      "    return self.store.get_latest_versions(name, stages)\r\n",
      "  File \"/home/alysson/.local/lib/python3.10/site-packages/mlflow/store/model_registry/file_store.py\", line 363, in get_latest_versions\r\n",
      "    raise MlflowException(\r\n",
      "mlflow.exceptions.MlflowException: Registered Model with name=lgbmfinal not found\r\n"
     ]
    }
   ],
   "source": [
    "!mlflow models serve --model-uri models:/lgbmfinal/Production -p 1234 --no-conda"
   ]
  },
  {
   "cell_type": "code",
   "execution_count": 153,
   "id": "accaa28b",
   "metadata": {},
   "outputs": [
    {
     "name": "stdout",
     "output_type": "stream",
     "text": [
      "Traceback (most recent call last):\r\n",
      "  File \"/home/alysson/.local/bin/mlflow\", line 8, in <module>\r\n",
      "    sys.exit(cli())\r\n",
      "  File \"/usr/lib/python3/dist-packages/click/core.py\", line 1128, in __call__\r\n",
      "    return self.main(*args, **kwargs)\r\n",
      "  File \"/usr/lib/python3/dist-packages/click/core.py\", line 1053, in main\r\n",
      "    rv = self.invoke(ctx)\r\n",
      "  File \"/usr/lib/python3/dist-packages/click/core.py\", line 1659, in invoke\r\n",
      "    return _process_result(sub_ctx.command.invoke(sub_ctx))\r\n",
      "  File \"/usr/lib/python3/dist-packages/click/core.py\", line 1659, in invoke\r\n",
      "    return _process_result(sub_ctx.command.invoke(sub_ctx))\r\n",
      "  File \"/usr/lib/python3/dist-packages/click/core.py\", line 1395, in invoke\r\n",
      "    return ctx.invoke(self.callback, **ctx.params)\r\n",
      "  File \"/usr/lib/python3/dist-packages/click/core.py\", line 754, in invoke\r\n",
      "    return __callback(*args, **kwargs)\r\n",
      "  File \"/home/alysson/.local/lib/python3.10/site-packages/mlflow/models/cli.py\", line 105, in serve\r\n",
      "    return get_flavor_backend(\r\n",
      "  File \"/home/alysson/.local/lib/python3.10/site-packages/mlflow/models/flavor_backend_registry.py\", line 42, in get_flavor_backend\r\n",
      "    underlying_model_uri = ModelsArtifactRepository.get_underlying_uri(model_uri)\r\n",
      "  File \"/home/alysson/.local/lib/python3.10/site-packages/mlflow/store/artifact/models_artifact_repo.py\", line 79, in get_underlying_uri\r\n",
      "    download_uri = client.get_model_version_download_uri(name, version)\r\n",
      "  File \"/home/alysson/.local/lib/python3.10/site-packages/mlflow/tracking/client.py\", line 2981, in get_model_version_download_uri\r\n",
      "    return self._get_registry_client().get_model_version_download_uri(name, version)\r\n",
      "  File \"/home/alysson/.local/lib/python3.10/site-packages/mlflow/tracking/_model_registry/client.py\", line 274, in get_model_version_download_uri\r\n",
      "    return self.store.get_model_version_download_uri(name, version)\r\n",
      "  File \"/home/alysson/.local/lib/python3.10/site-packages/mlflow/store/model_registry/file_store.py\", line 711, in get_model_version_download_uri\r\n",
      "    model_version = self.get_model_version(name, version)\r\n",
      "  File \"/home/alysson/.local/lib/python3.10/site-packages/mlflow/store/model_registry/file_store.py\", line 699, in get_model_version\r\n",
      "    return self._fetch_model_version_if_exists(name, version)\r\n",
      "  File \"/home/alysson/.local/lib/python3.10/site-packages/mlflow/store/model_registry/file_store.py\", line 675, in _fetch_model_version_if_exists\r\n",
      "    registered_model_version_dir = self._get_model_version_dir(name, version)\r\n",
      "  File \"/home/alysson/.local/lib/python3.10/site-packages/mlflow/store/model_registry/file_store.py\", line 493, in _get_model_version_dir\r\n",
      "    raise MlflowException(\r\n",
      "mlflow.exceptions.MlflowException: Registered Model with name=lgbmfinal not found\r\n"
     ]
    }
   ],
   "source": [
    "!mlflow models serve --model-uri models:/lgbmfinal/1 --port 1234 --no-conda"
   ]
  },
  {
   "cell_type": "code",
   "execution_count": 158,
   "id": "529ecbde",
   "metadata": {},
   "outputs": [
    {
     "name": "stdout",
     "output_type": "stream",
     "text": [
      "Usage: mlflow models [OPTIONS] COMMAND [ARGS]...\r\n",
      "Try 'mlflow models --help' for help.\r\n",
      "\r\n",
      "Error: No such option: -m\r\n"
     ]
    }
   ],
   "source": [
    "!mlflow models -m serve"
   ]
  },
  {
   "cell_type": "code",
   "execution_count": 96,
   "id": "8b2b6a1d",
   "metadata": {},
   "outputs": [
    {
     "ename": "ConnectionError",
     "evalue": "HTTPConnectionPool(host='localhost', port=1234): Max retries exceeded with url: /invocations (Caused by NewConnectionError('<urllib3.connection.HTTPConnection object at 0x7fecc4e82260>: Failed to establish a new connection: [Errno 111] Connection refused'))",
     "output_type": "error",
     "traceback": [
      "\u001b[0;31m---------------------------------------------------------------------------\u001b[0m",
      "\u001b[0;31mConnectionRefusedError\u001b[0m                    Traceback (most recent call last)",
      "File \u001b[0;32m~/.local/lib/python3.10/site-packages/urllib3/connection.py:174\u001b[0m, in \u001b[0;36mHTTPConnection._new_conn\u001b[0;34m(self)\u001b[0m\n\u001b[1;32m    173\u001b[0m \u001b[38;5;28;01mtry\u001b[39;00m:\n\u001b[0;32m--> 174\u001b[0m     conn \u001b[38;5;241m=\u001b[39m \u001b[43mconnection\u001b[49m\u001b[38;5;241;43m.\u001b[39;49m\u001b[43mcreate_connection\u001b[49m\u001b[43m(\u001b[49m\n\u001b[1;32m    175\u001b[0m \u001b[43m        \u001b[49m\u001b[43m(\u001b[49m\u001b[38;5;28;43mself\u001b[39;49m\u001b[38;5;241;43m.\u001b[39;49m\u001b[43m_dns_host\u001b[49m\u001b[43m,\u001b[49m\u001b[43m \u001b[49m\u001b[38;5;28;43mself\u001b[39;49m\u001b[38;5;241;43m.\u001b[39;49m\u001b[43mport\u001b[49m\u001b[43m)\u001b[49m\u001b[43m,\u001b[49m\u001b[43m \u001b[49m\u001b[38;5;28;43mself\u001b[39;49m\u001b[38;5;241;43m.\u001b[39;49m\u001b[43mtimeout\u001b[49m\u001b[43m,\u001b[49m\u001b[43m \u001b[49m\u001b[38;5;241;43m*\u001b[39;49m\u001b[38;5;241;43m*\u001b[39;49m\u001b[43mextra_kw\u001b[49m\n\u001b[1;32m    176\u001b[0m \u001b[43m    \u001b[49m\u001b[43m)\u001b[49m\n\u001b[1;32m    178\u001b[0m \u001b[38;5;28;01mexcept\u001b[39;00m SocketTimeout:\n",
      "File \u001b[0;32m~/.local/lib/python3.10/site-packages/urllib3/util/connection.py:95\u001b[0m, in \u001b[0;36mcreate_connection\u001b[0;34m(address, timeout, source_address, socket_options)\u001b[0m\n\u001b[1;32m     94\u001b[0m \u001b[38;5;28;01mif\u001b[39;00m err \u001b[38;5;129;01mis\u001b[39;00m \u001b[38;5;129;01mnot\u001b[39;00m \u001b[38;5;28;01mNone\u001b[39;00m:\n\u001b[0;32m---> 95\u001b[0m     \u001b[38;5;28;01mraise\u001b[39;00m err\n\u001b[1;32m     97\u001b[0m \u001b[38;5;28;01mraise\u001b[39;00m socket\u001b[38;5;241m.\u001b[39merror(\u001b[38;5;124m\"\u001b[39m\u001b[38;5;124mgetaddrinfo returns an empty list\u001b[39m\u001b[38;5;124m\"\u001b[39m)\n",
      "File \u001b[0;32m~/.local/lib/python3.10/site-packages/urllib3/util/connection.py:85\u001b[0m, in \u001b[0;36mcreate_connection\u001b[0;34m(address, timeout, source_address, socket_options)\u001b[0m\n\u001b[1;32m     84\u001b[0m     sock\u001b[38;5;241m.\u001b[39mbind(source_address)\n\u001b[0;32m---> 85\u001b[0m \u001b[43msock\u001b[49m\u001b[38;5;241;43m.\u001b[39;49m\u001b[43mconnect\u001b[49m\u001b[43m(\u001b[49m\u001b[43msa\u001b[49m\u001b[43m)\u001b[49m\n\u001b[1;32m     86\u001b[0m \u001b[38;5;28;01mreturn\u001b[39;00m sock\n",
      "\u001b[0;31mConnectionRefusedError\u001b[0m: [Errno 111] Connection refused",
      "\nDuring handling of the above exception, another exception occurred:\n",
      "\u001b[0;31mNewConnectionError\u001b[0m                        Traceback (most recent call last)",
      "File \u001b[0;32m~/.local/lib/python3.10/site-packages/urllib3/connectionpool.py:714\u001b[0m, in \u001b[0;36mHTTPConnectionPool.urlopen\u001b[0;34m(self, method, url, body, headers, retries, redirect, assert_same_host, timeout, pool_timeout, release_conn, chunked, body_pos, **response_kw)\u001b[0m\n\u001b[1;32m    713\u001b[0m \u001b[38;5;66;03m# Make the request on the httplib connection object.\u001b[39;00m\n\u001b[0;32m--> 714\u001b[0m httplib_response \u001b[38;5;241m=\u001b[39m \u001b[38;5;28;43mself\u001b[39;49m\u001b[38;5;241;43m.\u001b[39;49m\u001b[43m_make_request\u001b[49m\u001b[43m(\u001b[49m\n\u001b[1;32m    715\u001b[0m \u001b[43m    \u001b[49m\u001b[43mconn\u001b[49m\u001b[43m,\u001b[49m\n\u001b[1;32m    716\u001b[0m \u001b[43m    \u001b[49m\u001b[43mmethod\u001b[49m\u001b[43m,\u001b[49m\n\u001b[1;32m    717\u001b[0m \u001b[43m    \u001b[49m\u001b[43murl\u001b[49m\u001b[43m,\u001b[49m\n\u001b[1;32m    718\u001b[0m \u001b[43m    \u001b[49m\u001b[43mtimeout\u001b[49m\u001b[38;5;241;43m=\u001b[39;49m\u001b[43mtimeout_obj\u001b[49m\u001b[43m,\u001b[49m\n\u001b[1;32m    719\u001b[0m \u001b[43m    \u001b[49m\u001b[43mbody\u001b[49m\u001b[38;5;241;43m=\u001b[39;49m\u001b[43mbody\u001b[49m\u001b[43m,\u001b[49m\n\u001b[1;32m    720\u001b[0m \u001b[43m    \u001b[49m\u001b[43mheaders\u001b[49m\u001b[38;5;241;43m=\u001b[39;49m\u001b[43mheaders\u001b[49m\u001b[43m,\u001b[49m\n\u001b[1;32m    721\u001b[0m \u001b[43m    \u001b[49m\u001b[43mchunked\u001b[49m\u001b[38;5;241;43m=\u001b[39;49m\u001b[43mchunked\u001b[49m\u001b[43m,\u001b[49m\n\u001b[1;32m    722\u001b[0m \u001b[43m\u001b[49m\u001b[43m)\u001b[49m\n\u001b[1;32m    724\u001b[0m \u001b[38;5;66;03m# If we're going to release the connection in ``finally:``, then\u001b[39;00m\n\u001b[1;32m    725\u001b[0m \u001b[38;5;66;03m# the response doesn't need to know about the connection. Otherwise\u001b[39;00m\n\u001b[1;32m    726\u001b[0m \u001b[38;5;66;03m# it will also try to release it and we'll have a double-release\u001b[39;00m\n\u001b[1;32m    727\u001b[0m \u001b[38;5;66;03m# mess.\u001b[39;00m\n",
      "File \u001b[0;32m~/.local/lib/python3.10/site-packages/urllib3/connectionpool.py:415\u001b[0m, in \u001b[0;36mHTTPConnectionPool._make_request\u001b[0;34m(self, conn, method, url, timeout, chunked, **httplib_request_kw)\u001b[0m\n\u001b[1;32m    414\u001b[0m     \u001b[38;5;28;01melse\u001b[39;00m:\n\u001b[0;32m--> 415\u001b[0m         \u001b[43mconn\u001b[49m\u001b[38;5;241;43m.\u001b[39;49m\u001b[43mrequest\u001b[49m\u001b[43m(\u001b[49m\u001b[43mmethod\u001b[49m\u001b[43m,\u001b[49m\u001b[43m \u001b[49m\u001b[43murl\u001b[49m\u001b[43m,\u001b[49m\u001b[43m \u001b[49m\u001b[38;5;241;43m*\u001b[39;49m\u001b[38;5;241;43m*\u001b[39;49m\u001b[43mhttplib_request_kw\u001b[49m\u001b[43m)\u001b[49m\n\u001b[1;32m    417\u001b[0m \u001b[38;5;66;03m# We are swallowing BrokenPipeError (errno.EPIPE) since the server is\u001b[39;00m\n\u001b[1;32m    418\u001b[0m \u001b[38;5;66;03m# legitimately able to close the connection after sending a valid response.\u001b[39;00m\n\u001b[1;32m    419\u001b[0m \u001b[38;5;66;03m# With this behaviour, the received response is still readable.\u001b[39;00m\n",
      "File \u001b[0;32m~/.local/lib/python3.10/site-packages/urllib3/connection.py:244\u001b[0m, in \u001b[0;36mHTTPConnection.request\u001b[0;34m(self, method, url, body, headers)\u001b[0m\n\u001b[1;32m    243\u001b[0m     headers[\u001b[38;5;124m\"\u001b[39m\u001b[38;5;124mUser-Agent\u001b[39m\u001b[38;5;124m\"\u001b[39m] \u001b[38;5;241m=\u001b[39m _get_default_user_agent()\n\u001b[0;32m--> 244\u001b[0m \u001b[38;5;28;43msuper\u001b[39;49m\u001b[43m(\u001b[49m\u001b[43mHTTPConnection\u001b[49m\u001b[43m,\u001b[49m\u001b[43m \u001b[49m\u001b[38;5;28;43mself\u001b[39;49m\u001b[43m)\u001b[49m\u001b[38;5;241;43m.\u001b[39;49m\u001b[43mrequest\u001b[49m\u001b[43m(\u001b[49m\u001b[43mmethod\u001b[49m\u001b[43m,\u001b[49m\u001b[43m \u001b[49m\u001b[43murl\u001b[49m\u001b[43m,\u001b[49m\u001b[43m \u001b[49m\u001b[43mbody\u001b[49m\u001b[38;5;241;43m=\u001b[39;49m\u001b[43mbody\u001b[49m\u001b[43m,\u001b[49m\u001b[43m \u001b[49m\u001b[43mheaders\u001b[49m\u001b[38;5;241;43m=\u001b[39;49m\u001b[43mheaders\u001b[49m\u001b[43m)\u001b[49m\n",
      "File \u001b[0;32m/usr/lib/python3.10/http/client.py:1282\u001b[0m, in \u001b[0;36mHTTPConnection.request\u001b[0;34m(self, method, url, body, headers, encode_chunked)\u001b[0m\n\u001b[1;32m   1281\u001b[0m \u001b[38;5;124;03m\"\"\"Send a complete request to the server.\"\"\"\u001b[39;00m\n\u001b[0;32m-> 1282\u001b[0m \u001b[38;5;28;43mself\u001b[39;49m\u001b[38;5;241;43m.\u001b[39;49m\u001b[43m_send_request\u001b[49m\u001b[43m(\u001b[49m\u001b[43mmethod\u001b[49m\u001b[43m,\u001b[49m\u001b[43m \u001b[49m\u001b[43murl\u001b[49m\u001b[43m,\u001b[49m\u001b[43m \u001b[49m\u001b[43mbody\u001b[49m\u001b[43m,\u001b[49m\u001b[43m \u001b[49m\u001b[43mheaders\u001b[49m\u001b[43m,\u001b[49m\u001b[43m \u001b[49m\u001b[43mencode_chunked\u001b[49m\u001b[43m)\u001b[49m\n",
      "File \u001b[0;32m/usr/lib/python3.10/http/client.py:1328\u001b[0m, in \u001b[0;36mHTTPConnection._send_request\u001b[0;34m(self, method, url, body, headers, encode_chunked)\u001b[0m\n\u001b[1;32m   1327\u001b[0m     body \u001b[38;5;241m=\u001b[39m _encode(body, \u001b[38;5;124m'\u001b[39m\u001b[38;5;124mbody\u001b[39m\u001b[38;5;124m'\u001b[39m)\n\u001b[0;32m-> 1328\u001b[0m \u001b[38;5;28;43mself\u001b[39;49m\u001b[38;5;241;43m.\u001b[39;49m\u001b[43mendheaders\u001b[49m\u001b[43m(\u001b[49m\u001b[43mbody\u001b[49m\u001b[43m,\u001b[49m\u001b[43m \u001b[49m\u001b[43mencode_chunked\u001b[49m\u001b[38;5;241;43m=\u001b[39;49m\u001b[43mencode_chunked\u001b[49m\u001b[43m)\u001b[49m\n",
      "File \u001b[0;32m/usr/lib/python3.10/http/client.py:1277\u001b[0m, in \u001b[0;36mHTTPConnection.endheaders\u001b[0;34m(self, message_body, encode_chunked)\u001b[0m\n\u001b[1;32m   1276\u001b[0m     \u001b[38;5;28;01mraise\u001b[39;00m CannotSendHeader()\n\u001b[0;32m-> 1277\u001b[0m \u001b[38;5;28;43mself\u001b[39;49m\u001b[38;5;241;43m.\u001b[39;49m\u001b[43m_send_output\u001b[49m\u001b[43m(\u001b[49m\u001b[43mmessage_body\u001b[49m\u001b[43m,\u001b[49m\u001b[43m \u001b[49m\u001b[43mencode_chunked\u001b[49m\u001b[38;5;241;43m=\u001b[39;49m\u001b[43mencode_chunked\u001b[49m\u001b[43m)\u001b[49m\n",
      "File \u001b[0;32m/usr/lib/python3.10/http/client.py:1037\u001b[0m, in \u001b[0;36mHTTPConnection._send_output\u001b[0;34m(self, message_body, encode_chunked)\u001b[0m\n\u001b[1;32m   1036\u001b[0m \u001b[38;5;28;01mdel\u001b[39;00m \u001b[38;5;28mself\u001b[39m\u001b[38;5;241m.\u001b[39m_buffer[:]\n\u001b[0;32m-> 1037\u001b[0m \u001b[38;5;28;43mself\u001b[39;49m\u001b[38;5;241;43m.\u001b[39;49m\u001b[43msend\u001b[49m\u001b[43m(\u001b[49m\u001b[43mmsg\u001b[49m\u001b[43m)\u001b[49m\n\u001b[1;32m   1039\u001b[0m \u001b[38;5;28;01mif\u001b[39;00m message_body \u001b[38;5;129;01mis\u001b[39;00m \u001b[38;5;129;01mnot\u001b[39;00m \u001b[38;5;28;01mNone\u001b[39;00m:\n\u001b[1;32m   1040\u001b[0m \n\u001b[1;32m   1041\u001b[0m     \u001b[38;5;66;03m# create a consistent interface to message_body\u001b[39;00m\n",
      "File \u001b[0;32m/usr/lib/python3.10/http/client.py:975\u001b[0m, in \u001b[0;36mHTTPConnection.send\u001b[0;34m(self, data)\u001b[0m\n\u001b[1;32m    974\u001b[0m \u001b[38;5;28;01mif\u001b[39;00m \u001b[38;5;28mself\u001b[39m\u001b[38;5;241m.\u001b[39mauto_open:\n\u001b[0;32m--> 975\u001b[0m     \u001b[38;5;28;43mself\u001b[39;49m\u001b[38;5;241;43m.\u001b[39;49m\u001b[43mconnect\u001b[49m\u001b[43m(\u001b[49m\u001b[43m)\u001b[49m\n\u001b[1;32m    976\u001b[0m \u001b[38;5;28;01melse\u001b[39;00m:\n",
      "File \u001b[0;32m~/.local/lib/python3.10/site-packages/urllib3/connection.py:205\u001b[0m, in \u001b[0;36mHTTPConnection.connect\u001b[0;34m(self)\u001b[0m\n\u001b[1;32m    204\u001b[0m \u001b[38;5;28;01mdef\u001b[39;00m \u001b[38;5;21mconnect\u001b[39m(\u001b[38;5;28mself\u001b[39m):\n\u001b[0;32m--> 205\u001b[0m     conn \u001b[38;5;241m=\u001b[39m \u001b[38;5;28;43mself\u001b[39;49m\u001b[38;5;241;43m.\u001b[39;49m\u001b[43m_new_conn\u001b[49m\u001b[43m(\u001b[49m\u001b[43m)\u001b[49m\n\u001b[1;32m    206\u001b[0m     \u001b[38;5;28mself\u001b[39m\u001b[38;5;241m.\u001b[39m_prepare_conn(conn)\n",
      "File \u001b[0;32m~/.local/lib/python3.10/site-packages/urllib3/connection.py:186\u001b[0m, in \u001b[0;36mHTTPConnection._new_conn\u001b[0;34m(self)\u001b[0m\n\u001b[1;32m    185\u001b[0m \u001b[38;5;28;01mexcept\u001b[39;00m SocketError \u001b[38;5;28;01mas\u001b[39;00m e:\n\u001b[0;32m--> 186\u001b[0m     \u001b[38;5;28;01mraise\u001b[39;00m NewConnectionError(\n\u001b[1;32m    187\u001b[0m         \u001b[38;5;28mself\u001b[39m, \u001b[38;5;124m\"\u001b[39m\u001b[38;5;124mFailed to establish a new connection: \u001b[39m\u001b[38;5;132;01m%s\u001b[39;00m\u001b[38;5;124m\"\u001b[39m \u001b[38;5;241m%\u001b[39m e\n\u001b[1;32m    188\u001b[0m     )\n\u001b[1;32m    190\u001b[0m \u001b[38;5;28;01mreturn\u001b[39;00m conn\n",
      "\u001b[0;31mNewConnectionError\u001b[0m: <urllib3.connection.HTTPConnection object at 0x7fecc4e82260>: Failed to establish a new connection: [Errno 111] Connection refused",
      "\nDuring handling of the above exception, another exception occurred:\n",
      "\u001b[0;31mMaxRetryError\u001b[0m                             Traceback (most recent call last)",
      "File \u001b[0;32m/usr/lib/python3/dist-packages/requests/adapters.py:439\u001b[0m, in \u001b[0;36mHTTPAdapter.send\u001b[0;34m(self, request, stream, timeout, verify, cert, proxies)\u001b[0m\n\u001b[1;32m    438\u001b[0m \u001b[38;5;28;01mif\u001b[39;00m \u001b[38;5;129;01mnot\u001b[39;00m chunked:\n\u001b[0;32m--> 439\u001b[0m     resp \u001b[38;5;241m=\u001b[39m \u001b[43mconn\u001b[49m\u001b[38;5;241;43m.\u001b[39;49m\u001b[43murlopen\u001b[49m\u001b[43m(\u001b[49m\n\u001b[1;32m    440\u001b[0m \u001b[43m        \u001b[49m\u001b[43mmethod\u001b[49m\u001b[38;5;241;43m=\u001b[39;49m\u001b[43mrequest\u001b[49m\u001b[38;5;241;43m.\u001b[39;49m\u001b[43mmethod\u001b[49m\u001b[43m,\u001b[49m\n\u001b[1;32m    441\u001b[0m \u001b[43m        \u001b[49m\u001b[43murl\u001b[49m\u001b[38;5;241;43m=\u001b[39;49m\u001b[43murl\u001b[49m\u001b[43m,\u001b[49m\n\u001b[1;32m    442\u001b[0m \u001b[43m        \u001b[49m\u001b[43mbody\u001b[49m\u001b[38;5;241;43m=\u001b[39;49m\u001b[43mrequest\u001b[49m\u001b[38;5;241;43m.\u001b[39;49m\u001b[43mbody\u001b[49m\u001b[43m,\u001b[49m\n\u001b[1;32m    443\u001b[0m \u001b[43m        \u001b[49m\u001b[43mheaders\u001b[49m\u001b[38;5;241;43m=\u001b[39;49m\u001b[43mrequest\u001b[49m\u001b[38;5;241;43m.\u001b[39;49m\u001b[43mheaders\u001b[49m\u001b[43m,\u001b[49m\n\u001b[1;32m    444\u001b[0m \u001b[43m        \u001b[49m\u001b[43mredirect\u001b[49m\u001b[38;5;241;43m=\u001b[39;49m\u001b[38;5;28;43;01mFalse\u001b[39;49;00m\u001b[43m,\u001b[49m\n\u001b[1;32m    445\u001b[0m \u001b[43m        \u001b[49m\u001b[43massert_same_host\u001b[49m\u001b[38;5;241;43m=\u001b[39;49m\u001b[38;5;28;43;01mFalse\u001b[39;49;00m\u001b[43m,\u001b[49m\n\u001b[1;32m    446\u001b[0m \u001b[43m        \u001b[49m\u001b[43mpreload_content\u001b[49m\u001b[38;5;241;43m=\u001b[39;49m\u001b[38;5;28;43;01mFalse\u001b[39;49;00m\u001b[43m,\u001b[49m\n\u001b[1;32m    447\u001b[0m \u001b[43m        \u001b[49m\u001b[43mdecode_content\u001b[49m\u001b[38;5;241;43m=\u001b[39;49m\u001b[38;5;28;43;01mFalse\u001b[39;49;00m\u001b[43m,\u001b[49m\n\u001b[1;32m    448\u001b[0m \u001b[43m        \u001b[49m\u001b[43mretries\u001b[49m\u001b[38;5;241;43m=\u001b[39;49m\u001b[38;5;28;43mself\u001b[39;49m\u001b[38;5;241;43m.\u001b[39;49m\u001b[43mmax_retries\u001b[49m\u001b[43m,\u001b[49m\n\u001b[1;32m    449\u001b[0m \u001b[43m        \u001b[49m\u001b[43mtimeout\u001b[49m\u001b[38;5;241;43m=\u001b[39;49m\u001b[43mtimeout\u001b[49m\n\u001b[1;32m    450\u001b[0m \u001b[43m    \u001b[49m\u001b[43m)\u001b[49m\n\u001b[1;32m    452\u001b[0m \u001b[38;5;66;03m# Send the request.\u001b[39;00m\n\u001b[1;32m    453\u001b[0m \u001b[38;5;28;01melse\u001b[39;00m:\n",
      "File \u001b[0;32m~/.local/lib/python3.10/site-packages/urllib3/connectionpool.py:798\u001b[0m, in \u001b[0;36mHTTPConnectionPool.urlopen\u001b[0;34m(self, method, url, body, headers, retries, redirect, assert_same_host, timeout, pool_timeout, release_conn, chunked, body_pos, **response_kw)\u001b[0m\n\u001b[1;32m    796\u001b[0m     e \u001b[38;5;241m=\u001b[39m ProtocolError(\u001b[38;5;124m\"\u001b[39m\u001b[38;5;124mConnection aborted.\u001b[39m\u001b[38;5;124m\"\u001b[39m, e)\n\u001b[0;32m--> 798\u001b[0m retries \u001b[38;5;241m=\u001b[39m \u001b[43mretries\u001b[49m\u001b[38;5;241;43m.\u001b[39;49m\u001b[43mincrement\u001b[49m\u001b[43m(\u001b[49m\n\u001b[1;32m    799\u001b[0m \u001b[43m    \u001b[49m\u001b[43mmethod\u001b[49m\u001b[43m,\u001b[49m\u001b[43m \u001b[49m\u001b[43murl\u001b[49m\u001b[43m,\u001b[49m\u001b[43m \u001b[49m\u001b[43merror\u001b[49m\u001b[38;5;241;43m=\u001b[39;49m\u001b[43me\u001b[49m\u001b[43m,\u001b[49m\u001b[43m \u001b[49m\u001b[43m_pool\u001b[49m\u001b[38;5;241;43m=\u001b[39;49m\u001b[38;5;28;43mself\u001b[39;49m\u001b[43m,\u001b[49m\u001b[43m \u001b[49m\u001b[43m_stacktrace\u001b[49m\u001b[38;5;241;43m=\u001b[39;49m\u001b[43msys\u001b[49m\u001b[38;5;241;43m.\u001b[39;49m\u001b[43mexc_info\u001b[49m\u001b[43m(\u001b[49m\u001b[43m)\u001b[49m\u001b[43m[\u001b[49m\u001b[38;5;241;43m2\u001b[39;49m\u001b[43m]\u001b[49m\n\u001b[1;32m    800\u001b[0m \u001b[43m\u001b[49m\u001b[43m)\u001b[49m\n\u001b[1;32m    801\u001b[0m retries\u001b[38;5;241m.\u001b[39msleep()\n",
      "File \u001b[0;32m~/.local/lib/python3.10/site-packages/urllib3/util/retry.py:592\u001b[0m, in \u001b[0;36mRetry.increment\u001b[0;34m(self, method, url, response, error, _pool, _stacktrace)\u001b[0m\n\u001b[1;32m    591\u001b[0m \u001b[38;5;28;01mif\u001b[39;00m new_retry\u001b[38;5;241m.\u001b[39mis_exhausted():\n\u001b[0;32m--> 592\u001b[0m     \u001b[38;5;28;01mraise\u001b[39;00m MaxRetryError(_pool, url, error \u001b[38;5;129;01mor\u001b[39;00m ResponseError(cause))\n\u001b[1;32m    594\u001b[0m log\u001b[38;5;241m.\u001b[39mdebug(\u001b[38;5;124m\"\u001b[39m\u001b[38;5;124mIncremented Retry for (url=\u001b[39m\u001b[38;5;124m'\u001b[39m\u001b[38;5;132;01m%s\u001b[39;00m\u001b[38;5;124m'\u001b[39m\u001b[38;5;124m): \u001b[39m\u001b[38;5;132;01m%r\u001b[39;00m\u001b[38;5;124m\"\u001b[39m, url, new_retry)\n",
      "\u001b[0;31mMaxRetryError\u001b[0m: HTTPConnectionPool(host='localhost', port=1234): Max retries exceeded with url: /invocations (Caused by NewConnectionError('<urllib3.connection.HTTPConnection object at 0x7fecc4e82260>: Failed to establish a new connection: [Errno 111] Connection refused'))",
      "\nDuring handling of the above exception, another exception occurred:\n",
      "\u001b[0;31mConnectionError\u001b[0m                           Traceback (most recent call last)",
      "Cell \u001b[0;32mIn [96], line 15\u001b[0m\n\u001b[1;32m     10\u001b[0m json_data \u001b[38;5;241m=\u001b[39m example\u001b[38;5;241m.\u001b[39mto_json(orient\u001b[38;5;241m=\u001b[39m\u001b[38;5;124m'\u001b[39m\u001b[38;5;124mrecords\u001b[39m\u001b[38;5;124m'\u001b[39m)\n\u001b[1;32m     13\u001b[0m endpoint \u001b[38;5;241m=\u001b[39m \u001b[38;5;124m\"\u001b[39m\u001b[38;5;124mhttp://localhost:1234/invocations\u001b[39m\u001b[38;5;124m\"\u001b[39m\n\u001b[0;32m---> 15\u001b[0m response \u001b[38;5;241m=\u001b[39m \u001b[43mrequests\u001b[49m\u001b[38;5;241;43m.\u001b[39;49m\u001b[43mpost\u001b[49m\u001b[43m(\u001b[49m\u001b[43mendpoint\u001b[49m\u001b[43m,\u001b[49m\u001b[43m \u001b[49m\u001b[43mjson\u001b[49m\u001b[38;5;241;43m=\u001b[39;49m\u001b[43mjson_data\u001b[49m\u001b[43m)\u001b[49m\n\u001b[1;32m     17\u001b[0m \u001b[38;5;28mprint\u001b[39m(response\u001b[38;5;241m.\u001b[39mtext)\n",
      "File \u001b[0;32m/usr/lib/python3/dist-packages/requests/api.py:119\u001b[0m, in \u001b[0;36mpost\u001b[0;34m(url, data, json, **kwargs)\u001b[0m\n\u001b[1;32m    107\u001b[0m \u001b[38;5;28;01mdef\u001b[39;00m \u001b[38;5;21mpost\u001b[39m(url, data\u001b[38;5;241m=\u001b[39m\u001b[38;5;28;01mNone\u001b[39;00m, json\u001b[38;5;241m=\u001b[39m\u001b[38;5;28;01mNone\u001b[39;00m, \u001b[38;5;241m*\u001b[39m\u001b[38;5;241m*\u001b[39mkwargs):\n\u001b[1;32m    108\u001b[0m     \u001b[38;5;124mr\u001b[39m\u001b[38;5;124;03m\"\"\"Sends a POST request.\u001b[39;00m\n\u001b[1;32m    109\u001b[0m \n\u001b[1;32m    110\u001b[0m \u001b[38;5;124;03m    :param url: URL for the new :class:`Request` object.\u001b[39;00m\n\u001b[0;32m   (...)\u001b[0m\n\u001b[1;32m    116\u001b[0m \u001b[38;5;124;03m    :rtype: requests.Response\u001b[39;00m\n\u001b[1;32m    117\u001b[0m \u001b[38;5;124;03m    \"\"\"\u001b[39;00m\n\u001b[0;32m--> 119\u001b[0m     \u001b[38;5;28;01mreturn\u001b[39;00m \u001b[43mrequest\u001b[49m\u001b[43m(\u001b[49m\u001b[38;5;124;43m'\u001b[39;49m\u001b[38;5;124;43mpost\u001b[39;49m\u001b[38;5;124;43m'\u001b[39;49m\u001b[43m,\u001b[49m\u001b[43m \u001b[49m\u001b[43murl\u001b[49m\u001b[43m,\u001b[49m\u001b[43m \u001b[49m\u001b[43mdata\u001b[49m\u001b[38;5;241;43m=\u001b[39;49m\u001b[43mdata\u001b[49m\u001b[43m,\u001b[49m\u001b[43m \u001b[49m\u001b[43mjson\u001b[49m\u001b[38;5;241;43m=\u001b[39;49m\u001b[43mjson\u001b[49m\u001b[43m,\u001b[49m\u001b[43m \u001b[49m\u001b[38;5;241;43m*\u001b[39;49m\u001b[38;5;241;43m*\u001b[39;49m\u001b[43mkwargs\u001b[49m\u001b[43m)\u001b[49m\n",
      "File \u001b[0;32m/usr/lib/python3/dist-packages/requests/api.py:61\u001b[0m, in \u001b[0;36mrequest\u001b[0;34m(method, url, **kwargs)\u001b[0m\n\u001b[1;32m     57\u001b[0m \u001b[38;5;66;03m# By using the 'with' statement we are sure the session is closed, thus we\u001b[39;00m\n\u001b[1;32m     58\u001b[0m \u001b[38;5;66;03m# avoid leaving sockets open which can trigger a ResourceWarning in some\u001b[39;00m\n\u001b[1;32m     59\u001b[0m \u001b[38;5;66;03m# cases, and look like a memory leak in others.\u001b[39;00m\n\u001b[1;32m     60\u001b[0m \u001b[38;5;28;01mwith\u001b[39;00m sessions\u001b[38;5;241m.\u001b[39mSession() \u001b[38;5;28;01mas\u001b[39;00m session:\n\u001b[0;32m---> 61\u001b[0m     \u001b[38;5;28;01mreturn\u001b[39;00m \u001b[43msession\u001b[49m\u001b[38;5;241;43m.\u001b[39;49m\u001b[43mrequest\u001b[49m\u001b[43m(\u001b[49m\u001b[43mmethod\u001b[49m\u001b[38;5;241;43m=\u001b[39;49m\u001b[43mmethod\u001b[49m\u001b[43m,\u001b[49m\u001b[43m \u001b[49m\u001b[43murl\u001b[49m\u001b[38;5;241;43m=\u001b[39;49m\u001b[43murl\u001b[49m\u001b[43m,\u001b[49m\u001b[43m \u001b[49m\u001b[38;5;241;43m*\u001b[39;49m\u001b[38;5;241;43m*\u001b[39;49m\u001b[43mkwargs\u001b[49m\u001b[43m)\u001b[49m\n",
      "File \u001b[0;32m/usr/lib/python3/dist-packages/requests/sessions.py:542\u001b[0m, in \u001b[0;36mSession.request\u001b[0;34m(self, method, url, params, data, headers, cookies, files, auth, timeout, allow_redirects, proxies, hooks, stream, verify, cert, json)\u001b[0m\n\u001b[1;32m    537\u001b[0m send_kwargs \u001b[38;5;241m=\u001b[39m {\n\u001b[1;32m    538\u001b[0m     \u001b[38;5;124m'\u001b[39m\u001b[38;5;124mtimeout\u001b[39m\u001b[38;5;124m'\u001b[39m: timeout,\n\u001b[1;32m    539\u001b[0m     \u001b[38;5;124m'\u001b[39m\u001b[38;5;124mallow_redirects\u001b[39m\u001b[38;5;124m'\u001b[39m: allow_redirects,\n\u001b[1;32m    540\u001b[0m }\n\u001b[1;32m    541\u001b[0m send_kwargs\u001b[38;5;241m.\u001b[39mupdate(settings)\n\u001b[0;32m--> 542\u001b[0m resp \u001b[38;5;241m=\u001b[39m \u001b[38;5;28;43mself\u001b[39;49m\u001b[38;5;241;43m.\u001b[39;49m\u001b[43msend\u001b[49m\u001b[43m(\u001b[49m\u001b[43mprep\u001b[49m\u001b[43m,\u001b[49m\u001b[43m \u001b[49m\u001b[38;5;241;43m*\u001b[39;49m\u001b[38;5;241;43m*\u001b[39;49m\u001b[43msend_kwargs\u001b[49m\u001b[43m)\u001b[49m\n\u001b[1;32m    544\u001b[0m \u001b[38;5;28;01mreturn\u001b[39;00m resp\n",
      "File \u001b[0;32m/usr/lib/python3/dist-packages/requests/sessions.py:655\u001b[0m, in \u001b[0;36mSession.send\u001b[0;34m(self, request, **kwargs)\u001b[0m\n\u001b[1;32m    652\u001b[0m start \u001b[38;5;241m=\u001b[39m preferred_clock()\n\u001b[1;32m    654\u001b[0m \u001b[38;5;66;03m# Send the request\u001b[39;00m\n\u001b[0;32m--> 655\u001b[0m r \u001b[38;5;241m=\u001b[39m \u001b[43madapter\u001b[49m\u001b[38;5;241;43m.\u001b[39;49m\u001b[43msend\u001b[49m\u001b[43m(\u001b[49m\u001b[43mrequest\u001b[49m\u001b[43m,\u001b[49m\u001b[43m \u001b[49m\u001b[38;5;241;43m*\u001b[39;49m\u001b[38;5;241;43m*\u001b[39;49m\u001b[43mkwargs\u001b[49m\u001b[43m)\u001b[49m\n\u001b[1;32m    657\u001b[0m \u001b[38;5;66;03m# Total elapsed time of the request (approximately)\u001b[39;00m\n\u001b[1;32m    658\u001b[0m elapsed \u001b[38;5;241m=\u001b[39m preferred_clock() \u001b[38;5;241m-\u001b[39m start\n",
      "File \u001b[0;32m/usr/lib/python3/dist-packages/requests/adapters.py:516\u001b[0m, in \u001b[0;36mHTTPAdapter.send\u001b[0;34m(self, request, stream, timeout, verify, cert, proxies)\u001b[0m\n\u001b[1;32m    512\u001b[0m     \u001b[38;5;28;01mif\u001b[39;00m \u001b[38;5;28misinstance\u001b[39m(e\u001b[38;5;241m.\u001b[39mreason, _SSLError):\n\u001b[1;32m    513\u001b[0m         \u001b[38;5;66;03m# This branch is for urllib3 v1.22 and later.\u001b[39;00m\n\u001b[1;32m    514\u001b[0m         \u001b[38;5;28;01mraise\u001b[39;00m SSLError(e, request\u001b[38;5;241m=\u001b[39mrequest)\n\u001b[0;32m--> 516\u001b[0m     \u001b[38;5;28;01mraise\u001b[39;00m \u001b[38;5;167;01mConnectionError\u001b[39;00m(e, request\u001b[38;5;241m=\u001b[39mrequest)\n\u001b[1;32m    518\u001b[0m \u001b[38;5;28;01mexcept\u001b[39;00m ClosedPoolError \u001b[38;5;28;01mas\u001b[39;00m e:\n\u001b[1;32m    519\u001b[0m     \u001b[38;5;28;01mraise\u001b[39;00m \u001b[38;5;167;01mConnectionError\u001b[39;00m(e, request\u001b[38;5;241m=\u001b[39mrequest)\n",
      "\u001b[0;31mConnectionError\u001b[0m: HTTPConnectionPool(host='localhost', port=1234): Max retries exceeded with url: /invocations (Caused by NewConnectionError('<urllib3.connection.HTTPConnection object at 0x7fecc4e82260>: Failed to establish a new connection: [Errno 111] Connection refused'))"
     ]
    }
   ],
   "source": [
    "import requests\n",
    "\n",
    "# inference_request = {\n",
    "#         \"dataframe_records\": [[6.7,3.3,5.7,2.1]]\n",
    "# }\n",
    "\n",
    "\n",
    "\n",
    "example = X.sample(1)\n",
    "json_data = example.to_json(orient='records')\n",
    "\n",
    "\n",
    "endpoint = \"http://localhost:1234/invocations\"\n",
    "\n",
    "response = requests.post(endpoint, json=json_data)\n",
    "\n",
    "print(response.text)"
   ]
  }
 ],
 "metadata": {
  "kernelspec": {
   "display_name": "Python 3 (ipykernel)",
   "language": "python",
   "name": "python3"
  },
  "language_info": {
   "codemirror_mode": {
    "name": "ipython",
    "version": 3
   },
   "file_extension": ".py",
   "mimetype": "text/x-python",
   "name": "python",
   "nbconvert_exporter": "python",
   "pygments_lexer": "ipython3",
   "version": "3.10.6"
  }
 },
 "nbformat": 4,
 "nbformat_minor": 5
}
