{
 "cells": [
  {
   "cell_type": "code",
   "execution_count": 81,
   "id": "a4f02531",
   "metadata": {},
   "outputs": [],
   "source": [
    "#!pip install kaggle"
   ]
  },
  {
   "cell_type": "code",
   "execution_count": null,
   "id": "a22ccc73",
   "metadata": {},
   "outputs": [],
   "source": [
    "import kaggle\n",
    "from kaggle.api.kaggle_api_extended import KaggleApi\n",
    "import os\n",
    "import shutil\n",
    "import zipfile"
   ]
  },
  {
   "cell_type": "code",
   "execution_count": 82,
   "id": "48eec901",
   "metadata": {},
   "outputs": [],
   "source": [
    "#!mkdir ~/.kaggle\n",
    "#!cp /home/alysson/Downloads/kaggle.json /home/alysson/.kaggle/kaggle.json\n",
    "#!chmod 600 /home/alysson/.kaggle/kaggle.json"
   ]
  },
  {
   "cell_type": "code",
   "execution_count": 86,
   "id": "53d745c7",
   "metadata": {},
   "outputs": [],
   "source": [
    "api = KaggleApi()\n",
    "api.authenticate()"
   ]
  },
  {
   "cell_type": "code",
   "execution_count": 146,
   "id": "13970176",
   "metadata": {},
   "outputs": [
    {
     "data": {
      "text/plain": [
       "True"
      ]
     },
     "execution_count": 146,
     "metadata": {},
     "output_type": "execute_result"
    }
   ],
   "source": [
    "api.dataset_download_file('jessemostipak/hotel-booking-demand', file_name='hotel_bookings.csv')"
   ]
  },
  {
   "cell_type": "code",
   "execution_count": 147,
   "id": "4db245ec",
   "metadata": {},
   "outputs": [],
   "source": [
    "ROOT_DIR = '/home/alysson/projects/Hotel-Booking-Cancelations'"
   ]
  },
  {
   "cell_type": "code",
   "execution_count": 148,
   "id": "3f1c8a6d",
   "metadata": {},
   "outputs": [],
   "source": [
    "!mv hotel_bookings.csv.zip $ROOT_DIR/data/data_raw"
   ]
  },
  {
   "cell_type": "code",
   "execution_count": 149,
   "id": "db8c8963",
   "metadata": {},
   "outputs": [
    {
     "name": "stdout",
     "output_type": "stream",
     "text": [
      "Archive:  /home/alysson/projects/Hotel-Booking-Cancelations/data/data_raw/hotel_bookings.csv.zip\n",
      "  inflating: //home/alysson/projects/Hotel-Booking-Cancelations/data/data_raw/hotel_bookings.csv  \n"
     ]
    }
   ],
   "source": [
    "!unzip $ROOT_DIR/data/data_raw/hotel_bookings.csv.zip -d /$ROOT_DIR/data/data_raw"
   ]
  },
  {
   "cell_type": "code",
   "execution_count": 150,
   "id": "ec8555a7",
   "metadata": {},
   "outputs": [],
   "source": [
    "!rm $ROOT_DIR/data/data_raw/hotel_bookings.csv.zip"
   ]
  },
  {
   "cell_type": "code",
   "execution_count": 151,
   "id": "17072d19",
   "metadata": {},
   "outputs": [],
   "source": [
    "!mv $ROOT_DIR/data/data_raw/hotel_bookings.csv $ROOT_DIR/data/data_raw/data_raw.csv"
   ]
  },
  {
   "cell_type": "code",
   "execution_count": null,
   "id": "877b991d",
   "metadata": {},
   "outputs": [],
   "source": []
  },
  {
   "cell_type": "code",
   "execution_count": 152,
   "id": "700d338c",
   "metadata": {},
   "outputs": [],
   "source": [
    "# !mv hotel_bookings.csv.zip /home/alysson/projects/Hotel-Booking-Cancelations/data/data_raw\n",
    "# !unzip /home/alysson/projects/Hotel-Booking-Cancelations/data/data_raw/hotel_bookings.csv.zip -d /home/alysson/projects/Hotel-Booking-Cancelations/data/data_raw\n",
    "# !rm /home/alysson/projects/Hotel-Booking-Cancelations/data/data_raw/hotel_bookings.csv.zip\n",
    "# !mv /home/alysson/projects/Hotel-Booking-Cancelations/data/data_raw/hotel_bookings.csv /home/alysson/projects/Hotel-Booking-Cancelations/data/data_raw/data_raw.csv"
   ]
  }
 ],
 "metadata": {
  "kernelspec": {
   "display_name": "Python 3 (ipykernel)",
   "language": "python",
   "name": "python3"
  },
  "language_info": {
   "codemirror_mode": {
    "name": "ipython",
    "version": 3
   },
   "file_extension": ".py",
   "mimetype": "text/x-python",
   "name": "python",
   "nbconvert_exporter": "python",
   "pygments_lexer": "ipython3",
   "version": "3.10.6"
  }
 },
 "nbformat": 4,
 "nbformat_minor": 5
}
