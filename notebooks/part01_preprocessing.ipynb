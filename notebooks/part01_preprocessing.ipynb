{
 "cells": [
  {
   "cell_type": "markdown",
   "id": "d9dc30c3",
   "metadata": {},
   "source": [
    "# <div style=\"color:white;display:fill;border-radius:5px;background-color:#0E2031;letter-spacing:0.5px;overflow:hidden\"><p style=\"padding:20px;color:white;overflow:hidden;text-align: center;margin:0;font-size:120%\">Conteúdo</p></div>     \n",
    "   \n",
    "- Libraries\n",
    "- Configurations\n",
    "- Loading Data\n",
    "- Glossary\n",
    "- **Data Preprocessing** \n",
    "    - Missing Data\n",
    "    - Duplicated Values\n",
    "    - Data Types\n",
    "    - Strange Values\n",
    "    - Feature Engineer"
   ]
  },
  {
   "cell_type": "markdown",
   "id": "fc2d2e35",
   "metadata": {},
   "source": [
    "## <div style=\"color:white;display:fill;border-radius:5px;background-color:#153656;letter-spacing:0.5px;overflow:hidden\"><p style=\"padding:15px;color:white;overflow:hidden;text-align: center;margin:0;font-size:120%\">Libraries</p></div>"
   ]
  },
  {
   "cell_type": "code",
   "execution_count": 11,
   "id": "033b89b6",
   "metadata": {},
   "outputs": [],
   "source": [
    "#!pip install -Uq pandas\n",
    "#!pip install -q watermark\n",
    "#!pip install pycountry-convert\n",
    "#!pip install python-dotenv"
   ]
  },
  {
   "cell_type": "code",
   "execution_count": 12,
   "id": "13f3429d",
   "metadata": {},
   "outputs": [],
   "source": [
    "# Basic Tools\n",
    "import numpy as np\n",
    "import pandas as pd\n",
    "from datetime import datetime as dt\n",
    "\n",
    "# Convert Alpha3 Countries to Country Name and Continents\n",
    "import pycountry\n",
    "import pycountry_convert as pc\n",
    "\n",
    "\n",
    "# File/ OS Tools\n",
    "import os\n",
    "import sys\n",
    "import dotenv\n",
    "from watermark import watermark"
   ]
  },
  {
   "cell_type": "markdown",
   "id": "6f75e5a8",
   "metadata": {},
   "source": [
    "## <div style=\"color:white;display:fill;border-radius:5px;background-color:#153656;letter-spacing:0.5px;overflow:hidden\"><p style=\"padding:15px;color:white;overflow:hidden;text-align: center;margin:0;font-size:120%\">Configurations</p></div>"
   ]
  },
  {
   "cell_type": "code",
   "execution_count": 13,
   "id": "14efd8a3",
   "metadata": {},
   "outputs": [
    {
     "name": "stdout",
     "output_type": "stream",
     "text": [
      "Last updated: 2023-05-29T18:24:12.261555-03:00\n",
      "\n",
      "Python implementation: CPython\n",
      "Python version       : 3.10.6\n",
      "IPython version      : 8.5.0\n",
      "\n",
      "Compiler    : GCC 11.3.0\n",
      "OS          : Linux\n",
      "Release     : 5.19.0-42-generic\n",
      "Machine     : x86_64\n",
      "Processor   : x86_64\n",
      "CPU cores   : 12\n",
      "Architecture: 64bit\n",
      "\n"
     ]
    }
   ],
   "source": [
    "print(watermark())"
   ]
  },
  {
   "cell_type": "code",
   "execution_count": 14,
   "id": "aaa641c7",
   "metadata": {},
   "outputs": [],
   "source": [
    "# dotenv.load_dotenv(dotenv.find_dotenv())\n",
    "# ROOT_DIR = os.getenv('ROOT_DIR')\n",
    "\n",
    "ROOT_DIR = '/home/alysson/projects/Hotel-Booking-Cancelations'"
   ]
  },
  {
   "cell_type": "code",
   "execution_count": null,
   "id": "a1b3a3cb",
   "metadata": {},
   "outputs": [],
   "source": []
  },
  {
   "cell_type": "code",
   "execution_count": 7,
   "id": "59216772",
   "metadata": {},
   "outputs": [],
   "source": [
    "if ROOT_DIR not in sys.path:\n",
    "    sys.path.append(ROOT_DIR)\n",
    "\n",
    "os.chdir(ROOT_DIR)"
   ]
  },
  {
   "cell_type": "markdown",
   "id": "147aa9a5",
   "metadata": {},
   "source": [
    "## <div style=\"color:white;display:fill;border-radius:5px;background-color:#153656;letter-spacing:0.5px;overflow:hidden\"><p style=\"padding:15px;color:white;overflow:hidden;text-align: center;margin:0;font-size:120%\">Loading Data</p></div>"
   ]
  },
  {
   "cell_type": "code",
   "execution_count": 9,
   "id": "b503848f",
   "metadata": {},
   "outputs": [
    {
     "name": "stdout",
     "output_type": "stream",
     "text": [
      "/home/alysson/projects/Hotel-Booking-Cancelations/data/data_processed/.gitignore\n",
      "/home/alysson/projects/Hotel-Booking-Cancelations/data/data_processed/data.csv\n",
      "/home/alysson/projects/Hotel-Booking-Cancelations/data/data_processed/hotel_bookings_processed.csv\n",
      "/home/alysson/projects/Hotel-Booking-Cancelations/data/data_processed/data.csv.dvc\n",
      "/home/alysson/projects/Hotel-Booking-Cancelations/data/data_raw/hotel_bookings.csv\n"
     ]
    }
   ],
   "source": [
    "for dirname, _, filenames in os.walk(os.path.join(ROOT_DIR, \"data\")):\n",
    "    for filename in filenames:\n",
    "        print(os.path.join(dirname, filename))"
   ]
  },
  {
   "cell_type": "code",
   "execution_count": 10,
   "id": "7ca67b35",
   "metadata": {},
   "outputs": [],
   "source": [
    "DATA_RAW_PATH = os.path.join(ROOT_DIR, \"data\", \"data_raw\", \"hotel_bookings.csv\")"
   ]
  },
  {
   "cell_type": "code",
   "execution_count": 77,
   "id": "a4bb7f4f",
   "metadata": {},
   "outputs": [],
   "source": [
    "data_raw = pd.read_csv(DATA_RAW_PATH)"
   ]
  },
  {
   "cell_type": "code",
   "execution_count": 78,
   "id": "cd778898",
   "metadata": {},
   "outputs": [],
   "source": [
    "data = data_raw.copy()"
   ]
  },
  {
   "cell_type": "code",
   "execution_count": 79,
   "id": "a5d1778a",
   "metadata": {},
   "outputs": [
    {
     "data": {
      "text/plain": [
       "(119390, 32)"
      ]
     },
     "execution_count": 79,
     "metadata": {},
     "output_type": "execute_result"
    }
   ],
   "source": [
    "data.shape"
   ]
  },
  {
   "cell_type": "markdown",
   "id": "a99c4726",
   "metadata": {},
   "source": [
    "## <div style=\"color:white;display:fill;border-radius:5px;background-color:#153656;letter-spacing:0.5px;overflow:hidden\"><p style=\"padding:15px;color:white;overflow:hidden;text-align: center;margin:0;font-size:120%\">Glossary</p></div>"
   ]
  },
  {
   "cell_type": "code",
   "execution_count": 80,
   "id": "39724d90",
   "metadata": {},
   "outputs": [],
   "source": [
    "glossary_pt = [['Colunas', 'Significado'],\n",
    "              ['hotel', 'Hotel Urbano ou Resort'],\n",
    "              ['is_canceled', 'Informa se a reserva foi cancelada (1 = Cancelado, 0 = Não Cancelado)'],\n",
    "              ['lead_time', 'Número de dias entre a data da reserva até a data do check-in'],\n",
    "              ['arrival_date_year', 'Ano da data de chegada'],\n",
    "              ['arrival_date_month', 'Mês da data de chegada'],\n",
    "              ['arrival_date_week_numeber', 'Semana do ano da data de chegada'],\n",
    "              ['arrival_date_month', 'Mês da data de chegada'],\n",
    "              ]\n",
    "#print(tabulate(glossary_pt, headers='firstrow', stralign='left', tablefmt='simple'))"
   ]
  },
  {
   "cell_type": "markdown",
   "id": "84b7a931",
   "metadata": {},
   "source": [
    "## <div style=\"color:white;display:fill;border-radius:5px;background-color:#153656;letter-spacing:0.5px;overflow:hidden\"><p style=\"padding:15px;color:white;overflow:hidden;text-align: center;margin:0;font-size:120%\">Data Preprocessing</p></div>"
   ]
  },
  {
   "cell_type": "markdown",
   "id": "a9c6f397",
   "metadata": {},
   "source": [
    "### <div style=\"color:white;display:fill;border-radius:5px;background-color:#2E6B8E;letter-spacing:0.5px;overflow:hidden\"><p style=\"padding:10px;color:white;overflow:hidden;text-align: center;margin:0;font-size:120%\">Missing Data</p></div>"
   ]
  },
  {
   "cell_type": "code",
   "execution_count": 81,
   "id": "0d19bd97",
   "metadata": {},
   "outputs": [
    {
     "data": {
      "text/plain": [
       "hotel                                  0\n",
       "is_canceled                            0\n",
       "lead_time                              0\n",
       "arrival_date_year                      0\n",
       "arrival_date_month                     0\n",
       "arrival_date_week_number               0\n",
       "arrival_date_day_of_month              0\n",
       "stays_in_weekend_nights                0\n",
       "stays_in_week_nights                   0\n",
       "adults                                 0\n",
       "children                               4\n",
       "babies                                 0\n",
       "meal                                   0\n",
       "country                              488\n",
       "market_segment                         0\n",
       "distribution_channel                   0\n",
       "is_repeated_guest                      0\n",
       "previous_cancellations                 0\n",
       "previous_bookings_not_canceled         0\n",
       "reserved_room_type                     0\n",
       "assigned_room_type                     0\n",
       "booking_changes                        0\n",
       "deposit_type                           0\n",
       "agent                              16340\n",
       "company                           112593\n",
       "days_in_waiting_list                   0\n",
       "customer_type                          0\n",
       "adr                                    0\n",
       "required_car_parking_spaces            0\n",
       "total_of_special_requests              0\n",
       "reservation_status                     0\n",
       "reservation_status_date                0\n",
       "dtype: int64"
      ]
     },
     "execution_count": 81,
     "metadata": {},
     "output_type": "execute_result"
    }
   ],
   "source": [
    "data.isna().sum()"
   ]
  },
  {
   "cell_type": "code",
   "execution_count": 82,
   "id": "6bf31c81",
   "metadata": {},
   "outputs": [],
   "source": [
    "nan_replacements = {\"children\": 0, \"agent\": 0, \"company\": 0, \"country\":\"Unknow\"}\n",
    "data = data.fillna(nan_replacements)"
   ]
  },
  {
   "cell_type": "markdown",
   "id": "88266b39",
   "metadata": {},
   "source": [
    "**Observações:**\n",
    "\n",
    "- Are the NaN values because the customer did not inform the nationality when making the reservation or the system was not able to identify the user's nationality?\n",
    "\n",
    "- Why so many missing values in the Company column?"
   ]
  },
  {
   "cell_type": "markdown",
   "id": "827bce3a",
   "metadata": {},
   "source": [
    "### <div style=\"color:white;display:fill;border-radius:5px;background-color:#2E6B8E;letter-spacing:0.5px;overflow:hidden\"><p style=\"padding:10px;color:white;overflow:hidden;text-align: center;margin:0;font-size:120%\">Duplicated Data</p></div>"
   ]
  },
  {
   "cell_type": "code",
   "execution_count": 83,
   "id": "f45f82c8",
   "metadata": {},
   "outputs": [
    {
     "data": {
      "text/plain": [
       "31994"
      ]
     },
     "execution_count": 83,
     "metadata": {},
     "output_type": "execute_result"
    }
   ],
   "source": [
    "data.duplicated().sum()"
   ]
  },
  {
   "cell_type": "markdown",
   "id": "63e2b9f4",
   "metadata": {},
   "source": [
    "Duplicate values here are not necessarily a problem. It is possible for example to have reservations for the same type of room on the same day that were booked on the same day. Since we don't have more information if these values refer to the same guest, we'll keep it as it is."
   ]
  },
  {
   "cell_type": "code",
   "execution_count": 84,
   "id": "d34347fe",
   "metadata": {},
   "outputs": [
    {
     "data": {
      "text/html": [
       "<div>\n",
       "<style scoped>\n",
       "    .dataframe tbody tr th:only-of-type {\n",
       "        vertical-align: middle;\n",
       "    }\n",
       "\n",
       "    .dataframe tbody tr th {\n",
       "        vertical-align: top;\n",
       "    }\n",
       "\n",
       "    .dataframe thead th {\n",
       "        text-align: right;\n",
       "    }\n",
       "</style>\n",
       "<table border=\"1\" class=\"dataframe\">\n",
       "  <thead>\n",
       "    <tr style=\"text-align: right;\">\n",
       "      <th></th>\n",
       "      <th>hotel</th>\n",
       "      <th>is_canceled</th>\n",
       "      <th>lead_time</th>\n",
       "      <th>arrival_date_year</th>\n",
       "      <th>arrival_date_month</th>\n",
       "      <th>arrival_date_week_number</th>\n",
       "      <th>arrival_date_day_of_month</th>\n",
       "      <th>stays_in_weekend_nights</th>\n",
       "      <th>stays_in_week_nights</th>\n",
       "      <th>adults</th>\n",
       "      <th>children</th>\n",
       "      <th>babies</th>\n",
       "      <th>meal</th>\n",
       "      <th>country</th>\n",
       "      <th>market_segment</th>\n",
       "      <th>distribution_channel</th>\n",
       "      <th>is_repeated_guest</th>\n",
       "      <th>previous_cancellations</th>\n",
       "      <th>previous_bookings_not_canceled</th>\n",
       "      <th>reserved_room_type</th>\n",
       "      <th>assigned_room_type</th>\n",
       "      <th>booking_changes</th>\n",
       "      <th>deposit_type</th>\n",
       "      <th>agent</th>\n",
       "      <th>company</th>\n",
       "      <th>days_in_waiting_list</th>\n",
       "      <th>customer_type</th>\n",
       "      <th>adr</th>\n",
       "      <th>required_car_parking_spaces</th>\n",
       "      <th>total_of_special_requests</th>\n",
       "      <th>reservation_status</th>\n",
       "      <th>reservation_status_date</th>\n",
       "    </tr>\n",
       "  </thead>\n",
       "  <tbody>\n",
       "    <tr>\n",
       "      <th>43765</th>\n",
       "      <td>City Hotel</td>\n",
       "      <td>0</td>\n",
       "      <td>86</td>\n",
       "      <td>2015</td>\n",
       "      <td>September</td>\n",
       "      <td>39</td>\n",
       "      <td>24</td>\n",
       "      <td>0</td>\n",
       "      <td>2</td>\n",
       "      <td>2</td>\n",
       "      <td>0.0000</td>\n",
       "      <td>0</td>\n",
       "      <td>BB</td>\n",
       "      <td>PRT</td>\n",
       "      <td>Offline TA/TO</td>\n",
       "      <td>TA/TO</td>\n",
       "      <td>0</td>\n",
       "      <td>0</td>\n",
       "      <td>0</td>\n",
       "      <td>A</td>\n",
       "      <td>A</td>\n",
       "      <td>0</td>\n",
       "      <td>No Deposit</td>\n",
       "      <td>12.0000</td>\n",
       "      <td>0.0000</td>\n",
       "      <td>0</td>\n",
       "      <td>Transient-Party</td>\n",
       "      <td>105.0000</td>\n",
       "      <td>0</td>\n",
       "      <td>0</td>\n",
       "      <td>Check-Out</td>\n",
       "      <td>2015-09-26</td>\n",
       "    </tr>\n",
       "    <tr>\n",
       "      <th>70858</th>\n",
       "      <td>City Hotel</td>\n",
       "      <td>1</td>\n",
       "      <td>233</td>\n",
       "      <td>2017</td>\n",
       "      <td>June</td>\n",
       "      <td>25</td>\n",
       "      <td>23</td>\n",
       "      <td>1</td>\n",
       "      <td>2</td>\n",
       "      <td>2</td>\n",
       "      <td>0.0000</td>\n",
       "      <td>0</td>\n",
       "      <td>BB</td>\n",
       "      <td>PRT</td>\n",
       "      <td>Groups</td>\n",
       "      <td>TA/TO</td>\n",
       "      <td>0</td>\n",
       "      <td>0</td>\n",
       "      <td>0</td>\n",
       "      <td>A</td>\n",
       "      <td>A</td>\n",
       "      <td>0</td>\n",
       "      <td>Non Refund</td>\n",
       "      <td>20.0000</td>\n",
       "      <td>0.0000</td>\n",
       "      <td>0</td>\n",
       "      <td>Transient</td>\n",
       "      <td>105.0000</td>\n",
       "      <td>0</td>\n",
       "      <td>0</td>\n",
       "      <td>Canceled</td>\n",
       "      <td>2017-04-21</td>\n",
       "    </tr>\n",
       "    <tr>\n",
       "      <th>32228</th>\n",
       "      <td>Resort Hotel</td>\n",
       "      <td>0</td>\n",
       "      <td>40</td>\n",
       "      <td>2017</td>\n",
       "      <td>January</td>\n",
       "      <td>3</td>\n",
       "      <td>16</td>\n",
       "      <td>1</td>\n",
       "      <td>2</td>\n",
       "      <td>1</td>\n",
       "      <td>0.0000</td>\n",
       "      <td>0</td>\n",
       "      <td>Undefined</td>\n",
       "      <td>PRT</td>\n",
       "      <td>Groups</td>\n",
       "      <td>Direct</td>\n",
       "      <td>0</td>\n",
       "      <td>0</td>\n",
       "      <td>0</td>\n",
       "      <td>A</td>\n",
       "      <td>E</td>\n",
       "      <td>1</td>\n",
       "      <td>No Deposit</td>\n",
       "      <td>0.0000</td>\n",
       "      <td>0.0000</td>\n",
       "      <td>0</td>\n",
       "      <td>Transient-Party</td>\n",
       "      <td>55.0000</td>\n",
       "      <td>0</td>\n",
       "      <td>0</td>\n",
       "      <td>Check-Out</td>\n",
       "      <td>2017-01-19</td>\n",
       "    </tr>\n",
       "  </tbody>\n",
       "</table>\n",
       "</div>"
      ],
      "text/plain": [
       "              hotel  is_canceled  lead_time  arrival_date_year arrival_date_month  arrival_date_week_number  arrival_date_day_of_month  stays_in_weekend_nights  stays_in_week_nights  adults  children  babies       meal country market_segment distribution_channel  is_repeated_guest  previous_cancellations  previous_bookings_not_canceled reserved_room_type assigned_room_type  booking_changes deposit_type   agent  company  days_in_waiting_list    customer_type      adr  required_car_parking_spaces  total_of_special_requests reservation_status reservation_status_date\n",
       "43765    City Hotel            0         86               2015          September                        39                         24                        0                     2       2    0.0000       0         BB     PRT  Offline TA/TO                TA/TO                  0                       0                               0                  A                  A                0   No Deposit 12.0000   0.0000                     0  Transient-Party 105.0000                            0                          0          Check-Out              2015-09-26\n",
       "70858    City Hotel            1        233               2017               June                        25                         23                        1                     2       2    0.0000       0         BB     PRT         Groups                TA/TO                  0                       0                               0                  A                  A                0   Non Refund 20.0000   0.0000                     0        Transient 105.0000                            0                          0           Canceled              2017-04-21\n",
       "32228  Resort Hotel            0         40               2017            January                         3                         16                        1                     2       1    0.0000       0  Undefined     PRT         Groups               Direct                  0                       0                               0                  A                  E                1   No Deposit  0.0000   0.0000                     0  Transient-Party  55.0000                            0                          0          Check-Out              2017-01-19"
      ]
     },
     "execution_count": 84,
     "metadata": {},
     "output_type": "execute_result"
    }
   ],
   "source": [
    "data.loc[data.duplicated(), :].sample(3)"
   ]
  },
  {
   "cell_type": "markdown",
   "id": "9cc2dea6",
   "metadata": {},
   "source": [
    "### <div style=\"color:white;display:fill;border-radius:5px;background-color:#2E6B8E;letter-spacing:0.5px;overflow:hidden\"><p style=\"padding:10px;color:white;overflow:hidden;text-align: center;margin:0;font-size:120%\">Data Types</p></div>"
   ]
  },
  {
   "cell_type": "code",
   "execution_count": 85,
   "id": "981459f1",
   "metadata": {},
   "outputs": [
    {
     "name": "stdout",
     "output_type": "stream",
     "text": [
      "<class 'pandas.core.frame.DataFrame'>\n",
      "RangeIndex: 119390 entries, 0 to 119389\n",
      "Data columns (total 32 columns):\n",
      " #   Column                          Non-Null Count   Dtype  \n",
      "---  ------                          --------------   -----  \n",
      " 0   hotel                           119390 non-null  object \n",
      " 1   is_canceled                     119390 non-null  int64  \n",
      " 2   lead_time                       119390 non-null  int64  \n",
      " 3   arrival_date_year               119390 non-null  int64  \n",
      " 4   arrival_date_month              119390 non-null  object \n",
      " 5   arrival_date_week_number        119390 non-null  int64  \n",
      " 6   arrival_date_day_of_month       119390 non-null  int64  \n",
      " 7   stays_in_weekend_nights         119390 non-null  int64  \n",
      " 8   stays_in_week_nights            119390 non-null  int64  \n",
      " 9   adults                          119390 non-null  int64  \n",
      " 10  children                        119390 non-null  float64\n",
      " 11  babies                          119390 non-null  int64  \n",
      " 12  meal                            119390 non-null  object \n",
      " 13  country                         119390 non-null  object \n",
      " 14  market_segment                  119390 non-null  object \n",
      " 15  distribution_channel            119390 non-null  object \n",
      " 16  is_repeated_guest               119390 non-null  int64  \n",
      " 17  previous_cancellations          119390 non-null  int64  \n",
      " 18  previous_bookings_not_canceled  119390 non-null  int64  \n",
      " 19  reserved_room_type              119390 non-null  object \n",
      " 20  assigned_room_type              119390 non-null  object \n",
      " 21  booking_changes                 119390 non-null  int64  \n",
      " 22  deposit_type                    119390 non-null  object \n",
      " 23  agent                           119390 non-null  float64\n",
      " 24  company                         119390 non-null  float64\n",
      " 25  days_in_waiting_list            119390 non-null  int64  \n",
      " 26  customer_type                   119390 non-null  object \n",
      " 27  adr                             119390 non-null  float64\n",
      " 28  required_car_parking_spaces     119390 non-null  int64  \n",
      " 29  total_of_special_requests       119390 non-null  int64  \n",
      " 30  reservation_status              119390 non-null  object \n",
      " 31  reservation_status_date         119390 non-null  object \n",
      "dtypes: float64(4), int64(16), object(12)\n",
      "memory usage: 29.1+ MB\n"
     ]
    }
   ],
   "source": [
    "data.info()"
   ]
  },
  {
   "cell_type": "code",
   "execution_count": 86,
   "id": "6f9d15a4",
   "metadata": {},
   "outputs": [],
   "source": [
    "data['reservation_status_date'] = pd.to_datetime(data['reservation_status_date'])#, format='%Y/%m/%d'"
   ]
  },
  {
   "cell_type": "code",
   "execution_count": 87,
   "id": "0c9cd148",
   "metadata": {},
   "outputs": [],
   "source": [
    "# Dicionário de mapeamento dos meses\n",
    "# meses = {'January': 1, 'February': 2, 'March': 3, 'April': 4, 'May': 5, 'June': 6, 'July': 7, 'August': 8, 'September': 9, 'October': 10, 'November': 11, 'December': 12}\n",
    "# data['arrival_date_month'] = data['arrival_date_month'].map(meses)"
   ]
  },
  {
   "cell_type": "code",
   "execution_count": 88,
   "id": "6e16fce3",
   "metadata": {},
   "outputs": [
    {
     "data": {
      "text/html": [
       "<div>\n",
       "<style scoped>\n",
       "    .dataframe tbody tr th:only-of-type {\n",
       "        vertical-align: middle;\n",
       "    }\n",
       "\n",
       "    .dataframe tbody tr th {\n",
       "        vertical-align: top;\n",
       "    }\n",
       "\n",
       "    .dataframe thead th {\n",
       "        text-align: right;\n",
       "    }\n",
       "</style>\n",
       "<table border=\"1\" class=\"dataframe\">\n",
       "  <thead>\n",
       "    <tr style=\"text-align: right;\">\n",
       "      <th></th>\n",
       "      <th>hotel</th>\n",
       "      <th>is_canceled</th>\n",
       "      <th>lead_time</th>\n",
       "      <th>arrival_date_year</th>\n",
       "      <th>arrival_date_month</th>\n",
       "      <th>arrival_date_week_number</th>\n",
       "      <th>arrival_date_day_of_month</th>\n",
       "      <th>stays_in_weekend_nights</th>\n",
       "      <th>stays_in_week_nights</th>\n",
       "      <th>adults</th>\n",
       "      <th>children</th>\n",
       "      <th>babies</th>\n",
       "      <th>meal</th>\n",
       "      <th>country</th>\n",
       "      <th>market_segment</th>\n",
       "      <th>distribution_channel</th>\n",
       "      <th>is_repeated_guest</th>\n",
       "      <th>previous_cancellations</th>\n",
       "      <th>previous_bookings_not_canceled</th>\n",
       "      <th>reserved_room_type</th>\n",
       "      <th>assigned_room_type</th>\n",
       "      <th>booking_changes</th>\n",
       "      <th>deposit_type</th>\n",
       "      <th>agent</th>\n",
       "      <th>company</th>\n",
       "      <th>days_in_waiting_list</th>\n",
       "      <th>customer_type</th>\n",
       "      <th>adr</th>\n",
       "      <th>required_car_parking_spaces</th>\n",
       "      <th>total_of_special_requests</th>\n",
       "      <th>reservation_status</th>\n",
       "      <th>reservation_status_date</th>\n",
       "    </tr>\n",
       "  </thead>\n",
       "  <tbody>\n",
       "    <tr>\n",
       "      <th>0</th>\n",
       "      <td>Resort Hotel</td>\n",
       "      <td>0</td>\n",
       "      <td>342</td>\n",
       "      <td>2015</td>\n",
       "      <td>July</td>\n",
       "      <td>27</td>\n",
       "      <td>1</td>\n",
       "      <td>0</td>\n",
       "      <td>0</td>\n",
       "      <td>2</td>\n",
       "      <td>0.0000</td>\n",
       "      <td>0</td>\n",
       "      <td>BB</td>\n",
       "      <td>PRT</td>\n",
       "      <td>Direct</td>\n",
       "      <td>Direct</td>\n",
       "      <td>0</td>\n",
       "      <td>0</td>\n",
       "      <td>0</td>\n",
       "      <td>C</td>\n",
       "      <td>C</td>\n",
       "      <td>3</td>\n",
       "      <td>No Deposit</td>\n",
       "      <td>0.0000</td>\n",
       "      <td>0.0000</td>\n",
       "      <td>0</td>\n",
       "      <td>Transient</td>\n",
       "      <td>0.0000</td>\n",
       "      <td>0</td>\n",
       "      <td>0</td>\n",
       "      <td>Check-Out</td>\n",
       "      <td>2015-07-01</td>\n",
       "    </tr>\n",
       "  </tbody>\n",
       "</table>\n",
       "</div>"
      ],
      "text/plain": [
       "          hotel  is_canceled  lead_time  arrival_date_year arrival_date_month  arrival_date_week_number  arrival_date_day_of_month  stays_in_weekend_nights  stays_in_week_nights  adults  children  babies meal country market_segment distribution_channel  is_repeated_guest  previous_cancellations  previous_bookings_not_canceled reserved_room_type assigned_room_type  booking_changes deposit_type  agent  company  days_in_waiting_list customer_type    adr  required_car_parking_spaces  total_of_special_requests reservation_status reservation_status_date\n",
       "0  Resort Hotel            0        342               2015               July                        27                          1                        0                     0       2    0.0000       0   BB     PRT         Direct               Direct                  0                       0                               0                  C                  C                3   No Deposit 0.0000   0.0000                     0     Transient 0.0000                            0                          0          Check-Out              2015-07-01"
      ]
     },
     "execution_count": 88,
     "metadata": {},
     "output_type": "execute_result"
    }
   ],
   "source": [
    "data.head(1)"
   ]
  },
  {
   "cell_type": "code",
   "execution_count": 89,
   "id": "7b7bd3d8",
   "metadata": {},
   "outputs": [],
   "source": [
    "# data.rename(columns = {'arrival_date_year':'year','arrival_date_month':'month','arrival_date_day_of_month':'day'}, inplace=True)\n",
    "# data['arrival_date'] = pd.to_datetime(data[['year', 'month', 'day']],format='%Y%m%d')\n",
    "# data=data.drop(columns=['year','month','day'], axis=1)"
   ]
  },
  {
   "cell_type": "code",
   "execution_count": 90,
   "id": "f7471da8",
   "metadata": {},
   "outputs": [],
   "source": [
    "#data['time']= (data.arrival_date - data.reservation_status_date).dt.days"
   ]
  },
  {
   "cell_type": "code",
   "execution_count": 91,
   "id": "4b3bc443",
   "metadata": {},
   "outputs": [],
   "source": [
    "data = data.astype({\"children\": int, \"agent\": int, \"company\": int})"
   ]
  },
  {
   "cell_type": "markdown",
   "id": "223a743a",
   "metadata": {},
   "source": [
    "### <div style=\"color:white;display:fill;border-radius:5px;background-color:#2E6B8E;letter-spacing:0.5px;overflow:hidden\"><p style=\"padding:10px;color:white;overflow:hidden;text-align: center;margin:0;font-size:120%\">Dados Estranhos</p></div>"
   ]
  },
  {
   "cell_type": "code",
   "execution_count": 92,
   "id": "bc63a096",
   "metadata": {},
   "outputs": [
    {
     "data": {
      "text/html": [
       "<div>\n",
       "<style scoped>\n",
       "    .dataframe tbody tr th:only-of-type {\n",
       "        vertical-align: middle;\n",
       "    }\n",
       "\n",
       "    .dataframe tbody tr th {\n",
       "        vertical-align: top;\n",
       "    }\n",
       "\n",
       "    .dataframe thead th {\n",
       "        text-align: right;\n",
       "    }\n",
       "</style>\n",
       "<table border=\"1\" class=\"dataframe\">\n",
       "  <thead>\n",
       "    <tr style=\"text-align: right;\">\n",
       "      <th></th>\n",
       "      <th>count</th>\n",
       "      <th>mean</th>\n",
       "      <th>std</th>\n",
       "      <th>min</th>\n",
       "      <th>25%</th>\n",
       "      <th>50%</th>\n",
       "      <th>75%</th>\n",
       "      <th>max</th>\n",
       "    </tr>\n",
       "  </thead>\n",
       "  <tbody>\n",
       "    <tr>\n",
       "      <th>is_canceled</th>\n",
       "      <td>119,390.0000</td>\n",
       "      <td>0.3704</td>\n",
       "      <td>0.4829</td>\n",
       "      <td>0.0000</td>\n",
       "      <td>0.0000</td>\n",
       "      <td>0.0000</td>\n",
       "      <td>1.0000</td>\n",
       "      <td>1.0000</td>\n",
       "    </tr>\n",
       "    <tr>\n",
       "      <th>lead_time</th>\n",
       "      <td>119,390.0000</td>\n",
       "      <td>104.0114</td>\n",
       "      <td>106.8631</td>\n",
       "      <td>0.0000</td>\n",
       "      <td>18.0000</td>\n",
       "      <td>69.0000</td>\n",
       "      <td>160.0000</td>\n",
       "      <td>737.0000</td>\n",
       "    </tr>\n",
       "    <tr>\n",
       "      <th>arrival_date_year</th>\n",
       "      <td>119,390.0000</td>\n",
       "      <td>2,016.1566</td>\n",
       "      <td>0.7075</td>\n",
       "      <td>2,015.0000</td>\n",
       "      <td>2,016.0000</td>\n",
       "      <td>2,016.0000</td>\n",
       "      <td>2,017.0000</td>\n",
       "      <td>2,017.0000</td>\n",
       "    </tr>\n",
       "    <tr>\n",
       "      <th>arrival_date_week_number</th>\n",
       "      <td>119,390.0000</td>\n",
       "      <td>27.1652</td>\n",
       "      <td>13.6051</td>\n",
       "      <td>1.0000</td>\n",
       "      <td>16.0000</td>\n",
       "      <td>28.0000</td>\n",
       "      <td>38.0000</td>\n",
       "      <td>53.0000</td>\n",
       "    </tr>\n",
       "    <tr>\n",
       "      <th>arrival_date_day_of_month</th>\n",
       "      <td>119,390.0000</td>\n",
       "      <td>15.7982</td>\n",
       "      <td>8.7808</td>\n",
       "      <td>1.0000</td>\n",
       "      <td>8.0000</td>\n",
       "      <td>16.0000</td>\n",
       "      <td>23.0000</td>\n",
       "      <td>31.0000</td>\n",
       "    </tr>\n",
       "    <tr>\n",
       "      <th>stays_in_weekend_nights</th>\n",
       "      <td>119,390.0000</td>\n",
       "      <td>0.9276</td>\n",
       "      <td>0.9986</td>\n",
       "      <td>0.0000</td>\n",
       "      <td>0.0000</td>\n",
       "      <td>1.0000</td>\n",
       "      <td>2.0000</td>\n",
       "      <td>19.0000</td>\n",
       "    </tr>\n",
       "    <tr>\n",
       "      <th>stays_in_week_nights</th>\n",
       "      <td>119,390.0000</td>\n",
       "      <td>2.5003</td>\n",
       "      <td>1.9083</td>\n",
       "      <td>0.0000</td>\n",
       "      <td>1.0000</td>\n",
       "      <td>2.0000</td>\n",
       "      <td>3.0000</td>\n",
       "      <td>50.0000</td>\n",
       "    </tr>\n",
       "    <tr>\n",
       "      <th>adults</th>\n",
       "      <td>119,390.0000</td>\n",
       "      <td>1.8564</td>\n",
       "      <td>0.5793</td>\n",
       "      <td>0.0000</td>\n",
       "      <td>2.0000</td>\n",
       "      <td>2.0000</td>\n",
       "      <td>2.0000</td>\n",
       "      <td>55.0000</td>\n",
       "    </tr>\n",
       "    <tr>\n",
       "      <th>children</th>\n",
       "      <td>119,390.0000</td>\n",
       "      <td>0.1039</td>\n",
       "      <td>0.3986</td>\n",
       "      <td>0.0000</td>\n",
       "      <td>0.0000</td>\n",
       "      <td>0.0000</td>\n",
       "      <td>0.0000</td>\n",
       "      <td>10.0000</td>\n",
       "    </tr>\n",
       "    <tr>\n",
       "      <th>babies</th>\n",
       "      <td>119,390.0000</td>\n",
       "      <td>0.0079</td>\n",
       "      <td>0.0974</td>\n",
       "      <td>0.0000</td>\n",
       "      <td>0.0000</td>\n",
       "      <td>0.0000</td>\n",
       "      <td>0.0000</td>\n",
       "      <td>10.0000</td>\n",
       "    </tr>\n",
       "    <tr>\n",
       "      <th>is_repeated_guest</th>\n",
       "      <td>119,390.0000</td>\n",
       "      <td>0.0319</td>\n",
       "      <td>0.1758</td>\n",
       "      <td>0.0000</td>\n",
       "      <td>0.0000</td>\n",
       "      <td>0.0000</td>\n",
       "      <td>0.0000</td>\n",
       "      <td>1.0000</td>\n",
       "    </tr>\n",
       "    <tr>\n",
       "      <th>previous_cancellations</th>\n",
       "      <td>119,390.0000</td>\n",
       "      <td>0.0871</td>\n",
       "      <td>0.8443</td>\n",
       "      <td>0.0000</td>\n",
       "      <td>0.0000</td>\n",
       "      <td>0.0000</td>\n",
       "      <td>0.0000</td>\n",
       "      <td>26.0000</td>\n",
       "    </tr>\n",
       "    <tr>\n",
       "      <th>previous_bookings_not_canceled</th>\n",
       "      <td>119,390.0000</td>\n",
       "      <td>0.1371</td>\n",
       "      <td>1.4974</td>\n",
       "      <td>0.0000</td>\n",
       "      <td>0.0000</td>\n",
       "      <td>0.0000</td>\n",
       "      <td>0.0000</td>\n",
       "      <td>72.0000</td>\n",
       "    </tr>\n",
       "    <tr>\n",
       "      <th>booking_changes</th>\n",
       "      <td>119,390.0000</td>\n",
       "      <td>0.2211</td>\n",
       "      <td>0.6523</td>\n",
       "      <td>0.0000</td>\n",
       "      <td>0.0000</td>\n",
       "      <td>0.0000</td>\n",
       "      <td>0.0000</td>\n",
       "      <td>21.0000</td>\n",
       "    </tr>\n",
       "    <tr>\n",
       "      <th>agent</th>\n",
       "      <td>119,390.0000</td>\n",
       "      <td>74.8283</td>\n",
       "      <td>107.1420</td>\n",
       "      <td>0.0000</td>\n",
       "      <td>7.0000</td>\n",
       "      <td>9.0000</td>\n",
       "      <td>152.0000</td>\n",
       "      <td>535.0000</td>\n",
       "    </tr>\n",
       "    <tr>\n",
       "      <th>company</th>\n",
       "      <td>119,390.0000</td>\n",
       "      <td>10.7752</td>\n",
       "      <td>53.9439</td>\n",
       "      <td>0.0000</td>\n",
       "      <td>0.0000</td>\n",
       "      <td>0.0000</td>\n",
       "      <td>0.0000</td>\n",
       "      <td>543.0000</td>\n",
       "    </tr>\n",
       "    <tr>\n",
       "      <th>days_in_waiting_list</th>\n",
       "      <td>119,390.0000</td>\n",
       "      <td>2.3211</td>\n",
       "      <td>17.5947</td>\n",
       "      <td>0.0000</td>\n",
       "      <td>0.0000</td>\n",
       "      <td>0.0000</td>\n",
       "      <td>0.0000</td>\n",
       "      <td>391.0000</td>\n",
       "    </tr>\n",
       "    <tr>\n",
       "      <th>adr</th>\n",
       "      <td>119,390.0000</td>\n",
       "      <td>101.8311</td>\n",
       "      <td>50.5358</td>\n",
       "      <td>-6.3800</td>\n",
       "      <td>69.2900</td>\n",
       "      <td>94.5750</td>\n",
       "      <td>126.0000</td>\n",
       "      <td>5,400.0000</td>\n",
       "    </tr>\n",
       "    <tr>\n",
       "      <th>required_car_parking_spaces</th>\n",
       "      <td>119,390.0000</td>\n",
       "      <td>0.0625</td>\n",
       "      <td>0.2453</td>\n",
       "      <td>0.0000</td>\n",
       "      <td>0.0000</td>\n",
       "      <td>0.0000</td>\n",
       "      <td>0.0000</td>\n",
       "      <td>8.0000</td>\n",
       "    </tr>\n",
       "    <tr>\n",
       "      <th>total_of_special_requests</th>\n",
       "      <td>119,390.0000</td>\n",
       "      <td>0.5714</td>\n",
       "      <td>0.7928</td>\n",
       "      <td>0.0000</td>\n",
       "      <td>0.0000</td>\n",
       "      <td>0.0000</td>\n",
       "      <td>1.0000</td>\n",
       "      <td>5.0000</td>\n",
       "    </tr>\n",
       "  </tbody>\n",
       "</table>\n",
       "</div>"
      ],
      "text/plain": [
       "                                      count       mean      std        min        25%        50%        75%        max\n",
       "is_canceled                    119,390.0000     0.3704   0.4829     0.0000     0.0000     0.0000     1.0000     1.0000\n",
       "lead_time                      119,390.0000   104.0114 106.8631     0.0000    18.0000    69.0000   160.0000   737.0000\n",
       "arrival_date_year              119,390.0000 2,016.1566   0.7075 2,015.0000 2,016.0000 2,016.0000 2,017.0000 2,017.0000\n",
       "arrival_date_week_number       119,390.0000    27.1652  13.6051     1.0000    16.0000    28.0000    38.0000    53.0000\n",
       "arrival_date_day_of_month      119,390.0000    15.7982   8.7808     1.0000     8.0000    16.0000    23.0000    31.0000\n",
       "stays_in_weekend_nights        119,390.0000     0.9276   0.9986     0.0000     0.0000     1.0000     2.0000    19.0000\n",
       "stays_in_week_nights           119,390.0000     2.5003   1.9083     0.0000     1.0000     2.0000     3.0000    50.0000\n",
       "adults                         119,390.0000     1.8564   0.5793     0.0000     2.0000     2.0000     2.0000    55.0000\n",
       "children                       119,390.0000     0.1039   0.3986     0.0000     0.0000     0.0000     0.0000    10.0000\n",
       "babies                         119,390.0000     0.0079   0.0974     0.0000     0.0000     0.0000     0.0000    10.0000\n",
       "is_repeated_guest              119,390.0000     0.0319   0.1758     0.0000     0.0000     0.0000     0.0000     1.0000\n",
       "previous_cancellations         119,390.0000     0.0871   0.8443     0.0000     0.0000     0.0000     0.0000    26.0000\n",
       "previous_bookings_not_canceled 119,390.0000     0.1371   1.4974     0.0000     0.0000     0.0000     0.0000    72.0000\n",
       "booking_changes                119,390.0000     0.2211   0.6523     0.0000     0.0000     0.0000     0.0000    21.0000\n",
       "agent                          119,390.0000    74.8283 107.1420     0.0000     7.0000     9.0000   152.0000   535.0000\n",
       "company                        119,390.0000    10.7752  53.9439     0.0000     0.0000     0.0000     0.0000   543.0000\n",
       "days_in_waiting_list           119,390.0000     2.3211  17.5947     0.0000     0.0000     0.0000     0.0000   391.0000\n",
       "adr                            119,390.0000   101.8311  50.5358    -6.3800    69.2900    94.5750   126.0000 5,400.0000\n",
       "required_car_parking_spaces    119,390.0000     0.0625   0.2453     0.0000     0.0000     0.0000     0.0000     8.0000\n",
       "total_of_special_requests      119,390.0000     0.5714   0.7928     0.0000     0.0000     0.0000     1.0000     5.0000"
      ]
     },
     "execution_count": 92,
     "metadata": {},
     "output_type": "execute_result"
    }
   ],
   "source": [
    "data.describe().T"
   ]
  },
  {
   "cell_type": "code",
   "execution_count": 93,
   "id": "e434ef60",
   "metadata": {},
   "outputs": [
    {
     "data": {
      "text/plain": [
       "155"
      ]
     },
     "execution_count": 93,
     "metadata": {},
     "output_type": "execute_result"
    }
   ],
   "source": [
    "#No people and reservation status equal to \"check-out\"\n",
    "len(data.loc[((data['children'] == 0) & (data['adults'] == 0) & (data['babies'] == 0) & (data['reservation_status'] == 'Check-Out'))])"
   ]
  },
  {
   "cell_type": "code",
   "execution_count": 94,
   "id": "b6fa3559",
   "metadata": {},
   "outputs": [],
   "source": [
    "data=data.loc[~((data['children'] == 0) & (data['adults'] == 0) & (data['babies'] == 0) & (data['reservation_status'] == 'Check-Out'))]"
   ]
  },
  {
   "cell_type": "code",
   "execution_count": 95,
   "id": "71858fc9",
   "metadata": {},
   "outputs": [
    {
     "data": {
      "text/plain": [
       "119234"
      ]
     },
     "execution_count": 95,
     "metadata": {},
     "output_type": "execute_result"
    }
   ],
   "source": [
    "#Negative ADR \n",
    "data = data.loc[~(data['adr']<0)]\n",
    "len(data)"
   ]
  },
  {
   "cell_type": "markdown",
   "id": "9e58592f",
   "metadata": {},
   "source": [
    "### <div style=\"color:white;display:fill;border-radius:5px;background-color:#2E6B8E;letter-spacing:0.5px;overflow:hidden\"><p style=\"padding:10px;color:white;overflow:hidden;text-align: center;margin:0;font-size:120%\">Feature Engineer</p></div>"
   ]
  },
  {
   "cell_type": "code",
   "execution_count": 96,
   "id": "a720be96",
   "metadata": {},
   "outputs": [],
   "source": [
    "#Same meaning values according to dictionary source\n",
    "data['meal'] = data['meal'].replace(\"Undefined\", \"SC\")"
   ]
  },
  {
   "cell_type": "code",
   "execution_count": 97,
   "id": "2e1591db",
   "metadata": {},
   "outputs": [],
   "source": [
    "#data[\"adr_pp\"] = data[\"adr\"] / (data[\"adults\"] + data[\"children\"])\n",
    "data[\"people\"] = (data[\"adults\"] + data[\"children\"] + data[\"babies\"])\n",
    "data['kids'] = data['children'] + data['babies']\n",
    "data['days_stay'] = data['stays_in_weekend_nights'] + data['stays_in_week_nights']"
   ]
  },
  {
   "cell_type": "code",
   "execution_count": 98,
   "id": "96d73f7a",
   "metadata": {},
   "outputs": [],
   "source": [
    "def add_country_names(df):\n",
    "    country_names = []\n",
    "    for country_code in df['country']:\n",
    "        try:\n",
    "            country_name = pycountry.countries.get(alpha_3=country_code).name\n",
    "        except AttributeError:\n",
    "            country_name = None\n",
    "        except LookupError:\n",
    "            country_name = None\n",
    "        country_names.append(country_name)\n",
    "    df['country_name'] = country_names\n",
    "    return df"
   ]
  },
  {
   "cell_type": "code",
   "execution_count": 99,
   "id": "303d7273",
   "metadata": {},
   "outputs": [],
   "source": [
    "def add_continent(df):\n",
    "    continents = []\n",
    "    for country in df['country_name']:\n",
    "        try:\n",
    "            country_code = pc.country_name_to_country_alpha2(country)\n",
    "            continent_name = pc.country_alpha2_to_continent_code(country_code)\n",
    "            continent_code = pc.convert_continent_code_to_continent_name(continent_name)\n",
    "            continents.append(continent_code)\n",
    "        except:\n",
    "            continents.append(None)\n",
    "    df['continentes'] = continents    \n",
    "\n",
    "    return df"
   ]
  },
  {
   "cell_type": "code",
   "execution_count": 100,
   "id": "2a33f228",
   "metadata": {},
   "outputs": [],
   "source": [
    "data = add_country_names(data)"
   ]
  },
  {
   "cell_type": "code",
   "execution_count": 101,
   "id": "26315308",
   "metadata": {},
   "outputs": [],
   "source": [
    "data = add_continent(data)"
   ]
  },
  {
   "cell_type": "code",
   "execution_count": 102,
   "id": "49186fe8",
   "metadata": {},
   "outputs": [],
   "source": [
    "data.loc[data['country'] == 'PRT', 'continentes'] = 'Native'"
   ]
  },
  {
   "cell_type": "code",
   "execution_count": 103,
   "id": "2c58e00c",
   "metadata": {},
   "outputs": [],
   "source": [
    "nan_replacements = {\"children\": 0, \"agent\": 0, \"company\": 0, \"country\":\"Unknow\", \"country_name\":\"Unknow\", \"continentes\":\"Unknow\"}\n",
    "data = data.fillna(nan_replacements)"
   ]
  },
  {
   "cell_type": "code",
   "execution_count": 104,
   "id": "c43ef93a",
   "metadata": {},
   "outputs": [
    {
     "data": {
      "text/plain": [
       "hotel                             0\n",
       "is_canceled                       0\n",
       "lead_time                         0\n",
       "arrival_date_year                 0\n",
       "arrival_date_month                0\n",
       "arrival_date_week_number          0\n",
       "arrival_date_day_of_month         0\n",
       "stays_in_weekend_nights           0\n",
       "stays_in_week_nights              0\n",
       "adults                            0\n",
       "children                          0\n",
       "babies                            0\n",
       "meal                              0\n",
       "country                           0\n",
       "market_segment                    0\n",
       "distribution_channel              0\n",
       "is_repeated_guest                 0\n",
       "previous_cancellations            0\n",
       "previous_bookings_not_canceled    0\n",
       "reserved_room_type                0\n",
       "assigned_room_type                0\n",
       "booking_changes                   0\n",
       "deposit_type                      0\n",
       "agent                             0\n",
       "company                           0\n",
       "days_in_waiting_list              0\n",
       "customer_type                     0\n",
       "adr                               0\n",
       "required_car_parking_spaces       0\n",
       "total_of_special_requests         0\n",
       "reservation_status                0\n",
       "reservation_status_date           0\n",
       "people                            0\n",
       "kids                              0\n",
       "days_stay                         0\n",
       "dtype: int64"
      ]
     },
     "execution_count": 104,
     "metadata": {},
     "output_type": "execute_result"
    }
   ],
   "source": [
    "data.isna().sum()"
   ]
  },
  {
   "cell_type": "code",
   "execution_count": 105,
   "id": "d8ec7502",
   "metadata": {},
   "outputs": [],
   "source": [
    "data=data.reset_index(drop=True)"
   ]
  },
  {
   "cell_type": "code",
   "execution_count": 106,
   "id": "5c5bf17f",
   "metadata": {},
   "outputs": [],
   "source": [
    "data.to_csv(f\"{ROOT_DIR}/data/data_processed/hotel_bookings_processed.csv\", index=False)"
   ]
  }
 ],
 "metadata": {
  "hide_input": false,
  "kernelspec": {
   "display_name": "Python 3 (ipykernel)",
   "language": "python",
   "name": "python3"
  },
  "language_info": {
   "codemirror_mode": {
    "name": "ipython",
    "version": 3
   },
   "file_extension": ".py",
   "mimetype": "text/x-python",
   "name": "python",
   "nbconvert_exporter": "python",
   "pygments_lexer": "ipython3",
   "version": "3.10.6"
  },
  "latex_envs": {
   "LaTeX_envs_menu_present": true,
   "autoclose": false,
   "autocomplete": true,
   "bibliofile": "biblio.bib",
   "cite_by": "apalike",
   "current_citInitial": 1,
   "eqLabelWithNumbers": true,
   "eqNumInitial": 1,
   "hotkeys": {
    "equation": "Ctrl-E",
    "itemize": "Ctrl-I"
   },
   "labels_anchors": false,
   "latex_user_defs": false,
   "report_style_numbering": false,
   "user_envs_cfg": false
  }
 },
 "nbformat": 4,
 "nbformat_minor": 5
}
