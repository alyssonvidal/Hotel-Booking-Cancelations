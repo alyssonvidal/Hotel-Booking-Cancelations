{
 "cells": [
  {
   "cell_type": "code",
   "execution_count": 2,
   "id": "3536e343",
   "metadata": {},
   "outputs": [],
   "source": [
    "import pandas as pd\n",
    "import lightgbm"
   ]
  },
  {
   "cell_type": "code",
   "execution_count": null,
   "id": "6d042fd5",
   "metadata": {},
   "outputs": [],
   "source": [
    "y = data_prep[target]\n",
    "X = data_prep[selected_features]\n",
    "\n",
    "X_train, X_val, y_train, y_val = train_test_split(X, y, test_size = 0.2, stratify=y, shuffle=True, random_state=RANDOM_SEED)\n",
    "X_train.shape, y_train.shape, X_val.shape, y_val.shape"
   ]
  },
  {
   "cell_type": "code",
   "execution_count": null,
   "id": "92440048",
   "metadata": {},
   "outputs": [],
   "source": [
    "lgbm = LGBMClassifier(**lgbm_best_params)#**lgbm_best_params\n",
    "lgbm.fit(X, y)\n",
    "lightgbm.plot_importance(lgbm, figsize=(10, 9));"
   ]
  }
 ],
 "metadata": {
  "kernelspec": {
   "display_name": "Python 3 (ipykernel)",
   "language": "python",
   "name": "python3"
  },
  "language_info": {
   "codemirror_mode": {
    "name": "ipython",
    "version": 3
   },
   "file_extension": ".py",
   "mimetype": "text/x-python",
   "name": "python",
   "nbconvert_exporter": "python",
   "pygments_lexer": "ipython3",
   "version": "3.10.6"
  }
 },
 "nbformat": 4,
 "nbformat_minor": 5
}
