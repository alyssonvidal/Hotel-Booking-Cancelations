{
 "cells": [
  {
   "cell_type": "markdown",
   "id": "f30440d2",
   "metadata": {},
   "source": [
    "# Content\n",
    "     \n",
    "**Data Preprocessing**  \n",
    "   - Settings\n",
    "   - Loading Data\n",
    "   - Glossary\n",
    "   - Dealing with missing Values\n",
    "   - Fixing Data Types\n",
    "   - Dealing Bad Values\n",
    "   - Feature Engieenier"
   ]
  },
  {
   "cell_type": "code",
   "execution_count": 1,
   "id": "13f3429d",
   "metadata": {},
   "outputs": [],
   "source": [
    "### Data Analisy Libraries ###\n",
    "import numpy as np\n",
    "import pandas as pd\n",
    "\n",
    "import sqlite3\n",
    "import warnings\n",
    "warnings.filterwarnings(\"ignore\")\n",
    "\n",
    "import os\n",
    "\n",
    "# for dirname, _, filenames in os.walk('C:\\\\Users\\Alysson\\Documents\\Projects\\Hotel-Booking-Cancelation'):\n",
    "#     for filename in filenames:\n",
    "#         print(os.path.join(dirname, filename))"
   ]
  },
  {
   "cell_type": "markdown",
   "id": "6f75e5a8",
   "metadata": {},
   "source": [
    "## Settings"
   ]
  },
  {
   "cell_type": "code",
   "execution_count": 2,
   "id": "e914e475",
   "metadata": {},
   "outputs": [],
   "source": [
    "def jupyter_menu_settings():   \n",
    "    \n",
    "    \"\"\" Best looking changes. \"\"\"\n",
    "    \n",
    "    display(HTML(\"\"\"\n",
    "            <style>\n",
    "\n",
    "            h1 {\n",
    "            background-color: #0E2031;\n",
    "            color: white;\n",
    "            padding: 15px 15px;\n",
    "            text-align: center;\n",
    "            font-family: Arial, Helvetica, sans-serif;\n",
    "            border-radius:10px 10px;\n",
    "            }\n",
    "\n",
    "            h2 {\n",
    "            background-color: #153656;\n",
    "            color: white;\n",
    "            padding: 10px 10px;\n",
    "            text-align: center;\n",
    "            font-family: Arial, Helvetica, sans-serif\n",
    "            border-radius:10px 10px;\n",
    "            }\n",
    "\n",
    "            </style>            \n",
    "    \"\"\"))\n",
    "\n",
    "def jupyter_table_settings():\n",
    "    pd.set_option('display.expand_frame_repr', False )\n",
    "    pd.set_option('display.max_columns', 30)\n",
    "    pd.set_option('display.max_rows', 30)"
   ]
  },
  {
   "cell_type": "code",
   "execution_count": 3,
   "id": "a4bb7f4f",
   "metadata": {},
   "outputs": [],
   "source": [
    "# data_raw = pd.read_csv('C:\\\\Users\\Alysson\\Documents\\Projects\\Hotel-Booking-Cancelation\\data\\hotel_bookings.csv')\n",
    "# data=data_raw.copy()"
   ]
  },
  {
   "cell_type": "code",
   "execution_count": 6,
   "id": "e1c4df30",
   "metadata": {},
   "outputs": [
    {
     "data": {
      "text/plain": [
       "(141947, 32)"
      ]
     },
     "execution_count": 6,
     "metadata": {},
     "output_type": "execute_result"
    }
   ],
   "source": [
    "conn = sqlite3.connect(\"../data/hotels.sqlite\")\n",
    "data_raw = pd.read_sql_query(\"SELECT * from hotels\", conn)\n",
    "conn.close()\n",
    "data_raw.shape"
   ]
  },
  {
   "cell_type": "code",
   "execution_count": 9,
   "id": "cd778898",
   "metadata": {},
   "outputs": [],
   "source": [
    "data=data_raw.copy()"
   ]
  },
  {
   "cell_type": "code",
   "execution_count": 10,
   "id": "a5d1778a",
   "metadata": {},
   "outputs": [
    {
     "name": "stdout",
     "output_type": "stream",
     "text": [
      "<class 'pandas.core.frame.DataFrame'>\n",
      "RangeIndex: 141947 entries, 0 to 141946\n",
      "Data columns (total 32 columns):\n",
      " #   Column                          Non-Null Count   Dtype  \n",
      "---  ------                          --------------   -----  \n",
      " 0   hotel                           141947 non-null  object \n",
      " 1   is_canceled                     141947 non-null  int64  \n",
      " 2   lead_time                       141947 non-null  int64  \n",
      " 3   arrival_date_year               141947 non-null  int64  \n",
      " 4   arrival_date_month              141947 non-null  object \n",
      " 5   arrival_date_week_number        141947 non-null  int64  \n",
      " 6   arrival_date_day_of_month       141947 non-null  int64  \n",
      " 7   stays_in_weekend_nights         141947 non-null  int64  \n",
      " 8   stays_in_week_nights            141947 non-null  int64  \n",
      " 9   adults                          141947 non-null  int64  \n",
      " 10  children                        141939 non-null  float64\n",
      " 11  babies                          141947 non-null  int64  \n",
      " 12  meal                            141947 non-null  object \n",
      " 13  country                         141322 non-null  object \n",
      " 14  market_segment                  141947 non-null  object \n",
      " 15  distribution_channel            141947 non-null  object \n",
      " 16  is_repeated_guest               141947 non-null  int64  \n",
      " 17  previous_cancellations          141947 non-null  int64  \n",
      " 18  previous_bookings_not_canceled  141947 non-null  int64  \n",
      " 19  reserved_room_type              141947 non-null  object \n",
      " 20  assigned_room_type              141947 non-null  object \n",
      " 21  booking_changes                 141947 non-null  int64  \n",
      " 22  deposit_type                    141947 non-null  object \n",
      " 23  agent                           122392 non-null  float64\n",
      " 24  company                         8125 non-null    float64\n",
      " 25  days_in_waiting_list            141947 non-null  int64  \n",
      " 26  customer_type                   141947 non-null  object \n",
      " 27  adr                             141947 non-null  float64\n",
      " 28  required_car_parking_spaces     141947 non-null  int64  \n",
      " 29  total_of_special_requests       141947 non-null  int64  \n",
      " 30  reservation_status              141947 non-null  object \n",
      " 31  reservation_status_date         141947 non-null  object \n",
      "dtypes: float64(4), int64(16), object(12)\n",
      "memory usage: 34.7+ MB\n"
     ]
    }
   ],
   "source": [
    "#data.info()"
   ]
  },
  {
   "cell_type": "markdown",
   "id": "a9c6f397",
   "metadata": {},
   "source": [
    "## Dealing with missing values"
   ]
  },
  {
   "cell_type": "code",
   "execution_count": 11,
   "id": "0d19bd97",
   "metadata": {},
   "outputs": [
    {
     "data": {
      "text/plain": [
       "hotel                                  0\n",
       "is_canceled                            0\n",
       "lead_time                              0\n",
       "arrival_date_year                      0\n",
       "arrival_date_month                     0\n",
       "arrival_date_week_number               0\n",
       "arrival_date_day_of_month              0\n",
       "stays_in_weekend_nights                0\n",
       "stays_in_week_nights                   0\n",
       "adults                                 0\n",
       "children                               8\n",
       "babies                                 0\n",
       "meal                                   0\n",
       "country                              625\n",
       "market_segment                         0\n",
       "distribution_channel                   0\n",
       "is_repeated_guest                      0\n",
       "previous_cancellations                 0\n",
       "previous_bookings_not_canceled         0\n",
       "reserved_room_type                     0\n",
       "assigned_room_type                     0\n",
       "booking_changes                        0\n",
       "deposit_type                           0\n",
       "agent                              19555\n",
       "company                           133822\n",
       "days_in_waiting_list                   0\n",
       "customer_type                          0\n",
       "adr                                    0\n",
       "required_car_parking_spaces            0\n",
       "total_of_special_requests              0\n",
       "reservation_status                     0\n",
       "reservation_status_date                0\n",
       "dtype: int64"
      ]
     },
     "execution_count": 11,
     "metadata": {},
     "output_type": "execute_result"
    }
   ],
   "source": [
    "data.isnull().sum()"
   ]
  },
  {
   "cell_type": "code",
   "execution_count": 12,
   "id": "6bf31c81",
   "metadata": {},
   "outputs": [],
   "source": [
    "#replacing missing values\n",
    "nan_replacements = {\"children\": 0,\"country\": \"unknown\", \"agent\": 0, \"company\": 0}\n",
    "data = data.fillna(nan_replacements)"
   ]
  },
  {
   "cell_type": "code",
   "execution_count": 20,
   "id": "8683c915",
   "metadata": {},
   "outputs": [
    {
     "data": {
      "text/plain": [
       "hotel                             0\n",
       "is_canceled                       0\n",
       "lead_time                         0\n",
       "arrival_date_year                 0\n",
       "arrival_date_month                0\n",
       "arrival_date_week_number          0\n",
       "arrival_date_day_of_month         0\n",
       "stays_in_weekend_nights           0\n",
       "stays_in_week_nights              0\n",
       "adults                            0\n",
       "children                          0\n",
       "babies                            0\n",
       "meal                              0\n",
       "country                           0\n",
       "market_segment                    0\n",
       "distribution_channel              0\n",
       "is_repeated_guest                 0\n",
       "previous_cancellations            0\n",
       "previous_bookings_not_canceled    0\n",
       "reserved_room_type                0\n",
       "assigned_room_type                0\n",
       "booking_changes                   0\n",
       "deposit_type                      0\n",
       "agent                             0\n",
       "company                           0\n",
       "days_in_waiting_list              0\n",
       "customer_type                     0\n",
       "adr                               0\n",
       "required_car_parking_spaces       0\n",
       "total_of_special_requests         0\n",
       "reservation_status                0\n",
       "reservation_status_date           0\n",
       "adr_pp                            0\n",
       "people                            0\n",
       "kids                              0\n",
       "days_stay                         0\n",
       "dtype: int64"
      ]
     },
     "execution_count": 20,
     "metadata": {},
     "output_type": "execute_result"
    }
   ],
   "source": [
    "data.isnull().sum()"
   ]
  },
  {
   "cell_type": "markdown",
   "id": "9cc2dea6",
   "metadata": {},
   "source": [
    "## Fixing Data Types"
   ]
  },
  {
   "cell_type": "code",
   "execution_count": 21,
   "id": "6f9d15a4",
   "metadata": {},
   "outputs": [],
   "source": [
    "data['reservation_status_date'] = pd.to_datetime(data['reservation_status_date'], format='%Y/%m/%d')"
   ]
  },
  {
   "cell_type": "code",
   "execution_count": 22,
   "id": "28198cbf",
   "metadata": {},
   "outputs": [],
   "source": [
    "data = data.astype({\"children\": int, \"agent\": int, \"company\": int})"
   ]
  },
  {
   "cell_type": "markdown",
   "id": "223a743a",
   "metadata": {},
   "source": [
    "## Dealing Bad Values"
   ]
  },
  {
   "cell_type": "code",
   "execution_count": 23,
   "id": "83a537f5",
   "metadata": {},
   "outputs": [],
   "source": [
    "#removing zero guests possibility\n",
    "no_guest = ((data['children'] == 0) & (data['adults'] == 0) & (data['babies'] == 0))\n",
    "data = data[~no_guest]"
   ]
  },
  {
   "cell_type": "code",
   "execution_count": 24,
   "id": "9910afa1",
   "metadata": {},
   "outputs": [],
   "source": [
    "#removing negative values for transactions possibility\n",
    "negative_ADR = (data[\"adr\"] < 0)\n",
    "data = data[~negative_ADR]"
   ]
  },
  {
   "cell_type": "code",
   "execution_count": 25,
   "id": "622dc2e1",
   "metadata": {},
   "outputs": [],
   "source": [
    "#same meaning values according to dictionary source\n",
    "data['meal'].replace(\"Undefined\", \"SC\", inplace=True)"
   ]
  },
  {
   "cell_type": "markdown",
   "id": "9e58592f",
   "metadata": {},
   "source": [
    "## Feature Engieener"
   ]
  },
  {
   "cell_type": "code",
   "execution_count": 26,
   "id": "2e1591db",
   "metadata": {},
   "outputs": [],
   "source": [
    "#these new columns will help our analysis further on\n",
    "data[\"adr_pp\"] = data[\"adr\"] / (data[\"adults\"] + data[\"children\"])\n",
    "data[\"people\"] = (data[\"adults\"] + data[\"children\"] + data[\"babies\"])\n",
    "data['kids'] = data['children'] + data['babies']\n",
    "data['days_stay'] = data['stays_in_weekend_nights'] + data['stays_in_week_nights']"
   ]
  },
  {
   "cell_type": "code",
   "execution_count": 27,
   "id": "5dbcdc0e",
   "metadata": {},
   "outputs": [
    {
     "name": "stdout",
     "output_type": "stream",
     "text": [
      "<class 'pandas.core.frame.DataFrame'>\n",
      "Int64Index: 141736 entries, 0 to 141946\n",
      "Data columns (total 36 columns):\n",
      " #   Column                          Non-Null Count   Dtype         \n",
      "---  ------                          --------------   -----         \n",
      " 0   hotel                           141736 non-null  object        \n",
      " 1   is_canceled                     141736 non-null  int64         \n",
      " 2   lead_time                       141736 non-null  int64         \n",
      " 3   arrival_date_year               141736 non-null  int64         \n",
      " 4   arrival_date_month              141736 non-null  object        \n",
      " 5   arrival_date_week_number        141736 non-null  int64         \n",
      " 6   arrival_date_day_of_month       141736 non-null  int64         \n",
      " 7   stays_in_weekend_nights         141736 non-null  int64         \n",
      " 8   stays_in_week_nights            141736 non-null  int64         \n",
      " 9   adults                          141736 non-null  int64         \n",
      " 10  children                        141736 non-null  int32         \n",
      " 11  babies                          141736 non-null  int64         \n",
      " 12  meal                            141736 non-null  object        \n",
      " 13  country                         141736 non-null  object        \n",
      " 14  market_segment                  141736 non-null  object        \n",
      " 15  distribution_channel            141736 non-null  object        \n",
      " 16  is_repeated_guest               141736 non-null  int64         \n",
      " 17  previous_cancellations          141736 non-null  int64         \n",
      " 18  previous_bookings_not_canceled  141736 non-null  int64         \n",
      " 19  reserved_room_type              141736 non-null  object        \n",
      " 20  assigned_room_type              141736 non-null  object        \n",
      " 21  booking_changes                 141736 non-null  int64         \n",
      " 22  deposit_type                    141736 non-null  object        \n",
      " 23  agent                           141736 non-null  int32         \n",
      " 24  company                         141736 non-null  int32         \n",
      " 25  days_in_waiting_list            141736 non-null  int64         \n",
      " 26  customer_type                   141736 non-null  object        \n",
      " 27  adr                             141736 non-null  float64       \n",
      " 28  required_car_parking_spaces     141736 non-null  int64         \n",
      " 29  total_of_special_requests       141736 non-null  int64         \n",
      " 30  reservation_status              141736 non-null  object        \n",
      " 31  reservation_status_date         141736 non-null  datetime64[ns]\n",
      " 32  adr_pp                          141736 non-null  float64       \n",
      " 33  people                          141736 non-null  int64         \n",
      " 34  kids                            141736 non-null  int64         \n",
      " 35  days_stay                       141736 non-null  int64         \n",
      "dtypes: datetime64[ns](1), float64(2), int32(3), int64(19), object(11)\n",
      "memory usage: 38.4+ MB\n"
     ]
    }
   ],
   "source": [
    "data.info()"
   ]
  },
  {
   "cell_type": "code",
   "execution_count": null,
   "id": "28377567",
   "metadata": {},
   "outputs": [],
   "source": []
  }
 ],
 "metadata": {
  "hide_input": false,
  "kernelspec": {
   "display_name": "Python 3 (ipykernel)",
   "language": "python",
   "name": "python3"
  },
  "language_info": {
   "codemirror_mode": {
    "name": "ipython",
    "version": 3
   },
   "file_extension": ".py",
   "mimetype": "text/x-python",
   "name": "python",
   "nbconvert_exporter": "python",
   "pygments_lexer": "ipython3",
   "version": "3.9.7"
  },
  "latex_envs": {
   "LaTeX_envs_menu_present": true,
   "autoclose": false,
   "autocomplete": true,
   "bibliofile": "biblio.bib",
   "cite_by": "apalike",
   "current_citInitial": 1,
   "eqLabelWithNumbers": true,
   "eqNumInitial": 1,
   "hotkeys": {
    "equation": "Ctrl-E",
    "itemize": "Ctrl-I"
   },
   "labels_anchors": false,
   "latex_user_defs": false,
   "report_style_numbering": false,
   "user_envs_cfg": false
  }
 },
 "nbformat": 4,
 "nbformat_minor": 5
}
