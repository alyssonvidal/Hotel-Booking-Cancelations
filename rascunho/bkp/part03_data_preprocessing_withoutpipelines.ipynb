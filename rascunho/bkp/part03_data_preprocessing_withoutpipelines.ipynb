{
 "cells": [
  {
   "cell_type": "code",
   "execution_count": 3,
   "id": "f24fe833",
   "metadata": {},
   "outputs": [
    {
     "name": "stdout",
     "output_type": "stream",
     "text": [
      "<class 'pandas.core.frame.DataFrame'>\n",
      "Int64Index: 141736 entries, 0 to 141946\n",
      "Data columns (total 36 columns):\n",
      " #   Column                          Non-Null Count   Dtype         \n",
      "---  ------                          --------------   -----         \n",
      " 0   hotel                           141736 non-null  object        \n",
      " 1   is_canceled                     141736 non-null  int64         \n",
      " 2   lead_time                       141736 non-null  int64         \n",
      " 3   arrival_date_year               141736 non-null  int64         \n",
      " 4   arrival_date_month              141736 non-null  object        \n",
      " 5   arrival_date_week_number        141736 non-null  int64         \n",
      " 6   arrival_date_day_of_month       141736 non-null  int64         \n",
      " 7   stays_in_weekend_nights         141736 non-null  int64         \n",
      " 8   stays_in_week_nights            141736 non-null  int64         \n",
      " 9   adults                          141736 non-null  int64         \n",
      " 10  children                        141736 non-null  int32         \n",
      " 11  babies                          141736 non-null  int64         \n",
      " 12  meal                            141736 non-null  object        \n",
      " 13  country                         141736 non-null  object        \n",
      " 14  market_segment                  141736 non-null  object        \n",
      " 15  distribution_channel            141736 non-null  object        \n",
      " 16  is_repeated_guest               141736 non-null  int64         \n",
      " 17  previous_cancellations          141736 non-null  int64         \n",
      " 18  previous_bookings_not_canceled  141736 non-null  int64         \n",
      " 19  reserved_room_type              141736 non-null  object        \n",
      " 20  assigned_room_type              141736 non-null  object        \n",
      " 21  booking_changes                 141736 non-null  int64         \n",
      " 22  deposit_type                    141736 non-null  object        \n",
      " 23  agent                           141736 non-null  int32         \n",
      " 24  company                         141736 non-null  int32         \n",
      " 25  days_in_waiting_list            141736 non-null  int64         \n",
      " 26  customer_type                   141736 non-null  object        \n",
      " 27  adr                             141736 non-null  float64       \n",
      " 28  required_car_parking_spaces     141736 non-null  int64         \n",
      " 29  total_of_special_requests       141736 non-null  int64         \n",
      " 30  reservation_status              141736 non-null  object        \n",
      " 31  reservation_status_date         141736 non-null  datetime64[ns]\n",
      " 32  adr_pp                          141736 non-null  float64       \n",
      " 33  people                          141736 non-null  int64         \n",
      " 34  kids                            141736 non-null  int64         \n",
      " 35  days_stay                       141736 non-null  int64         \n",
      "dtypes: datetime64[ns](1), float64(2), int32(3), int64(19), object(11)\n",
      "memory usage: 38.4+ MB\n"
     ]
    }
   ],
   "source": [
    "%run part01_data_preparation.ipynb"
   ]
  },
  {
   "cell_type": "code",
   "execution_count": 94,
   "id": "7785502d",
   "metadata": {},
   "outputs": [],
   "source": [
    "import numpy as np\n",
    "from matplotlib import pyplot as plt\n",
    "%matplotlib inline\n",
    "import pandas as pd\n",
    "import seaborn as sns\n",
    "import scipy.stats as stats\n",
    "from scipy.stats import norm\n",
    "import time\n",
    "\n",
    "### Machine Learning Libraries ###\n",
    "from sklearn.model_selection import train_test_split, cross_val_predict, GridSearchCV, KFold, cross_validate, StratifiedKFold\n",
    "from sklearn.pipeline import Pipeline\n",
    "from sklearn.preprocessing import LabelEncoder, StandardScaler, RobustScaler, OneHotEncoder, MinMaxScaler, OrdinalEncoder, FunctionTransformer \n",
    "from sklearn.linear_model import LogisticRegression\n",
    "from sklearn.ensemble import RandomForestClassifier, VotingClassifier\n",
    "from xgboost import XGBClassifier\n",
    "from sklearn.compose import ColumnTransformer\n",
    "from sklearn.metrics import make_scorer, accuracy_score, recall_score, precision_score, f1_score\n",
    "from sklearn.metrics import confusion_matrix, ConfusionMatrixDisplay, roc_auc_score, roc_curve, auc, classification_report, plot_confusion_matrix\n",
    "from sklearn.decomposition import PCA\n",
    "from sklearn.feature_selection import SelectKBest, chi2, f_classif, SelectFromModel, VarianceThreshold, SelectPercentile\n",
    "from sklearn import set_config\n",
    "from sklearn.impute import SimpleImputer\n",
    "from sklearn.base import TransformerMixin\n",
    "\n",
    "import sys\n",
    "\n",
    "import joblib\n",
    "\n",
    "sys.path.append(\"..\")"
   ]
  },
  {
   "cell_type": "code",
   "execution_count": 95,
   "id": "11e25658",
   "metadata": {},
   "outputs": [
    {
     "data": {
      "text/plain": [
       "36"
      ]
     },
     "execution_count": 95,
     "metadata": {},
     "output_type": "execute_result"
    }
   ],
   "source": [
    "data_prep = data.copy()\n",
    "len(data_prep.columns)"
   ]
  },
  {
   "cell_type": "code",
   "execution_count": 96,
   "id": "2b8eb5d6",
   "metadata": {},
   "outputs": [
    {
     "data": {
      "text/plain": [
       "Index(['hotel', 'is_canceled', 'lead_time', 'arrival_date_year',\n",
       "       'arrival_date_month', 'arrival_date_week_number',\n",
       "       'arrival_date_day_of_month', 'stays_in_weekend_nights',\n",
       "       'stays_in_week_nights', 'adults', 'children', 'babies', 'meal',\n",
       "       'country', 'market_segment', 'distribution_channel',\n",
       "       'is_repeated_guest', 'previous_cancellations',\n",
       "       'previous_bookings_not_canceled', 'reserved_room_type',\n",
       "       'assigned_room_type', 'booking_changes', 'deposit_type', 'agent',\n",
       "       'company', 'days_in_waiting_list', 'customer_type', 'adr',\n",
       "       'required_car_parking_spaces', 'total_of_special_requests',\n",
       "       'reservation_status', 'reservation_status_date', 'adr_pp', 'people',\n",
       "       'kids', 'days_stay'],\n",
       "      dtype='object')"
      ]
     },
     "execution_count": 96,
     "metadata": {},
     "output_type": "execute_result"
    }
   ],
   "source": [
    "data_prep.columns"
   ]
  },
  {
   "cell_type": "markdown",
   "id": "49f79b69",
   "metadata": {},
   "source": [
    "## Feature Engeenier"
   ]
  },
  {
   "cell_type": "code",
   "execution_count": 97,
   "id": "e012c84d",
   "metadata": {},
   "outputs": [],
   "source": [
    "data_prep[\"country\"] = [0 if i =='PRT' else 1 for i in data_prep[\"country\"]] # native or foreigner\n",
    "data_prep[\"previous_cancellations\"] = [0 if i == 0 else 1 for i in data_prep[\"previous_cancellations\"]] # not cancel once or cancel at least once\n",
    "data_prep[\"company\"] = [0 if i == 0 else 1 for i in data_prep[\"company\"]] # do not have a Company or have a Company\n",
    "\n",
    "meal_dct = {'Undefined':0,'BB':1,'HB':2,'FB':3,'SC':4}\n",
    "data_prep[\"meal\"] = [meal_dct[m] for m in data_prep[\"meal\"]]"
   ]
  },
  {
   "cell_type": "code",
   "execution_count": 98,
   "id": "a69c00e5",
   "metadata": {},
   "outputs": [],
   "source": [
    "drop_numerical_features = ['is_canceled', # Target Feature\n",
    "                           'arrival_date_year', \n",
    "                           'stays_in_weekend_nights','stays_in_week_nights', # Replaced by days_stay\n",
    "                           'children', 'babies', # Replaced by kids\n",
    "                           'previous_bookings_not_canceled',\n",
    "                           'days_in_waiting_list', # low variance \n",
    "                           'adr_pp', # almost same meaning of adr\n",
    "                           'previous_bookings_not_canceled',\n",
    "                           'people'] # Same meaning of Adults + Kids \n",
    "\n",
    "numerical_df = data_prep.select_dtypes(include = [\"number\"]).drop(drop_numerical_features, axis=1)\n",
    "numerical_features =  data_prep.select_dtypes(include=[\"number\"]).drop(drop_numerical_features, axis=1).columns\n",
    "numerical_list = numerical_features.tolist()"
   ]
  },
  {
   "cell_type": "code",
   "execution_count": 99,
   "id": "c255bea6",
   "metadata": {},
   "outputs": [],
   "source": [
    "drop_categorical_features = ['arrival_date_month', # almost same meaning of arrival_date_week_number\n",
    "                             'distribution_channel', # almost same meaning of market_segment\n",
    "                             'deposit_type', # not predtive\n",
    "                             'reservation_status', # not predtive\n",
    "                             'reservation_status_date', # not predtive\n",
    "                             'assigned_room_type'] # Almost always same of reserved_room_type\n",
    "\n",
    "categorical_df = data_prep.select_dtypes(include = ['category','object','datetime']).drop(drop_categorical_features, axis=1)\n",
    "categorical_features = data_prep.select_dtypes(include=[\"category\",\"object\",\"datetime\"]).drop(drop_categorical_features, axis=1).columns\n",
    "categorical_list=categorical_features.tolist()"
   ]
  },
  {
   "cell_type": "markdown",
   "id": "35eba377",
   "metadata": {},
   "source": [
    "## Normalization"
   ]
  },
  {
   "cell_type": "code",
   "execution_count": 100,
   "id": "f10fd779",
   "metadata": {},
   "outputs": [
    {
     "data": {
      "text/plain": [
       "adults                         24.749257\n",
       "adr                             9.528857\n",
       "booking_changes                 5.522578\n",
       "is_repeated_guest               5.416710\n",
       "kids                            4.420196\n",
       "required_car_parking_spaces     4.100500\n",
       "company                         3.818756\n",
       "days_stay                       3.198430\n",
       "previous_cancellations          3.173181\n",
       "meal                            2.209273\n",
       "total_of_special_requests       1.394436\n",
       "lead_time                       1.317312\n",
       "agent                           1.282939\n",
       "dtype: float64"
      ]
     },
     "execution_count": 100,
     "metadata": {},
     "output_type": "execute_result"
    }
   ],
   "source": [
    "log_columns = data_prep[numerical_list].skew().sort_values(ascending=False)\n",
    "log_columns = log_columns.loc[(log_columns > 0.75)]\n",
    "log_columns"
   ]
  },
  {
   "cell_type": "code",
   "execution_count": 101,
   "id": "4f396d77",
   "metadata": {},
   "outputs": [],
   "source": [
    "for col in log_columns.index:\n",
    "    numerical_df[col] = np.log1p(numerical_df[col])"
   ]
  },
  {
   "cell_type": "code",
   "execution_count": 102,
   "id": "4703328e",
   "metadata": {},
   "outputs": [],
   "source": [
    "categorical_df=pd.get_dummies(data_prep[categorical_list])#,drop_first=True"
   ]
  },
  {
   "cell_type": "code",
   "execution_count": 103,
   "id": "a126df3c",
   "metadata": {},
   "outputs": [],
   "source": [
    "xx = SelectPercentile(f_classif, percentile=80).fit_transform(numerical_df, y)"
   ]
  },
  {
   "cell_type": "code",
   "execution_count": 104,
   "id": "ea7d3593",
   "metadata": {},
   "outputs": [],
   "source": [
    "xxz = SelectPercentile(chi2, percentile=80).fit_transform(categorical_df,y)"
   ]
  },
  {
   "cell_type": "code",
   "execution_count": 105,
   "id": "b05a59a5",
   "metadata": {},
   "outputs": [
    {
     "data": {
      "text/plain": [
       "141736"
      ]
     },
     "execution_count": 105,
     "metadata": {},
     "output_type": "execute_result"
    }
   ],
   "source": [
    "len(xxz)"
   ]
  },
  {
   "cell_type": "code",
   "execution_count": 106,
   "id": "49df366f",
   "metadata": {},
   "outputs": [
    {
     "data": {
      "text/html": [
       "<style>#sk-container-id-4 {color: black;background-color: white;}#sk-container-id-4 pre{padding: 0;}#sk-container-id-4 div.sk-toggleable {background-color: white;}#sk-container-id-4 label.sk-toggleable__label {cursor: pointer;display: block;width: 100%;margin-bottom: 0;padding: 0.3em;box-sizing: border-box;text-align: center;}#sk-container-id-4 label.sk-toggleable__label-arrow:before {content: \"▸\";float: left;margin-right: 0.25em;color: #696969;}#sk-container-id-4 label.sk-toggleable__label-arrow:hover:before {color: black;}#sk-container-id-4 div.sk-estimator:hover label.sk-toggleable__label-arrow:before {color: black;}#sk-container-id-4 div.sk-toggleable__content {max-height: 0;max-width: 0;overflow: hidden;text-align: left;background-color: #f0f8ff;}#sk-container-id-4 div.sk-toggleable__content pre {margin: 0.2em;color: black;border-radius: 0.25em;background-color: #f0f8ff;}#sk-container-id-4 input.sk-toggleable__control:checked~div.sk-toggleable__content {max-height: 200px;max-width: 100%;overflow: auto;}#sk-container-id-4 input.sk-toggleable__control:checked~label.sk-toggleable__label-arrow:before {content: \"▾\";}#sk-container-id-4 div.sk-estimator input.sk-toggleable__control:checked~label.sk-toggleable__label {background-color: #d4ebff;}#sk-container-id-4 div.sk-label input.sk-toggleable__control:checked~label.sk-toggleable__label {background-color: #d4ebff;}#sk-container-id-4 input.sk-hidden--visually {border: 0;clip: rect(1px 1px 1px 1px);clip: rect(1px, 1px, 1px, 1px);height: 1px;margin: -1px;overflow: hidden;padding: 0;position: absolute;width: 1px;}#sk-container-id-4 div.sk-estimator {font-family: monospace;background-color: #f0f8ff;border: 1px dotted black;border-radius: 0.25em;box-sizing: border-box;margin-bottom: 0.5em;}#sk-container-id-4 div.sk-estimator:hover {background-color: #d4ebff;}#sk-container-id-4 div.sk-parallel-item::after {content: \"\";width: 100%;border-bottom: 1px solid gray;flex-grow: 1;}#sk-container-id-4 div.sk-label:hover label.sk-toggleable__label {background-color: #d4ebff;}#sk-container-id-4 div.sk-serial::before {content: \"\";position: absolute;border-left: 1px solid gray;box-sizing: border-box;top: 0;bottom: 0;left: 50%;z-index: 0;}#sk-container-id-4 div.sk-serial {display: flex;flex-direction: column;align-items: center;background-color: white;padding-right: 0.2em;padding-left: 0.2em;position: relative;}#sk-container-id-4 div.sk-item {position: relative;z-index: 1;}#sk-container-id-4 div.sk-parallel {display: flex;align-items: stretch;justify-content: center;background-color: white;position: relative;}#sk-container-id-4 div.sk-item::before, #sk-container-id-4 div.sk-parallel-item::before {content: \"\";position: absolute;border-left: 1px solid gray;box-sizing: border-box;top: 0;bottom: 0;left: 50%;z-index: -1;}#sk-container-id-4 div.sk-parallel-item {display: flex;flex-direction: column;z-index: 1;position: relative;background-color: white;}#sk-container-id-4 div.sk-parallel-item:first-child::after {align-self: flex-end;width: 50%;}#sk-container-id-4 div.sk-parallel-item:last-child::after {align-self: flex-start;width: 50%;}#sk-container-id-4 div.sk-parallel-item:only-child::after {width: 0;}#sk-container-id-4 div.sk-dashed-wrapped {border: 1px dashed gray;margin: 0 0.4em 0.5em 0.4em;box-sizing: border-box;padding-bottom: 0.4em;background-color: white;}#sk-container-id-4 div.sk-label label {font-family: monospace;font-weight: bold;display: inline-block;line-height: 1.2em;}#sk-container-id-4 div.sk-label-container {text-align: center;}#sk-container-id-4 div.sk-container {/* jupyter's `normalize.less` sets `[hidden] { display: none; }` but bootstrap.min.css set `[hidden] { display: none !important; }` so we also need the `!important` here to be able to override the default hidden behavior on the sphinx rendered scikit-learn.org. See: https://github.com/scikit-learn/scikit-learn/issues/21755 */display: inline-block !important;position: relative;}#sk-container-id-4 div.sk-text-repr-fallback {display: none;}</style><div id=\"sk-container-id-4\" class=\"sk-top-container\"><div class=\"sk-text-repr-fallback\"><pre>SelectPercentile(percentile=80)</pre><b>In a Jupyter environment, please rerun this cell to show the HTML representation or trust the notebook. <br />On GitHub, the HTML representation is unable to render, please try loading this page with nbviewer.org.</b></div><div class=\"sk-container\" hidden><div class=\"sk-item\"><div class=\"sk-estimator sk-toggleable\"><input class=\"sk-toggleable__control sk-hidden--visually\" id=\"sk-estimator-id-4\" type=\"checkbox\" checked><label for=\"sk-estimator-id-4\" class=\"sk-toggleable__label sk-toggleable__label-arrow\">SelectPercentile</label><div class=\"sk-toggleable__content\"><pre>SelectPercentile(percentile=80)</pre></div></div></div></div></div>"
      ],
      "text/plain": [
       "SelectPercentile(percentile=80)"
      ]
     },
     "execution_count": 106,
     "metadata": {},
     "output_type": "execute_result"
    }
   ],
   "source": [
    "x"
   ]
  },
  {
   "cell_type": "code",
   "execution_count": 107,
   "id": "c7abbb78",
   "metadata": {},
   "outputs": [],
   "source": [
    "target = 'is_canceled'\n",
    "selected_features = numerical_list + categorical_list\n",
    "\n",
    "X = np.concatenate((xx, xxz),axis=1)\n",
    "\n",
    "y = data_prep[target]\n",
    "#X = pd.concat([numerical_df,categorical_df], axis=1)"
   ]
  },
  {
   "cell_type": "code",
   "execution_count": 108,
   "id": "5d026de6",
   "metadata": {},
   "outputs": [
    {
     "data": {
      "text/plain": [
       "((99215, 30), (99215,), (42521, 30), (42521,))"
      ]
     },
     "execution_count": 108,
     "metadata": {},
     "output_type": "execute_result"
    }
   ],
   "source": [
    "seed=7\n",
    "X_train, X_val, y_train, y_val = train_test_split(X, y, test_size = 0.3, stratify=y, random_state=seed)\n",
    "X_train.shape, y_train.shape, X_val.shape, y_val.shape"
   ]
  },
  {
   "cell_type": "code",
   "execution_count": 109,
   "id": "d14c567c",
   "metadata": {},
   "outputs": [],
   "source": [
    "def CM(y, y_pred):\n",
    "    print(\"Confusion Matrix:\")\n",
    "    labels = [\"Non-canceled\", \"Canceled\"]\n",
    "    cm = confusion_matrix(y, y_pred)\n",
    "    disp = ConfusionMatrixDisplay(confusion_matrix=cm, display_labels=labels)\n",
    "    disp.plot(cmap=\"Blues\", values_format=\"d\")  \n",
    "    plt.show() \n",
    "    print(\"Metrics \\n\", classification_report(y,y_pred))   "
   ]
  },
  {
   "cell_type": "code",
   "execution_count": 110,
   "id": "f0ca32f4",
   "metadata": {},
   "outputs": [],
   "source": [
    "lr = LogisticRegression()\n",
    "rf = RandomForestClassifier()\n",
    "xgb = XGBClassifier()"
   ]
  },
  {
   "cell_type": "code",
   "execution_count": 111,
   "id": "ff668af6",
   "metadata": {},
   "outputs": [
    {
     "name": "stdout",
     "output_type": "stream",
     "text": [
      "acc: 0.8783659838667952\n"
     ]
    }
   ],
   "source": [
    "model = xgb.fit(X_train, y_train)\n",
    "predictions = model.predict(X_val)\n",
    "acc = accuracy_score(y_val, predictions)\n",
    "\n",
    "print(\"acc:\", acc)"
   ]
  },
  {
   "cell_type": "code",
   "execution_count": 112,
   "id": "6e7199bd",
   "metadata": {},
   "outputs": [],
   "source": [
    "def CVS(model, X, y, model_dict=''):    \n",
    "    \n",
    "    number_folds = 3\n",
    "    #Kfold = KFold(n_splits=number_folds, shuffle=True, random_state=seed)\n",
    "    Kfold = StratifiedKFold(n_splits=number_folds, shuffle=True, random_state=seed)\n",
    "    \n",
    "    scoring = {'Accuracy': make_scorer(accuracy_score),\n",
    "               'Precision': make_scorer(precision_score),\n",
    "               'f1': make_scorer(f1_score),\n",
    "               'Recall': make_scorer(recall_score)}    \n",
    "    \n",
    "    validation_score = pd.DataFrame(columns=['Method','Time','Accuracy','Precision','Recall','F1 Score'])\n",
    "\n",
    "    y_pred = cross_val_predict(model, X, y, cv=Kfold, method='predict')\n",
    "   \n",
    "    CM(y,y_pred)\n",
    "   \n",
    "    scores = cross_validate(model, X, y, cv = Kfold, scoring=scoring)\n",
    "    \n",
    "    for chave, valor in scores.items():\n",
    "        print(f\"{chave}, over {number_folds} folds attempts: {round(np.mean(valor),5)} +/- {round(np.std(valor),5)}\")      \n",
    "  \n",
    "    print(\"\\n\")\n",
    "    n=25\n",
    "    print(f\"First {n} Predictions: {y_pred[0:n]}\\nLast {n} Predictions: {y_pred[n:0:-1]} \\n\")   \n",
    "    \n",
    "    validation_score = (model_dict, \n",
    "                        (scores.get('fit_time').mean()+scores.get('score_time').mean()),\n",
    "                        scores.get('test_Accuracy').mean(), \n",
    "                        scores.get('test_Precision').mean(),\n",
    "                        scores.get('test_f1').mean(), \n",
    "                        scores.get('test_Recall').mean())  \n",
    "\n",
    "    return y_pred, validation_score"
   ]
  },
  {
   "cell_type": "code",
   "execution_count": 113,
   "id": "f64d1c11",
   "metadata": {},
   "outputs": [],
   "source": [
    "models = [lr,xgb, rf]\n",
    "model_dict = {0:'Logistic Regression', 1:'XGBoost', 2:'Random Forest'}"
   ]
  },
  {
   "cell_type": "code",
   "execution_count": 114,
   "id": "a437840a",
   "metadata": {},
   "outputs": [
    {
     "name": "stdout",
     "output_type": "stream",
     "text": [
      "*****************************************************\n",
      "Logistic Regression\n",
      "*****************************************************\n",
      "Confusion Matrix:\n"
     ]
    },
    {
     "data": {
      "image/png": "[encoded data removed]",
      "text/plain": [
       "<Figure size 432x288 with 2 Axes>"
      ]
     },
     "metadata": {
      "needs_background": "light"
     },
     "output_type": "display_data"
    },
    {
     "name": "stdout",
     "output_type": "stream",
     "text": [
      "Metrics \n",
      "               precision    recall  f1-score   support\n",
      "\n",
      "           0       0.83      0.89      0.86     88924\n",
      "           1       0.80      0.70      0.74     52812\n",
      "\n",
      "    accuracy                           0.82    141736\n",
      "   macro avg       0.81      0.80      0.80    141736\n",
      "weighted avg       0.82      0.82      0.82    141736\n",
      "\n",
      "fit_time, over 3 folds attempts: 0.55404 +/- 0.00294\n",
      "score_time, over 3 folds attempts: 0.02533 +/- 0.00047\n",
      "test_Accuracy, over 3 folds attempts: 0.8205 +/- 0.00019\n",
      "test_Precision, over 3 folds attempts: 0.7964 +/- 0.00147\n",
      "test_f1, over 3 folds attempts: 0.74297 +/- 0.00079\n",
      "test_Recall, over 3 folds attempts: 0.69626 +/- 0.00244\n",
      "\n",
      "\n",
      "First 25 Predictions: [1 1 1 1 0 1 1 1 1 1 0 0 1 1 1 1 1 1 0 0 1 1 1 1 0]\n",
      "Last 25 Predictions: [1 0 1 1 1 1 0 0 1 1 1 1 1 1 0 0 1 1 1 1 1 0 1 1 1] \n",
      "\n",
      "*****************************************************\n",
      "XGBoost\n",
      "*****************************************************\n",
      "Confusion Matrix:\n"
     ]
    },
    {
     "data": {
      "image/png": "[encoded data removed]",
      "text/plain": [
       "<Figure size 432x288 with 2 Axes>"
      ]
     },
     "metadata": {
      "needs_background": "light"
     },
     "output_type": "display_data"
    },
    {
     "name": "stdout",
     "output_type": "stream",
     "text": [
      "Metrics \n",
      "               precision    recall  f1-score   support\n",
      "\n",
      "           0       0.88      0.92      0.90     88924\n",
      "           1       0.86      0.80      0.83     52812\n",
      "\n",
      "    accuracy                           0.88    141736\n",
      "   macro avg       0.87      0.86      0.87    141736\n",
      "weighted avg       0.88      0.88      0.88    141736\n",
      "\n",
      "fit_time, over 3 folds attempts: 1.61345 +/- 0.02389\n",
      "score_time, over 3 folds attempts: 0.059 +/- 0.00082\n",
      "test_Accuracy, over 3 folds attempts: 0.87655 +/- 0.00077\n",
      "test_Precision, over 3 folds attempts: 0.8617 +/- 0.00221\n",
      "test_f1, over 3 folds attempts: 0.82784 +/- 0.00116\n",
      "test_Recall, over 3 folds attempts: 0.79654 +/- 0.00268\n",
      "\n",
      "\n",
      "First 25 Predictions: [1 1 1 1 0 1 0 1 1 1 0 0 1 1 1 1 1 1 0 1 1 1 1 1 0]\n",
      "Last 25 Predictions: [1 0 1 1 1 1 1 0 1 1 1 1 1 1 0 0 1 1 1 0 1 0 1 1 1] \n",
      "\n",
      "*****************************************************\n",
      "Random Forest\n",
      "*****************************************************\n",
      "Confusion Matrix:\n"
     ]
    },
    {
     "data": {
      "image/png": "[encoded data removed]",
      "text/plain": [
       "<Figure size 432x288 with 2 Axes>"
      ]
     },
     "metadata": {
      "needs_background": "light"
     },
     "output_type": "display_data"
    },
    {
     "name": "stdout",
     "output_type": "stream",
     "text": [
      "Metrics \n",
      "               precision    recall  f1-score   support\n",
      "\n",
      "           0       0.91      0.93      0.92     88924\n",
      "           1       0.88      0.84      0.86     52812\n",
      "\n",
      "    accuracy                           0.90    141736\n",
      "   macro avg       0.89      0.88      0.89    141736\n",
      "weighted avg       0.90      0.90      0.90    141736\n",
      "\n",
      "fit_time, over 3 folds attempts: 6.14324 +/- 0.07292\n",
      "score_time, over 3 folds attempts: 0.60948 +/- 0.01356\n",
      "test_Accuracy, over 3 folds attempts: 0.8953 +/- 0.00044\n",
      "test_Precision, over 3 folds attempts: 0.8759 +/- 0.00235\n",
      "test_f1, over 3 folds attempts: 0.85637 +/- 0.00076\n",
      "test_Recall, over 3 folds attempts: 0.83771 +/- 0.00301\n",
      "\n",
      "\n",
      "First 25 Predictions: [1 0 0 1 0 1 1 1 1 1 1 1 1 1 1 1 1 1 1 0 1 1 1 1 0]\n",
      "Last 25 Predictions: [1 0 1 1 1 1 0 1 1 1 1 1 1 1 1 1 1 1 1 1 1 0 1 0 0] \n",
      "\n",
      "Wall time: 54.4 s\n"
     ]
    }
   ],
   "source": [
    "%%time\n",
    "\n",
    "validation_score = pd.DataFrame(columns=['Method','Time','Accuracy','Precision','Recall','F1 Score'])\n",
    "\n",
    "for i,model in enumerate(models): \n",
    "    print('*' * 53) \n",
    "    print(f\"{model_dict[i]}\") \n",
    "    print('*' * 53)     \n",
    "    y_pred , validation_score.loc[i]  = CVS(model,X,y,model_dict[i])   "
   ]
  },
  {
   "cell_type": "code",
   "execution_count": 115,
   "id": "0734e56c",
   "metadata": {},
   "outputs": [
    {
     "name": "stdout",
     "output_type": "stream",
     "text": [
      "*****************************************************\n",
      "Machine Learning algorithm: Logistic Regression\n",
      "*****************************************************\n"
     ]
    },
    {
     "data": {
      "image/png": "[encoded data removed]",
      "text/plain": [
       "<Figure size 288x216 with 1 Axes>"
      ]
     },
     "metadata": {
      "needs_background": "light"
     },
     "output_type": "display_data"
    },
    {
     "name": "stdout",
     "output_type": "stream",
     "text": [
      "AUC Logistic Regression: 0.8936\n",
      "\n",
      "\n",
      "*****************************************************\n",
      "Machine Learning algorithm: XGBoost\n",
      "*****************************************************\n"
     ]
    },
    {
     "data": {
      "image/png": "[encoded data removed]",
      "text/plain": [
       "<Figure size 288x216 with 1 Axes>"
      ]
     },
     "metadata": {
      "needs_background": "light"
     },
     "output_type": "display_data"
    },
    {
     "name": "stdout",
     "output_type": "stream",
     "text": [
      "AUC XGBoost: 0.9572\n",
      "\n",
      "\n",
      "*****************************************************\n",
      "Machine Learning algorithm: Random Forest\n",
      "*****************************************************\n"
     ]
    },
    {
     "data": {
      "image/png": "[encoded data removed]",
      "text/plain": [
       "<Figure size 288x216 with 1 Axes>"
      ]
     },
     "metadata": {
      "needs_background": "light"
     },
     "output_type": "display_data"
    },
    {
     "name": "stdout",
     "output_type": "stream",
     "text": [
      "AUC Random Forest: 0.9916\n",
      "\n",
      "\n"
     ]
    }
   ],
   "source": [
    "score_metrics_auc = pd.DataFrame(columns=['Model','AUC'])\n",
    "\n",
    "for i,model in enumerate(models): \n",
    "    print('*' * 53) \n",
    "    print(f\"Machine Learning algorithm: {model_dict[i]}\") \n",
    "    print('*' * 53)   \n",
    "    y_prob = model.fit(X_train,y_train)\n",
    "    y_prob = model.predict_proba(X)\n",
    "    y_prob = y_prob[:,1]\n",
    "    \n",
    "    fpr,tpr, threshold = roc_curve(y,y_prob)\n",
    "    auc = roc_auc_score(y,y_prob)\n",
    "    plt.figure(figsize=(4, 3))\n",
    "    plt.plot(fpr,tpr, color='steelblue', label = model_dict[i])    \n",
    "    plt.title(\"ROC\")\n",
    "    plt.xlim(0.0, 1.0)\n",
    "    plt.ylim(0.0, 1.0)\n",
    "    plt.plot([0,1],[0,1], color='black', linestyle='--')\n",
    "    plt.xlabel(\"False Positives Rate (1- Specifity)\")\n",
    "    plt.ylabel(\"True Positives Rate (Sensitivity)\")\n",
    "    plt.legend(loc = 'lower right') \n",
    "    plt.show()\n",
    "    print(f\"AUC {model_dict[i]}: {auc:.4f}\\n\\n\") \n",
    "    \n",
    "    score_metrics_auc.loc[i]=[model_dict[i], auc]"
   ]
  },
  {
   "cell_type": "code",
   "execution_count": 116,
   "id": "564f805d",
   "metadata": {},
   "outputs": [
    {
     "data": {
      "text/html": [
       "<div>\n",
       "<style scoped>\n",
       "    .dataframe tbody tr th:only-of-type {\n",
       "        vertical-align: middle;\n",
       "    }\n",
       "\n",
       "    .dataframe tbody tr th {\n",
       "        vertical-align: top;\n",
       "    }\n",
       "\n",
       "    .dataframe thead th {\n",
       "        text-align: right;\n",
       "    }\n",
       "</style>\n",
       "<table border=\"1\" class=\"dataframe\">\n",
       "  <thead>\n",
       "    <tr style=\"text-align: right;\">\n",
       "      <th></th>\n",
       "      <th>Method</th>\n",
       "      <th>Time</th>\n",
       "      <th>Accuracy</th>\n",
       "      <th>Precision</th>\n",
       "      <th>Recall</th>\n",
       "      <th>F1 Score</th>\n",
       "      <th>AUC</th>\n",
       "    </tr>\n",
       "  </thead>\n",
       "  <tbody>\n",
       "    <tr>\n",
       "      <th>0</th>\n",
       "      <td>Logistic Regression</td>\n",
       "      <td>0.579374</td>\n",
       "      <td>0.820497</td>\n",
       "      <td>0.796399</td>\n",
       "      <td>0.742967</td>\n",
       "      <td>0.696262</td>\n",
       "      <td>0.893635</td>\n",
       "    </tr>\n",
       "    <tr>\n",
       "      <th>1</th>\n",
       "      <td>XGBoost</td>\n",
       "      <td>1.672452</td>\n",
       "      <td>0.876552</td>\n",
       "      <td>0.861703</td>\n",
       "      <td>0.827837</td>\n",
       "      <td>0.796542</td>\n",
       "      <td>0.957172</td>\n",
       "    </tr>\n",
       "    <tr>\n",
       "      <th>2</th>\n",
       "      <td>Random Forest</td>\n",
       "      <td>6.752724</td>\n",
       "      <td>0.895298</td>\n",
       "      <td>0.875900</td>\n",
       "      <td>0.856370</td>\n",
       "      <td>0.837707</td>\n",
       "      <td>0.991574</td>\n",
       "    </tr>\n",
       "  </tbody>\n",
       "</table>\n",
       "</div>"
      ],
      "text/plain": [
       "                Method      Time  Accuracy  Precision    Recall  F1 Score  \\\n",
       "0  Logistic Regression  0.579374  0.820497   0.796399  0.742967  0.696262   \n",
       "1              XGBoost  1.672452  0.876552   0.861703  0.827837  0.796542   \n",
       "2        Random Forest  6.752724  0.895298   0.875900  0.856370  0.837707   \n",
       "\n",
       "        AUC  \n",
       "0  0.893635  \n",
       "1  0.957172  \n",
       "2  0.991574  "
      ]
     },
     "execution_count": 116,
     "metadata": {},
     "output_type": "execute_result"
    }
   ],
   "source": [
    "validation_score['AUC'] = score_metrics_auc['AUC']\n",
    "validation_score"
   ]
  },
  {
   "cell_type": "code",
   "execution_count": 117,
   "id": "a9e8b020",
   "metadata": {},
   "outputs": [
    {
     "data": {
      "image/png": "[encoded data removed]",
      "text/plain": [
       "<Figure size 720x432 with 1 Axes>"
      ]
     },
     "metadata": {
      "needs_background": "light"
     },
     "output_type": "display_data"
    }
   ],
   "source": [
    "### Apply SelectKBest Algorithm - Anova\n",
    "anova = SelectKBest(score_func=f_classif, k=10).fit(numerical_df,y)\n",
    "anova_scores=pd.DataFrame(anova.scores_,columns=[\"Score\"])\n",
    "anova_columns=pd.DataFrame(numerical_df.columns)\n",
    "anova_feature_rank=pd.concat([anova_columns,anova_scores],axis=1)\n",
    "anova_feature_rank.columns=['Features','Score']\n",
    "anova_feature_rank=anova_feature_rank.nlargest(10,'Score')\n",
    "\n",
    "plt.figure(figsize=(10,6))\n",
    "plt.title('Univariated Selection - Anova')\n",
    "sns.barplot(data=anova_feature_rank, x='Score', y='Features', color='SteelBlue');\n",
    "plt.show()"
   ]
  },
  {
   "cell_type": "code",
   "execution_count": 118,
   "id": "9cf80301",
   "metadata": {},
   "outputs": [
    {
     "data": {
      "image/png": "[encoded data removed]",
      "text/plain": [
       "<Figure size 720x432 with 1 Axes>"
      ]
     },
     "metadata": {
      "needs_background": "light"
     },
     "output_type": "display_data"
    }
   ],
   "source": [
    "### Apply SelectKBest Algorithm - Chi2\n",
    "chi2 = SelectKBest(score_func=chi2, k=10).fit(categorical_df,y)\n",
    "chi2_scores=pd.DataFrame(chi2.scores_,columns=[\"Score\"])\n",
    "chi2_columns=pd.DataFrame(categorical_df.columns)\n",
    "chi2_feature_rank=pd.concat([chi2_columns,anova_scores],axis=1)\n",
    "chi2_feature_rank.columns=['Features','Score']\n",
    "chi2_feature_rank=chi2_feature_rank.nlargest(10,'Score')\n",
    "\n",
    "plt.figure(figsize=(10,6))\n",
    "plt.title('Univariated Selection - Chi2')\n",
    "sns.barplot(data=chi2_feature_rank, x='Score', y='Features', color='SteelBlue');\n",
    "plt.show()"
   ]
  },
  {
   "cell_type": "code",
   "execution_count": 119,
   "id": "3ded3aa8",
   "metadata": {},
   "outputs": [
    {
     "ename": "AttributeError",
     "evalue": "'numpy.ndarray' object has no attribute 'columns'",
     "output_type": "error",
     "traceback": [
      "\u001b[1;31m---------------------------------------------------------------------------\u001b[0m",
      "\u001b[1;31mAttributeError\u001b[0m                            Traceback (most recent call last)",
      "\u001b[1;32m~\\AppData\\Local\\Temp/ipykernel_6532/603719557.py\u001b[0m in \u001b[0;36m<module>\u001b[1;34m\u001b[0m\n\u001b[0;32m      3\u001b[0m \u001b[1;33m\u001b[0m\u001b[0m\n\u001b[0;32m      4\u001b[0m fi_rf = pd.DataFrame({\n\u001b[1;32m----> 5\u001b[1;33m     \u001b[1;34m'Features'\u001b[0m\u001b[1;33m:\u001b[0m \u001b[0mX_train\u001b[0m\u001b[1;33m.\u001b[0m\u001b[0mcolumns\u001b[0m\u001b[1;33m,\u001b[0m\u001b[1;33m\u001b[0m\u001b[1;33m\u001b[0m\u001b[0m\n\u001b[0m\u001b[0;32m      6\u001b[0m     \u001b[1;34m'Importance'\u001b[0m\u001b[1;33m:\u001b[0m \u001b[0mrf\u001b[0m\u001b[1;33m.\u001b[0m\u001b[0mfeature_importances_\u001b[0m\u001b[1;33m\u001b[0m\u001b[1;33m\u001b[0m\u001b[0m\n\u001b[0;32m      7\u001b[0m }).sort_values('Importance', ascending=False)\n",
      "\u001b[1;31mAttributeError\u001b[0m: 'numpy.ndarray' object has no attribute 'columns'"
     ]
    }
   ],
   "source": [
    "#rf = RandomForestClassifier(class_weight={0: 1, 1: weight}, random_state=seed)\n",
    "rf.fit(X_train,y_train)\n",
    "\n",
    "fi_rf = pd.DataFrame({\n",
    "    'Features': X_train.columns,\n",
    "    'Importance': rf.feature_importances_\n",
    "}).sort_values('Importance', ascending=False)\n",
    "\n",
    "\n",
    "plt.figure(figsize=(10,6))\n",
    "plt.title('Feature Importance - Random Forest Regressor')\n",
    "sns.barplot(data=fi_rf.head(15), x='Importance', y='Features', color='SteelBlue');\n",
    "plt.show()"
   ]
  },
  {
   "cell_type": "code",
   "execution_count": 120,
   "id": "5bd97023",
   "metadata": {},
   "outputs": [
    {
     "ename": "AttributeError",
     "evalue": "'numpy.ndarray' object has no attribute 'columns'",
     "output_type": "error",
     "traceback": [
      "\u001b[1;31m---------------------------------------------------------------------------\u001b[0m",
      "\u001b[1;31mAttributeError\u001b[0m                            Traceback (most recent call last)",
      "\u001b[1;32m~\\AppData\\Local\\Temp/ipykernel_6532/4265776103.py\u001b[0m in \u001b[0;36m<module>\u001b[1;34m\u001b[0m\n\u001b[0;32m      3\u001b[0m \u001b[1;33m\u001b[0m\u001b[0m\n\u001b[0;32m      4\u001b[0m fi_xgb = pd.DataFrame({\n\u001b[1;32m----> 5\u001b[1;33m     \u001b[1;34m'feature'\u001b[0m\u001b[1;33m:\u001b[0m \u001b[0mX_train\u001b[0m\u001b[1;33m.\u001b[0m\u001b[0mcolumns\u001b[0m\u001b[1;33m,\u001b[0m\u001b[1;33m\u001b[0m\u001b[1;33m\u001b[0m\u001b[0m\n\u001b[0m\u001b[0;32m      6\u001b[0m     \u001b[1;34m'importance'\u001b[0m\u001b[1;33m:\u001b[0m \u001b[0mxgb\u001b[0m\u001b[1;33m.\u001b[0m\u001b[0mfeature_importances_\u001b[0m\u001b[1;33m\u001b[0m\u001b[1;33m\u001b[0m\u001b[0m\n\u001b[0;32m      7\u001b[0m }).sort_values('importance', ascending=False)\n",
      "\u001b[1;31mAttributeError\u001b[0m: 'numpy.ndarray' object has no attribute 'columns'"
     ]
    }
   ],
   "source": [
    "#xgb = XGBClassifier(scale_pos_weight=weight, random_state=seed)\n",
    "xgb.fit(X_train,y_train)\n",
    "\n",
    "fi_xgb = pd.DataFrame({\n",
    "    'feature': X_train.columns,\n",
    "    'importance': xgb.feature_importances_\n",
    "}).sort_values('importance', ascending=False)\n",
    "\n",
    "plt.figure(figsize=(10,6))\n",
    "plt.title('Feature Importance - XGBoost Regressor')\n",
    "sns.barplot(data=fi_xgb.head(15), x='importance', y='feature', color='SteelBlue');\n",
    "plt.show()"
   ]
  },
  {
   "cell_type": "code",
   "execution_count": 122,
   "id": "75dd6967",
   "metadata": {},
   "outputs": [
    {
     "name": "stdout",
     "output_type": "stream",
     "text": [
      "Fitting 3 folds for each of 12 candidates, totalling 36 fits\n",
      "Confusion Matrix:\n"
     ]
    },
    {
     "data": {
      "image/png": "[encoded data removed]",
      "text/plain": [
       "<Figure size 432x288 with 2 Axes>"
      ]
     },
     "metadata": {
      "needs_background": "light"
     },
     "output_type": "display_data"
    },
    {
     "name": "stdout",
     "output_type": "stream",
     "text": [
      "Metrics \n",
      "               precision    recall  f1-score   support\n",
      "\n",
      "           0       0.83      0.90      0.86     26677\n",
      "           1       0.80      0.70      0.75     15844\n",
      "\n",
      "    accuracy                           0.82     42521\n",
      "   macro avg       0.82      0.80      0.81     42521\n",
      "weighted avg       0.82      0.82      0.82     42521\n",
      "\n",
      "\n",
      "Accuracy Score Traning:0.819110011233497, Accuracy Score Validation:0.8228639966134381\n",
      "\n",
      "Best Paramters:\n",
      "{'C': 10, 'penalty': 'l2', 'solver': 'lbfgs'}\n",
      "\n",
      "Best Estimator:\n",
      "LogisticRegression(C=10)\n",
      "Wall time: 47.4 s\n"
     ]
    }
   ],
   "source": [
    "%%time\n",
    "### Tunning parameters: Logistic Regression ###\n",
    "\n",
    "np.random.seed(7)\n",
    "\n",
    "params_lr = { \n",
    "        #'preprocessor__num__std' : [MinMaxScaler(), RobustScaler()],\n",
    "        #'selection': [SelectPercentile(f_classif, percentile=50), SelectPercentile(f_classif, percentile=80), SelectPercentile(f_classif, percentile=95)],\n",
    "        'C': [0.1,1,10], \n",
    "        'solver': ['lbfgs','saga'], \n",
    "        'penalty': ['l1','l2'],\n",
    "        \n",
    "}\n",
    "\n",
    "gs = GridSearchCV(estimator=lr, param_grid=params_lr, cv=3, scoring=\"accuracy\", verbose=True, return_train_score=False)\n",
    "gs.fit(X_train,y_train)\n",
    "\n",
    "\n",
    "lr_tuned_best_score = gs.best_score_\n",
    "lr_tuned_best_params = gs.best_params_\n",
    "lr_tuned_best_estimator = gs.best_estimator_\n",
    "y_pred_lr_tuned = gs.best_estimator_.predict(X_val)\n",
    "validation_score = gs.score(X_val, y_val)\n",
    "\n",
    "CM(y_val, y_pred_lr_tuned)\n",
    "\n",
    "print(f\"\\nAccuracy Score Traning:{gs.best_score_}, Accuracy Score Validation:{validation_score}\") \n",
    "print(f\"\\nBest Paramters:\\n{gs.best_params_}\") \n",
    "print(f\"\\nBest Estimator:\\n{gs.best_estimator_}\") "
   ]
  },
  {
   "cell_type": "code",
   "execution_count": 124,
   "id": "4b110566",
   "metadata": {},
   "outputs": [
    {
     "name": "stdout",
     "output_type": "stream",
     "text": [
      "Fitting 3 folds for each of 18 candidates, totalling 54 fits\n",
      "Confusion Matrix:\n"
     ]
    },
    {
     "data": {
      "image/png": "[encoded data removed]",
      "text/plain": [
       "<Figure size 432x288 with 2 Axes>"
      ]
     },
     "metadata": {
      "needs_background": "light"
     },
     "output_type": "display_data"
    },
    {
     "name": "stdout",
     "output_type": "stream",
     "text": [
      "Metrics \n",
      "               precision    recall  f1-score   support\n",
      "\n",
      "           0       0.91      0.93      0.92     26677\n",
      "           1       0.88      0.85      0.86     15844\n",
      "\n",
      "    accuracy                           0.90     42521\n",
      "   macro avg       0.89      0.89      0.89     42521\n",
      "weighted avg       0.90      0.90      0.90     42521\n",
      "\n",
      "\n",
      "Accuracy Score Traning:0.8881318225889127, Accuracy Score Validation:0.8987559088450413\n",
      "\n",
      "Best Paramters:\n",
      "{'learning_rate': 0.05, 'max_depth': 18, 'n_estimators': 600}\n",
      "\n",
      "Best Estimator:\n",
      "XGBClassifier(base_score=0.5, booster='gbtree', callbacks=None,\n",
      "              colsample_bylevel=1, colsample_bynode=1, colsample_bytree=1,\n",
      "              early_stopping_rounds=None, enable_categorical=False,\n",
      "              eval_metric=None, gamma=0, gpu_id=-1, grow_policy='depthwise',\n",
      "              importance_type=None, interaction_constraints='',\n",
      "              learning_rate=0.05, max_bin=256, max_cat_to_onehot=4,\n",
      "              max_delta_step=0, max_depth=18, max_leaves=0, min_child_weight=1,\n",
      "              missing=nan, monotone_constraints='()', n_estimators=600,\n",
      "              n_jobs=0, num_parallel_tree=1, predictor='auto', random_state=0,\n",
      "              reg_alpha=0, reg_lambda=1, ...)\n",
      "Wall time: 14min 21s\n"
     ]
    }
   ],
   "source": [
    "%%time\n",
    "### Tunning parameters: XGBoost\n",
    "\n",
    "np.random.seed(7)\n",
    "\n",
    "params_xgb = { \n",
    "        #'preprocessor__num__std' : [MinMaxScaler(), RobustScaler()],\n",
    "        #'selection': [SelectPercentile(f_classif, percentile=80)],\n",
    "        'max_depth': [18,24,30],\n",
    "        'learning_rate': [0.05,0.10], \n",
    "        #'classifier__min_child_weight': [1,3],\n",
    "        'n_estimators': [100, 300, 600],    \n",
    "        #'eta' : [0.1, 0.3]\n",
    "            }\n",
    "\n",
    "gs = GridSearchCV(estimator=xgb, param_grid=params_xgb, cv=3, scoring=\"accuracy\", n_jobs=2, verbose=True, return_train_score=False)\n",
    "gs.fit(X_train,y_train)\n",
    "\n",
    "\n",
    "xgb_tuned_best_score = gs.best_score_\n",
    "xgb_tuned_best_params = gs.best_params_\n",
    "xgb_tuned_best_estimator = gs.best_estimator_\n",
    "y_pred_xgb_tuned = gs.best_estimator_.predict(X_val)\n",
    "validation_score = gs.score(X_val, y_val)\n",
    "\n",
    "CM(y_val, y_pred_xgb_tuned)\n",
    "\n",
    "print(f\"\\nAccuracy Score Traning:{gs.best_score_}, Accuracy Score Validation:{validation_score}\") \n",
    "print(f\"\\nBest Paramters:\\n{gs.best_params_}\") \n",
    "print(f\"\\nBest Estimator:\\n{gs.best_estimator_}\") "
   ]
  },
  {
   "cell_type": "code",
   "execution_count": null,
   "id": "be9e2a61",
   "metadata": {},
   "outputs": [],
   "source": []
  }
 ],
 "metadata": {
  "hide_input": false,
  "kernelspec": {
   "display_name": "Python 3 (ipykernel)",
   "language": "python",
   "name": "python3"
  },
  "language_info": {
   "codemirror_mode": {
    "name": "ipython",
    "version": 3
   },
   "file_extension": ".py",
   "mimetype": "text/x-python",
   "name": "python",
   "nbconvert_exporter": "python",
   "pygments_lexer": "ipython3",
   "version": "3.9.7"
  },
  "latex_envs": {
   "LaTeX_envs_menu_present": true,
   "autoclose": false,
   "autocomplete": true,
   "bibliofile": "biblio.bib",
   "cite_by": "apalike",
   "current_citInitial": 1,
   "eqLabelWithNumbers": true,
   "eqNumInitial": 1,
   "hotkeys": {
    "equation": "Ctrl-E",
    "itemize": "Ctrl-I"
   },
   "labels_anchors": false,
   "latex_user_defs": false,
   "report_style_numbering": false,
   "user_envs_cfg": false
  }
 },
 "nbformat": 4,
 "nbformat_minor": 5
}
