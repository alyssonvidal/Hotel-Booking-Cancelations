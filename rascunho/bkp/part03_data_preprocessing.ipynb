{
 "cells": [
  {
   "cell_type": "code",
   "execution_count": 1,
   "id": "01b228e0",
   "metadata": {},
   "outputs": [
    {
     "name": "stdout",
     "output_type": "stream",
     "text": [
      "<class 'pandas.core.frame.DataFrame'>\n",
      "Int64Index: 141736 entries, 0 to 141946\n",
      "Data columns (total 36 columns):\n",
      " #   Column                          Non-Null Count   Dtype         \n",
      "---  ------                          --------------   -----         \n",
      " 0   hotel                           141736 non-null  object        \n",
      " 1   is_canceled                     141736 non-null  int64         \n",
      " 2   lead_time                       141736 non-null  int64         \n",
      " 3   arrival_date_year               141736 non-null  int64         \n",
      " 4   arrival_date_month              141736 non-null  object        \n",
      " 5   arrival_date_week_number        141736 non-null  int64         \n",
      " 6   arrival_date_day_of_month       141736 non-null  int64         \n",
      " 7   stays_in_weekend_nights         141736 non-null  int64         \n",
      " 8   stays_in_week_nights            141736 non-null  int64         \n",
      " 9   adults                          141736 non-null  int64         \n",
      " 10  children                        141736 non-null  int32         \n",
      " 11  babies                          141736 non-null  int64         \n",
      " 12  meal                            141736 non-null  object        \n",
      " 13  country                         141736 non-null  object        \n",
      " 14  market_segment                  141736 non-null  object        \n",
      " 15  distribution_channel            141736 non-null  object        \n",
      " 16  is_repeated_guest               141736 non-null  int64         \n",
      " 17  previous_cancellations          141736 non-null  int64         \n",
      " 18  previous_bookings_not_canceled  141736 non-null  int64         \n",
      " 19  reserved_room_type              141736 non-null  object        \n",
      " 20  assigned_room_type              141736 non-null  object        \n",
      " 21  booking_changes                 141736 non-null  int64         \n",
      " 22  deposit_type                    141736 non-null  object        \n",
      " 23  agent                           141736 non-null  int32         \n",
      " 24  company                         141736 non-null  int32         \n",
      " 25  days_in_waiting_list            141736 non-null  int64         \n",
      " 26  customer_type                   141736 non-null  object        \n",
      " 27  adr                             141736 non-null  float64       \n",
      " 28  required_car_parking_spaces     141736 non-null  int64         \n",
      " 29  total_of_special_requests       141736 non-null  int64         \n",
      " 30  reservation_status              141736 non-null  object        \n",
      " 31  reservation_status_date         141736 non-null  datetime64[ns]\n",
      " 32  adr_pp                          141736 non-null  float64       \n",
      " 33  people                          141736 non-null  int64         \n",
      " 34  kids                            141736 non-null  int64         \n",
      " 35  days_stay                       141736 non-null  int64         \n",
      "dtypes: datetime64[ns](1), float64(2), int32(3), int64(19), object(11)\n",
      "memory usage: 38.4+ MB\n"
     ]
    }
   ],
   "source": [
    "%run part01_data_preparation.ipynb"
   ]
  },
  {
   "cell_type": "markdown",
   "id": "e090ce12",
   "metadata": {},
   "source": [
    "# Data Preparation"
   ]
  },
  {
   "cell_type": "code",
   "execution_count": 2,
   "id": "fe32f639",
   "metadata": {},
   "outputs": [],
   "source": [
    "import numpy as np\n",
    "from matplotlib import pyplot as plt\n",
    "%matplotlib inline\n",
    "import pandas as pd\n",
    "import seaborn as sns\n",
    "import scipy.stats as stats\n",
    "from scipy.stats import norm\n",
    "import time\n",
    "\n",
    "### Machine Learning Libraries ###\n",
    "from sklearn.model_selection import train_test_split, cross_val_predict, GridSearchCV, KFold, cross_validate, StratifiedKFold\n",
    "from sklearn.pipeline import Pipeline\n",
    "from sklearn.preprocessing import LabelEncoder, StandardScaler, RobustScaler, OneHotEncoder, MinMaxScaler, OrdinalEncoder, FunctionTransformer \n",
    "from sklearn.linear_model import LogisticRegression\n",
    "from sklearn.ensemble import RandomForestClassifier, VotingClassifier\n",
    "from xgboost import XGBClassifier\n",
    "from sklearn.compose import ColumnTransformer\n",
    "from sklearn.metrics import make_scorer, accuracy_score, recall_score, precision_score, f1_score\n",
    "from sklearn.metrics import confusion_matrix, ConfusionMatrixDisplay, roc_auc_score, roc_curve, auc, classification_report, plot_confusion_matrix\n",
    "from sklearn.decomposition import PCA\n",
    "from sklearn.feature_selection import SelectKBest, chi2, f_classif, SelectFromModel, VarianceThreshold, SelectPercentile\n",
    "from sklearn import set_config\n",
    "from sklearn.impute import SimpleImputer\n",
    "from sklearn.base import TransformerMixin\n",
    "\n",
    "import sys\n",
    "\n",
    "import joblib\n",
    "\n",
    "sys.path.append(\"..\")"
   ]
  },
  {
   "cell_type": "code",
   "execution_count": 3,
   "id": "6d09362f",
   "metadata": {},
   "outputs": [
    {
     "data": {
      "text/plain": [
       "36"
      ]
     },
     "execution_count": 3,
     "metadata": {},
     "output_type": "execute_result"
    }
   ],
   "source": [
    "data_prep = data.copy()\n",
    "len(data_prep.columns)"
   ]
  },
  {
   "cell_type": "code",
   "execution_count": 4,
   "id": "86a39544",
   "metadata": {},
   "outputs": [
    {
     "data": {
      "text/plain": [
       "Index(['hotel', 'is_canceled', 'lead_time', 'arrival_date_year',\n",
       "       'arrival_date_month', 'arrival_date_week_number',\n",
       "       'arrival_date_day_of_month', 'stays_in_weekend_nights',\n",
       "       'stays_in_week_nights', 'adults', 'children', 'babies', 'meal',\n",
       "       'country', 'market_segment', 'distribution_channel',\n",
       "       'is_repeated_guest', 'previous_cancellations',\n",
       "       'previous_bookings_not_canceled', 'reserved_room_type',\n",
       "       'assigned_room_type', 'booking_changes', 'deposit_type', 'agent',\n",
       "       'company', 'days_in_waiting_list', 'customer_type', 'adr',\n",
       "       'required_car_parking_spaces', 'total_of_special_requests',\n",
       "       'reservation_status', 'reservation_status_date', 'adr_pp', 'people',\n",
       "       'kids', 'days_stay'],\n",
       "      dtype='object')"
      ]
     },
     "execution_count": 4,
     "metadata": {},
     "output_type": "execute_result"
    }
   ],
   "source": [
    "data_prep.columns"
   ]
  },
  {
   "cell_type": "markdown",
   "id": "e1584154",
   "metadata": {},
   "source": [
    "## Feature Engieenier"
   ]
  },
  {
   "cell_type": "code",
   "execution_count": 5,
   "id": "8d01d153",
   "metadata": {},
   "outputs": [],
   "source": [
    "data_prep[\"country\"] = [0 if i =='PRT' else 1 for i in data_prep[\"country\"]] # native or foreigner\n",
    "data_prep[\"previous_cancellations\"] = [0 if i == 0 else 1 for i in data_prep[\"previous_cancellations\"]] # not cancel once or cancel at least once\n",
    "data_prep[\"company\"] = [0 if i == 0 else 1 for i in data_prep[\"company\"]] # do not have a Company or have a Company\n",
    "\n",
    "meal_dct = {'Undefined':0,'BB':1,'HB':2,'FB':3,'SC':4}\n",
    "data_prep[\"meal\"] = [meal_dct[m] for m in data_prep[\"meal\"]]"
   ]
  },
  {
   "cell_type": "code",
   "execution_count": 6,
   "id": "0d834222",
   "metadata": {},
   "outputs": [
    {
     "data": {
      "text/plain": [
       "1    0.774602\n",
       "2    0.129784\n",
       "4    0.086950\n",
       "3    0.008664\n",
       "Name: meal, dtype: float64"
      ]
     },
     "execution_count": 6,
     "metadata": {},
     "output_type": "execute_result"
    }
   ],
   "source": [
    "data_prep.meal.value_counts(normalize=True)"
   ]
  },
  {
   "cell_type": "code",
   "execution_count": 7,
   "id": "425fc4c1",
   "metadata": {},
   "outputs": [],
   "source": [
    "drop_numerical_features = ['is_canceled', # Target Feature\n",
    "                           'arrival_date_year', \n",
    "                           'stays_in_weekend_nights','stays_in_week_nights', # Replaced by days_stay\n",
    "                           'children', 'babies', # Replaced by kids\n",
    "                           'previous_bookings_not_canceled',\n",
    "                           'days_in_waiting_list', # low variance \n",
    "                           'adr_pp', # almost same meaning of adr\n",
    "                           'previous_bookings_not_canceled',\n",
    "                           'people'] # Same meaning of Adults + Kids \n",
    "\n",
    "numerical_df = data_prep.select_dtypes(include = [\"number\"]).drop(drop_numerical_features, axis=1)\n",
    "numerical_features =  data_prep.select_dtypes(include=[\"number\"]).drop(drop_numerical_features, axis=1).columns\n",
    "numerical_list = numerical_features.tolist()"
   ]
  },
  {
   "cell_type": "code",
   "execution_count": 8,
   "id": "eef7baf0",
   "metadata": {},
   "outputs": [],
   "source": [
    "drop_categorical_features = ['arrival_date_month', # almost same meaning of arrival_date_week_number\n",
    "                             'distribution_channel', # almost same meaning of market_segment\n",
    "                             'deposit_type', # not predtive\n",
    "                             'reservation_status', # not predtive\n",
    "                             'reservation_status_date', # not predtive\n",
    "                             'assigned_room_type'] # Almost always same of reserved_room_type\n",
    "\n",
    "categorical_df = data_prep.select_dtypes(include = ['category','object','datetime']).drop(drop_categorical_features, axis=1)\n",
    "categorical_features = data_prep.select_dtypes(include=[\"category\",\"object\",\"datetime\"]).drop(drop_categorical_features, axis=1).columns\n",
    "categorical_list=categorical_features.tolist()"
   ]
  },
  {
   "cell_type": "markdown",
   "id": "89a8438c",
   "metadata": {},
   "source": [
    "## Normalization"
   ]
  },
  {
   "cell_type": "code",
   "execution_count": 9,
   "id": "2ce3a02c",
   "metadata": {},
   "outputs": [],
   "source": [
    "#sns.pairplot(numerical_df, aspect=1.5);"
   ]
  },
  {
   "cell_type": "code",
   "execution_count": null,
   "id": "950eddf1",
   "metadata": {},
   "outputs": [],
   "source": []
  },
  {
   "cell_type": "code",
   "execution_count": 10,
   "id": "778a6d76",
   "metadata": {},
   "outputs": [
    {
     "data": {
      "text/plain": [
       "adults                         24.749257\n",
       "adr                             9.528857\n",
       "booking_changes                 5.522578\n",
       "is_repeated_guest               5.416710\n",
       "kids                            4.420196\n",
       "required_car_parking_spaces     4.100500\n",
       "company                         3.818756\n",
       "days_stay                       3.198430\n",
       "previous_cancellations          3.173181\n",
       "meal                            2.209273\n",
       "total_of_special_requests       1.394436\n",
       "lead_time                       1.317312\n",
       "agent                           1.282939\n",
       "dtype: float64"
      ]
     },
     "execution_count": 10,
     "metadata": {},
     "output_type": "execute_result"
    }
   ],
   "source": [
    "log_columns = data_prep[numerical_list].skew().sort_values(ascending=False)\n",
    "log_columns = log_columns.loc[(log_columns > 0.75)]\n",
    "log_columns"
   ]
  },
  {
   "cell_type": "code",
   "execution_count": 11,
   "id": "eb162441",
   "metadata": {},
   "outputs": [],
   "source": [
    "for col in log_columns.index:\n",
    "    numerical_df[col] = np.log1p(numerical_df[col])"
   ]
  },
  {
   "cell_type": "markdown",
   "id": "e4b573aa",
   "metadata": {},
   "source": [
    "## Encoding"
   ]
  },
  {
   "cell_type": "code",
   "execution_count": 12,
   "id": "2232b779",
   "metadata": {},
   "outputs": [],
   "source": [
    "categorical_df=pd.get_dummies(data_prep[categorical_list])#,drop_first=True"
   ]
  },
  {
   "cell_type": "code",
   "execution_count": 13,
   "id": "747bd803",
   "metadata": {},
   "outputs": [
    {
     "data": {
      "text/html": [
       "<div>\n",
       "<style scoped>\n",
       "    .dataframe tbody tr th:only-of-type {\n",
       "        vertical-align: middle;\n",
       "    }\n",
       "\n",
       "    .dataframe tbody tr th {\n",
       "        vertical-align: top;\n",
       "    }\n",
       "\n",
       "    .dataframe thead th {\n",
       "        text-align: right;\n",
       "    }\n",
       "</style>\n",
       "<table border=\"1\" class=\"dataframe\">\n",
       "  <thead>\n",
       "    <tr style=\"text-align: right;\">\n",
       "      <th></th>\n",
       "      <th>hotel_City Hotel</th>\n",
       "      <th>hotel_Resort Hotel</th>\n",
       "      <th>market_segment_Aviation</th>\n",
       "      <th>market_segment_Complementary</th>\n",
       "      <th>market_segment_Corporate</th>\n",
       "      <th>market_segment_Direct</th>\n",
       "      <th>market_segment_Groups</th>\n",
       "      <th>market_segment_Offline TA/TO</th>\n",
       "      <th>market_segment_Online TA</th>\n",
       "      <th>market_segment_Undefined</th>\n",
       "      <th>...</th>\n",
       "      <th>reserved_room_type_D</th>\n",
       "      <th>reserved_room_type_E</th>\n",
       "      <th>reserved_room_type_F</th>\n",
       "      <th>reserved_room_type_G</th>\n",
       "      <th>reserved_room_type_H</th>\n",
       "      <th>reserved_room_type_L</th>\n",
       "      <th>customer_type_Contract</th>\n",
       "      <th>customer_type_Group</th>\n",
       "      <th>customer_type_Transient</th>\n",
       "      <th>customer_type_Transient-Party</th>\n",
       "    </tr>\n",
       "  </thead>\n",
       "  <tbody>\n",
       "    <tr>\n",
       "      <th>0</th>\n",
       "      <td>0</td>\n",
       "      <td>1</td>\n",
       "      <td>0</td>\n",
       "      <td>0</td>\n",
       "      <td>0</td>\n",
       "      <td>0</td>\n",
       "      <td>0</td>\n",
       "      <td>0</td>\n",
       "      <td>1</td>\n",
       "      <td>0</td>\n",
       "      <td>...</td>\n",
       "      <td>0</td>\n",
       "      <td>0</td>\n",
       "      <td>0</td>\n",
       "      <td>0</td>\n",
       "      <td>0</td>\n",
       "      <td>0</td>\n",
       "      <td>0</td>\n",
       "      <td>0</td>\n",
       "      <td>1</td>\n",
       "      <td>0</td>\n",
       "    </tr>\n",
       "    <tr>\n",
       "      <th>1</th>\n",
       "      <td>0</td>\n",
       "      <td>1</td>\n",
       "      <td>0</td>\n",
       "      <td>0</td>\n",
       "      <td>0</td>\n",
       "      <td>0</td>\n",
       "      <td>0</td>\n",
       "      <td>1</td>\n",
       "      <td>0</td>\n",
       "      <td>0</td>\n",
       "      <td>...</td>\n",
       "      <td>1</td>\n",
       "      <td>0</td>\n",
       "      <td>0</td>\n",
       "      <td>0</td>\n",
       "      <td>0</td>\n",
       "      <td>0</td>\n",
       "      <td>0</td>\n",
       "      <td>0</td>\n",
       "      <td>1</td>\n",
       "      <td>0</td>\n",
       "    </tr>\n",
       "    <tr>\n",
       "      <th>2</th>\n",
       "      <td>0</td>\n",
       "      <td>1</td>\n",
       "      <td>0</td>\n",
       "      <td>0</td>\n",
       "      <td>0</td>\n",
       "      <td>0</td>\n",
       "      <td>0</td>\n",
       "      <td>0</td>\n",
       "      <td>1</td>\n",
       "      <td>0</td>\n",
       "      <td>...</td>\n",
       "      <td>0</td>\n",
       "      <td>1</td>\n",
       "      <td>0</td>\n",
       "      <td>0</td>\n",
       "      <td>0</td>\n",
       "      <td>0</td>\n",
       "      <td>0</td>\n",
       "      <td>0</td>\n",
       "      <td>1</td>\n",
       "      <td>0</td>\n",
       "    </tr>\n",
       "    <tr>\n",
       "      <th>3</th>\n",
       "      <td>0</td>\n",
       "      <td>1</td>\n",
       "      <td>0</td>\n",
       "      <td>0</td>\n",
       "      <td>0</td>\n",
       "      <td>0</td>\n",
       "      <td>0</td>\n",
       "      <td>0</td>\n",
       "      <td>1</td>\n",
       "      <td>0</td>\n",
       "      <td>...</td>\n",
       "      <td>0</td>\n",
       "      <td>1</td>\n",
       "      <td>0</td>\n",
       "      <td>0</td>\n",
       "      <td>0</td>\n",
       "      <td>0</td>\n",
       "      <td>0</td>\n",
       "      <td>0</td>\n",
       "      <td>1</td>\n",
       "      <td>0</td>\n",
       "    </tr>\n",
       "    <tr>\n",
       "      <th>4</th>\n",
       "      <td>0</td>\n",
       "      <td>1</td>\n",
       "      <td>0</td>\n",
       "      <td>0</td>\n",
       "      <td>0</td>\n",
       "      <td>1</td>\n",
       "      <td>0</td>\n",
       "      <td>0</td>\n",
       "      <td>0</td>\n",
       "      <td>0</td>\n",
       "      <td>...</td>\n",
       "      <td>0</td>\n",
       "      <td>1</td>\n",
       "      <td>0</td>\n",
       "      <td>0</td>\n",
       "      <td>0</td>\n",
       "      <td>0</td>\n",
       "      <td>0</td>\n",
       "      <td>0</td>\n",
       "      <td>1</td>\n",
       "      <td>0</td>\n",
       "    </tr>\n",
       "    <tr>\n",
       "      <th>...</th>\n",
       "      <td>...</td>\n",
       "      <td>...</td>\n",
       "      <td>...</td>\n",
       "      <td>...</td>\n",
       "      <td>...</td>\n",
       "      <td>...</td>\n",
       "      <td>...</td>\n",
       "      <td>...</td>\n",
       "      <td>...</td>\n",
       "      <td>...</td>\n",
       "      <td>...</td>\n",
       "      <td>...</td>\n",
       "      <td>...</td>\n",
       "      <td>...</td>\n",
       "      <td>...</td>\n",
       "      <td>...</td>\n",
       "      <td>...</td>\n",
       "      <td>...</td>\n",
       "      <td>...</td>\n",
       "      <td>...</td>\n",
       "      <td>...</td>\n",
       "    </tr>\n",
       "    <tr>\n",
       "      <th>141942</th>\n",
       "      <td>1</td>\n",
       "      <td>0</td>\n",
       "      <td>1</td>\n",
       "      <td>0</td>\n",
       "      <td>0</td>\n",
       "      <td>0</td>\n",
       "      <td>0</td>\n",
       "      <td>0</td>\n",
       "      <td>0</td>\n",
       "      <td>0</td>\n",
       "      <td>...</td>\n",
       "      <td>0</td>\n",
       "      <td>0</td>\n",
       "      <td>0</td>\n",
       "      <td>0</td>\n",
       "      <td>0</td>\n",
       "      <td>0</td>\n",
       "      <td>0</td>\n",
       "      <td>0</td>\n",
       "      <td>1</td>\n",
       "      <td>0</td>\n",
       "    </tr>\n",
       "    <tr>\n",
       "      <th>141943</th>\n",
       "      <td>1</td>\n",
       "      <td>0</td>\n",
       "      <td>0</td>\n",
       "      <td>0</td>\n",
       "      <td>0</td>\n",
       "      <td>1</td>\n",
       "      <td>0</td>\n",
       "      <td>0</td>\n",
       "      <td>0</td>\n",
       "      <td>0</td>\n",
       "      <td>...</td>\n",
       "      <td>0</td>\n",
       "      <td>0</td>\n",
       "      <td>0</td>\n",
       "      <td>0</td>\n",
       "      <td>0</td>\n",
       "      <td>0</td>\n",
       "      <td>0</td>\n",
       "      <td>0</td>\n",
       "      <td>1</td>\n",
       "      <td>0</td>\n",
       "    </tr>\n",
       "    <tr>\n",
       "      <th>141944</th>\n",
       "      <td>1</td>\n",
       "      <td>0</td>\n",
       "      <td>0</td>\n",
       "      <td>0</td>\n",
       "      <td>1</td>\n",
       "      <td>0</td>\n",
       "      <td>0</td>\n",
       "      <td>0</td>\n",
       "      <td>0</td>\n",
       "      <td>0</td>\n",
       "      <td>...</td>\n",
       "      <td>0</td>\n",
       "      <td>1</td>\n",
       "      <td>0</td>\n",
       "      <td>0</td>\n",
       "      <td>0</td>\n",
       "      <td>0</td>\n",
       "      <td>0</td>\n",
       "      <td>0</td>\n",
       "      <td>1</td>\n",
       "      <td>0</td>\n",
       "    </tr>\n",
       "    <tr>\n",
       "      <th>141945</th>\n",
       "      <td>1</td>\n",
       "      <td>0</td>\n",
       "      <td>0</td>\n",
       "      <td>0</td>\n",
       "      <td>1</td>\n",
       "      <td>0</td>\n",
       "      <td>0</td>\n",
       "      <td>0</td>\n",
       "      <td>0</td>\n",
       "      <td>0</td>\n",
       "      <td>...</td>\n",
       "      <td>0</td>\n",
       "      <td>0</td>\n",
       "      <td>0</td>\n",
       "      <td>0</td>\n",
       "      <td>0</td>\n",
       "      <td>0</td>\n",
       "      <td>0</td>\n",
       "      <td>0</td>\n",
       "      <td>1</td>\n",
       "      <td>0</td>\n",
       "    </tr>\n",
       "    <tr>\n",
       "      <th>141946</th>\n",
       "      <td>1</td>\n",
       "      <td>0</td>\n",
       "      <td>0</td>\n",
       "      <td>0</td>\n",
       "      <td>1</td>\n",
       "      <td>0</td>\n",
       "      <td>0</td>\n",
       "      <td>0</td>\n",
       "      <td>0</td>\n",
       "      <td>0</td>\n",
       "      <td>...</td>\n",
       "      <td>0</td>\n",
       "      <td>0</td>\n",
       "      <td>0</td>\n",
       "      <td>0</td>\n",
       "      <td>0</td>\n",
       "      <td>0</td>\n",
       "      <td>0</td>\n",
       "      <td>0</td>\n",
       "      <td>1</td>\n",
       "      <td>0</td>\n",
       "    </tr>\n",
       "  </tbody>\n",
       "</table>\n",
       "<p>141736 rows × 23 columns</p>\n",
       "</div>"
      ],
      "text/plain": [
       "        hotel_City Hotel  hotel_Resort Hotel  market_segment_Aviation  \\\n",
       "0                      0                   1                        0   \n",
       "1                      0                   1                        0   \n",
       "2                      0                   1                        0   \n",
       "3                      0                   1                        0   \n",
       "4                      0                   1                        0   \n",
       "...                  ...                 ...                      ...   \n",
       "141942                 1                   0                        1   \n",
       "141943                 1                   0                        0   \n",
       "141944                 1                   0                        0   \n",
       "141945                 1                   0                        0   \n",
       "141946                 1                   0                        0   \n",
       "\n",
       "        market_segment_Complementary  market_segment_Corporate  \\\n",
       "0                                  0                         0   \n",
       "1                                  0                         0   \n",
       "2                                  0                         0   \n",
       "3                                  0                         0   \n",
       "4                                  0                         0   \n",
       "...                              ...                       ...   \n",
       "141942                             0                         0   \n",
       "141943                             0                         0   \n",
       "141944                             0                         1   \n",
       "141945                             0                         1   \n",
       "141946                             0                         1   \n",
       "\n",
       "        market_segment_Direct  market_segment_Groups  \\\n",
       "0                           0                      0   \n",
       "1                           0                      0   \n",
       "2                           0                      0   \n",
       "3                           0                      0   \n",
       "4                           1                      0   \n",
       "...                       ...                    ...   \n",
       "141942                      0                      0   \n",
       "141943                      1                      0   \n",
       "141944                      0                      0   \n",
       "141945                      0                      0   \n",
       "141946                      0                      0   \n",
       "\n",
       "        market_segment_Offline TA/TO  market_segment_Online TA  \\\n",
       "0                                  0                         1   \n",
       "1                                  1                         0   \n",
       "2                                  0                         1   \n",
       "3                                  0                         1   \n",
       "4                                  0                         0   \n",
       "...                              ...                       ...   \n",
       "141942                             0                         0   \n",
       "141943                             0                         0   \n",
       "141944                             0                         0   \n",
       "141945                             0                         0   \n",
       "141946                             0                         0   \n",
       "\n",
       "        market_segment_Undefined  ...  reserved_room_type_D  \\\n",
       "0                              0  ...                     0   \n",
       "1                              0  ...                     1   \n",
       "2                              0  ...                     0   \n",
       "3                              0  ...                     0   \n",
       "4                              0  ...                     0   \n",
       "...                          ...  ...                   ...   \n",
       "141942                         0  ...                     0   \n",
       "141943                         0  ...                     0   \n",
       "141944                         0  ...                     0   \n",
       "141945                         0  ...                     0   \n",
       "141946                         0  ...                     0   \n",
       "\n",
       "        reserved_room_type_E  reserved_room_type_F  reserved_room_type_G  \\\n",
       "0                          0                     0                     0   \n",
       "1                          0                     0                     0   \n",
       "2                          1                     0                     0   \n",
       "3                          1                     0                     0   \n",
       "4                          1                     0                     0   \n",
       "...                      ...                   ...                   ...   \n",
       "141942                     0                     0                     0   \n",
       "141943                     0                     0                     0   \n",
       "141944                     1                     0                     0   \n",
       "141945                     0                     0                     0   \n",
       "141946                     0                     0                     0   \n",
       "\n",
       "        reserved_room_type_H  reserved_room_type_L  customer_type_Contract  \\\n",
       "0                          0                     0                       0   \n",
       "1                          0                     0                       0   \n",
       "2                          0                     0                       0   \n",
       "3                          0                     0                       0   \n",
       "4                          0                     0                       0   \n",
       "...                      ...                   ...                     ...   \n",
       "141942                     0                     0                       0   \n",
       "141943                     0                     0                       0   \n",
       "141944                     0                     0                       0   \n",
       "141945                     0                     0                       0   \n",
       "141946                     0                     0                       0   \n",
       "\n",
       "        customer_type_Group  customer_type_Transient  \\\n",
       "0                         0                        1   \n",
       "1                         0                        1   \n",
       "2                         0                        1   \n",
       "3                         0                        1   \n",
       "4                         0                        1   \n",
       "...                     ...                      ...   \n",
       "141942                    0                        1   \n",
       "141943                    0                        1   \n",
       "141944                    0                        1   \n",
       "141945                    0                        1   \n",
       "141946                    0                        1   \n",
       "\n",
       "        customer_type_Transient-Party  \n",
       "0                                   0  \n",
       "1                                   0  \n",
       "2                                   0  \n",
       "3                                   0  \n",
       "4                                   0  \n",
       "...                               ...  \n",
       "141942                              0  \n",
       "141943                              0  \n",
       "141944                              0  \n",
       "141945                              0  \n",
       "141946                              0  \n",
       "\n",
       "[141736 rows x 23 columns]"
      ]
     },
     "execution_count": 13,
     "metadata": {},
     "output_type": "execute_result"
    }
   ],
   "source": [
    "categorical_df"
   ]
  },
  {
   "cell_type": "code",
   "execution_count": 14,
   "id": "553fef65",
   "metadata": {},
   "outputs": [],
   "source": [
    "X = pd.concat([numerical_df,categorical_df], axis=1)"
   ]
  },
  {
   "cell_type": "code",
   "execution_count": null,
   "id": "edf52bb7",
   "metadata": {},
   "outputs": [],
   "source": []
  },
  {
   "cell_type": "code",
   "execution_count": 15,
   "id": "c72022f0",
   "metadata": {},
   "outputs": [
    {
     "data": {
      "text/plain": [
       "20"
      ]
     },
     "execution_count": 15,
     "metadata": {},
     "output_type": "execute_result"
    }
   ],
   "source": [
    "target = 'is_canceled'\n",
    "selected_features = numerical_list + categorical_list\n",
    "\n",
    "X = data_prep[selected_features]\n",
    "y = data_prep[target]\n",
    "\n",
    "len(selected_features)"
   ]
  },
  {
   "cell_type": "code",
   "execution_count": 16,
   "id": "1e4b91c0",
   "metadata": {
    "scrolled": true
   },
   "outputs": [
    {
     "data": {
      "text/plain": [
       "['lead_time',\n",
       " 'arrival_date_week_number',\n",
       " 'arrival_date_day_of_month',\n",
       " 'adults',\n",
       " 'meal',\n",
       " 'country',\n",
       " 'is_repeated_guest',\n",
       " 'previous_cancellations',\n",
       " 'booking_changes',\n",
       " 'agent',\n",
       " 'company',\n",
       " 'adr',\n",
       " 'required_car_parking_spaces',\n",
       " 'total_of_special_requests',\n",
       " 'kids',\n",
       " 'days_stay',\n",
       " 'hotel',\n",
       " 'market_segment',\n",
       " 'reserved_room_type',\n",
       " 'customer_type']"
      ]
     },
     "execution_count": 16,
     "metadata": {},
     "output_type": "execute_result"
    }
   ],
   "source": [
    "selected_features"
   ]
  },
  {
   "cell_type": "markdown",
   "id": "364938af",
   "metadata": {},
   "source": [
    "# Machine Learning Model"
   ]
  },
  {
   "cell_type": "markdown",
   "id": "628cb8d1",
   "metadata": {},
   "source": [
    "## Pipeline"
   ]
  },
  {
   "cell_type": "markdown",
   "id": "80679aa9",
   "metadata": {},
   "source": [
    "Below are some things I need to review in the code:\n",
    "\n",
    "- Find a way to normalize certain features inside the pipeline<br>\n",
    "- Find a way to put diferent enconders inside pipeline like onehotencoder, ordinal encoder, manualy enconders<br>\n",
    "- Find a way to put functions inside the pipeline to do the operations above<br>"
   ]
  },
  {
   "cell_type": "code",
   "execution_count": 87,
   "id": "77d32c6e",
   "metadata": {},
   "outputs": [],
   "source": [
    "ohe_list = ['hotel','arrival_date_month','country', 'market_segment',\n",
    "            'distribution_channel','reserved_room_type','deposit_type','customer_type']\n",
    "ore_list = ['meal']\n",
    "\n",
    "selection = SelectPercentile(f_classif, percentile=80)\n",
    "#num_selection = SelectPercentile(f_classif, percentile=80)\n",
    "#cat_selection = SelectPercentile(chi2, percentile=80)\n",
    "\n",
    "numerical_transformer = Pipeline(steps=[(\"imputer\", SimpleImputer(strategy=\"median\", fill_value=\"Unknown\")),\n",
    "                                        #(\"norm\", apply_log(X)),\n",
    "                                        (\"std\", RobustScaler()),\n",
    "                                       # (\"selection\", SelectPercentile(f_classif, percentile=80))\n",
    "                                       ])\n",
    "\n",
    "\n",
    "categorical_transformer = Pipeline(steps=[(\"imputer\", SimpleImputer(strategy=\"constant\", fill_value=\"Unknown\")),\n",
    "                                          (\"ohe\", OneHotEncoder(handle_unknown=\"ignore\", drop=\"if_binary\")),\n",
    "                                         # (\"selection\", SelectPercentile(chi2, percentile=80))                                          \n",
    "                                         ])      \n",
    "\n",
    "\n",
    "preprocessor = ColumnTransformer(\n",
    "    transformers=[\n",
    "        (\"num\", numerical_transformer, numerical_features),\n",
    "        (\"cat\", categorical_transformer, categorical_features),\n",
    "    ]\n",
    ")"
   ]
  },
  {
   "cell_type": "code",
   "execution_count": 88,
   "id": "330265de",
   "metadata": {},
   "outputs": [],
   "source": [
    "\n",
    "\n",
    "lr = LogisticRegression()\n",
    "rf = RandomForestClassifier()\n",
    "xgb = XGBClassifier()\n",
    "\n",
    "pipeline_lr = Pipeline(\n",
    "    steps=[(\"preprocessor\", preprocessor), \n",
    "           ('selection', selection),\n",
    "           (\"classifier\", lr)]\n",
    ") \n",
    "    \n",
    "pipeline_rf = Pipeline(\n",
    "    steps=[(\"preprocessor\", preprocessor),            \n",
    "           ('selection', selection),\n",
    "           (\"classifier\", rf)]\n",
    ") \n",
    "\n",
    "pipeline_xgb = Pipeline(\n",
    "    steps=[(\"preprocessor\", preprocessor),\n",
    "           ('selection', selection),\n",
    "           (\"classifier\", xgb)]\n",
    ") "
   ]
  },
  {
   "cell_type": "code",
   "execution_count": 89,
   "id": "6120d256",
   "metadata": {},
   "outputs": [],
   "source": [
    "pipelines = [pipeline_lr,pipeline_xgb, pipeline_rf]\n",
    "pipe_dict = {0:'Logistic Regression', 1:'XGBoost', 2:'Random Forest'} #2:'Random Forest'"
   ]
  },
  {
   "cell_type": "code",
   "execution_count": 90,
   "id": "6fc67cfe",
   "metadata": {},
   "outputs": [
    {
     "data": {
      "text/html": [
       "<style>#sk-container-id-8 {color: black;background-color: white;}#sk-container-id-8 pre{padding: 0;}#sk-container-id-8 div.sk-toggleable {background-color: white;}#sk-container-id-8 label.sk-toggleable__label {cursor: pointer;display: block;width: 100%;margin-bottom: 0;padding: 0.3em;box-sizing: border-box;text-align: center;}#sk-container-id-8 label.sk-toggleable__label-arrow:before {content: \"▸\";float: left;margin-right: 0.25em;color: #696969;}#sk-container-id-8 label.sk-toggleable__label-arrow:hover:before {color: black;}#sk-container-id-8 div.sk-estimator:hover label.sk-toggleable__label-arrow:before {color: black;}#sk-container-id-8 div.sk-toggleable__content {max-height: 0;max-width: 0;overflow: hidden;text-align: left;background-color: #f0f8ff;}#sk-container-id-8 div.sk-toggleable__content pre {margin: 0.2em;color: black;border-radius: 0.25em;background-color: #f0f8ff;}#sk-container-id-8 input.sk-toggleable__control:checked~div.sk-toggleable__content {max-height: 200px;max-width: 100%;overflow: auto;}#sk-container-id-8 input.sk-toggleable__control:checked~label.sk-toggleable__label-arrow:before {content: \"▾\";}#sk-container-id-8 div.sk-estimator input.sk-toggleable__control:checked~label.sk-toggleable__label {background-color: #d4ebff;}#sk-container-id-8 div.sk-label input.sk-toggleable__control:checked~label.sk-toggleable__label {background-color: #d4ebff;}#sk-container-id-8 input.sk-hidden--visually {border: 0;clip: rect(1px 1px 1px 1px);clip: rect(1px, 1px, 1px, 1px);height: 1px;margin: -1px;overflow: hidden;padding: 0;position: absolute;width: 1px;}#sk-container-id-8 div.sk-estimator {font-family: monospace;background-color: #f0f8ff;border: 1px dotted black;border-radius: 0.25em;box-sizing: border-box;margin-bottom: 0.5em;}#sk-container-id-8 div.sk-estimator:hover {background-color: #d4ebff;}#sk-container-id-8 div.sk-parallel-item::after {content: \"\";width: 100%;border-bottom: 1px solid gray;flex-grow: 1;}#sk-container-id-8 div.sk-label:hover label.sk-toggleable__label {background-color: #d4ebff;}#sk-container-id-8 div.sk-serial::before {content: \"\";position: absolute;border-left: 1px solid gray;box-sizing: border-box;top: 0;bottom: 0;left: 50%;z-index: 0;}#sk-container-id-8 div.sk-serial {display: flex;flex-direction: column;align-items: center;background-color: white;padding-right: 0.2em;padding-left: 0.2em;position: relative;}#sk-container-id-8 div.sk-item {position: relative;z-index: 1;}#sk-container-id-8 div.sk-parallel {display: flex;align-items: stretch;justify-content: center;background-color: white;position: relative;}#sk-container-id-8 div.sk-item::before, #sk-container-id-8 div.sk-parallel-item::before {content: \"\";position: absolute;border-left: 1px solid gray;box-sizing: border-box;top: 0;bottom: 0;left: 50%;z-index: -1;}#sk-container-id-8 div.sk-parallel-item {display: flex;flex-direction: column;z-index: 1;position: relative;background-color: white;}#sk-container-id-8 div.sk-parallel-item:first-child::after {align-self: flex-end;width: 50%;}#sk-container-id-8 div.sk-parallel-item:last-child::after {align-self: flex-start;width: 50%;}#sk-container-id-8 div.sk-parallel-item:only-child::after {width: 0;}#sk-container-id-8 div.sk-dashed-wrapped {border: 1px dashed gray;margin: 0 0.4em 0.5em 0.4em;box-sizing: border-box;padding-bottom: 0.4em;background-color: white;}#sk-container-id-8 div.sk-label label {font-family: monospace;font-weight: bold;display: inline-block;line-height: 1.2em;}#sk-container-id-8 div.sk-label-container {text-align: center;}#sk-container-id-8 div.sk-container {/* jupyter's `normalize.less` sets `[hidden] { display: none; }` but bootstrap.min.css set `[hidden] { display: none !important; }` so we also need the `!important` here to be able to override the default hidden behavior on the sphinx rendered scikit-learn.org. See: https://github.com/scikit-learn/scikit-learn/issues/21755 */display: inline-block !important;position: relative;}#sk-container-id-8 div.sk-text-repr-fallback {display: none;}</style><div id=\"sk-container-id-8\" class=\"sk-top-container\"><div class=\"sk-text-repr-fallback\"><pre>Pipeline(steps=[(&#x27;preprocessor&#x27;,\n",
       "                 ColumnTransformer(transformers=[(&#x27;num&#x27;,\n",
       "                                                  Pipeline(steps=[(&#x27;imputer&#x27;,\n",
       "                                                                   SimpleImputer(fill_value=&#x27;Unknown&#x27;,\n",
       "                                                                                 strategy=&#x27;median&#x27;)),\n",
       "                                                                  (&#x27;std&#x27;,\n",
       "                                                                   RobustScaler())]),\n",
       "                                                  Index([&#x27;lead_time&#x27;, &#x27;arrival_date_week_number&#x27;, &#x27;arrival_date_day_of_month&#x27;,\n",
       "       &#x27;adults&#x27;, &#x27;meal&#x27;, &#x27;country&#x27;, &#x27;is_repeated_guest&#x27;,\n",
       "       &#x27;previous_cancellations&#x27;, &#x27;booking_changes&#x27;, &#x27;agent&#x27;, &#x27;...\n",
       "       &#x27;days_stay&#x27;],\n",
       "      dtype=&#x27;object&#x27;)),\n",
       "                                                 (&#x27;cat&#x27;,\n",
       "                                                  Pipeline(steps=[(&#x27;imputer&#x27;,\n",
       "                                                                   SimpleImputer(fill_value=&#x27;Unknown&#x27;,\n",
       "                                                                                 strategy=&#x27;constant&#x27;)),\n",
       "                                                                  (&#x27;ohe&#x27;,\n",
       "                                                                   OneHotEncoder(drop=&#x27;if_binary&#x27;,\n",
       "                                                                                 handle_unknown=&#x27;ignore&#x27;))]),\n",
       "                                                  Index([&#x27;hotel&#x27;, &#x27;market_segment&#x27;, &#x27;reserved_room_type&#x27;, &#x27;customer_type&#x27;], dtype=&#x27;object&#x27;))])),\n",
       "                (&#x27;selection&#x27;, SelectPercentile(percentile=80)),\n",
       "                (&#x27;classifier&#x27;, LogisticRegression())])</pre><b>In a Jupyter environment, please rerun this cell to show the HTML representation or trust the notebook. <br />On GitHub, the HTML representation is unable to render, please try loading this page with nbviewer.org.</b></div><div class=\"sk-container\" hidden><div class=\"sk-item sk-dashed-wrapped\"><div class=\"sk-label-container\"><div class=\"sk-label sk-toggleable\"><input class=\"sk-toggleable__control sk-hidden--visually\" id=\"sk-estimator-id-91\" type=\"checkbox\" ><label for=\"sk-estimator-id-91\" class=\"sk-toggleable__label sk-toggleable__label-arrow\">Pipeline</label><div class=\"sk-toggleable__content\"><pre>Pipeline(steps=[(&#x27;preprocessor&#x27;,\n",
       "                 ColumnTransformer(transformers=[(&#x27;num&#x27;,\n",
       "                                                  Pipeline(steps=[(&#x27;imputer&#x27;,\n",
       "                                                                   SimpleImputer(fill_value=&#x27;Unknown&#x27;,\n",
       "                                                                                 strategy=&#x27;median&#x27;)),\n",
       "                                                                  (&#x27;std&#x27;,\n",
       "                                                                   RobustScaler())]),\n",
       "                                                  Index([&#x27;lead_time&#x27;, &#x27;arrival_date_week_number&#x27;, &#x27;arrival_date_day_of_month&#x27;,\n",
       "       &#x27;adults&#x27;, &#x27;meal&#x27;, &#x27;country&#x27;, &#x27;is_repeated_guest&#x27;,\n",
       "       &#x27;previous_cancellations&#x27;, &#x27;booking_changes&#x27;, &#x27;agent&#x27;, &#x27;...\n",
       "       &#x27;days_stay&#x27;],\n",
       "      dtype=&#x27;object&#x27;)),\n",
       "                                                 (&#x27;cat&#x27;,\n",
       "                                                  Pipeline(steps=[(&#x27;imputer&#x27;,\n",
       "                                                                   SimpleImputer(fill_value=&#x27;Unknown&#x27;,\n",
       "                                                                                 strategy=&#x27;constant&#x27;)),\n",
       "                                                                  (&#x27;ohe&#x27;,\n",
       "                                                                   OneHotEncoder(drop=&#x27;if_binary&#x27;,\n",
       "                                                                                 handle_unknown=&#x27;ignore&#x27;))]),\n",
       "                                                  Index([&#x27;hotel&#x27;, &#x27;market_segment&#x27;, &#x27;reserved_room_type&#x27;, &#x27;customer_type&#x27;], dtype=&#x27;object&#x27;))])),\n",
       "                (&#x27;selection&#x27;, SelectPercentile(percentile=80)),\n",
       "                (&#x27;classifier&#x27;, LogisticRegression())])</pre></div></div></div><div class=\"sk-serial\"><div class=\"sk-item sk-dashed-wrapped\"><div class=\"sk-label-container\"><div class=\"sk-label sk-toggleable\"><input class=\"sk-toggleable__control sk-hidden--visually\" id=\"sk-estimator-id-92\" type=\"checkbox\" ><label for=\"sk-estimator-id-92\" class=\"sk-toggleable__label sk-toggleable__label-arrow\">preprocessor: ColumnTransformer</label><div class=\"sk-toggleable__content\"><pre>ColumnTransformer(transformers=[(&#x27;num&#x27;,\n",
       "                                 Pipeline(steps=[(&#x27;imputer&#x27;,\n",
       "                                                  SimpleImputer(fill_value=&#x27;Unknown&#x27;,\n",
       "                                                                strategy=&#x27;median&#x27;)),\n",
       "                                                 (&#x27;std&#x27;, RobustScaler())]),\n",
       "                                 Index([&#x27;lead_time&#x27;, &#x27;arrival_date_week_number&#x27;, &#x27;arrival_date_day_of_month&#x27;,\n",
       "       &#x27;adults&#x27;, &#x27;meal&#x27;, &#x27;country&#x27;, &#x27;is_repeated_guest&#x27;,\n",
       "       &#x27;previous_cancellations&#x27;, &#x27;booking_changes&#x27;, &#x27;agent&#x27;, &#x27;company&#x27;, &#x27;adr&#x27;,\n",
       "       &#x27;required_car_parking_spaces&#x27;, &#x27;total_of_special_requests&#x27;, &#x27;kids&#x27;,\n",
       "       &#x27;days_stay&#x27;],\n",
       "      dtype=&#x27;object&#x27;)),\n",
       "                                (&#x27;cat&#x27;,\n",
       "                                 Pipeline(steps=[(&#x27;imputer&#x27;,\n",
       "                                                  SimpleImputer(fill_value=&#x27;Unknown&#x27;,\n",
       "                                                                strategy=&#x27;constant&#x27;)),\n",
       "                                                 (&#x27;ohe&#x27;,\n",
       "                                                  OneHotEncoder(drop=&#x27;if_binary&#x27;,\n",
       "                                                                handle_unknown=&#x27;ignore&#x27;))]),\n",
       "                                 Index([&#x27;hotel&#x27;, &#x27;market_segment&#x27;, &#x27;reserved_room_type&#x27;, &#x27;customer_type&#x27;], dtype=&#x27;object&#x27;))])</pre></div></div></div><div class=\"sk-parallel\"><div class=\"sk-parallel-item\"><div class=\"sk-item\"><div class=\"sk-label-container\"><div class=\"sk-label sk-toggleable\"><input class=\"sk-toggleable__control sk-hidden--visually\" id=\"sk-estimator-id-93\" type=\"checkbox\" ><label for=\"sk-estimator-id-93\" class=\"sk-toggleable__label sk-toggleable__label-arrow\">num</label><div class=\"sk-toggleable__content\"><pre>Index([&#x27;lead_time&#x27;, &#x27;arrival_date_week_number&#x27;, &#x27;arrival_date_day_of_month&#x27;,\n",
       "       &#x27;adults&#x27;, &#x27;meal&#x27;, &#x27;country&#x27;, &#x27;is_repeated_guest&#x27;,\n",
       "       &#x27;previous_cancellations&#x27;, &#x27;booking_changes&#x27;, &#x27;agent&#x27;, &#x27;company&#x27;, &#x27;adr&#x27;,\n",
       "       &#x27;required_car_parking_spaces&#x27;, &#x27;total_of_special_requests&#x27;, &#x27;kids&#x27;,\n",
       "       &#x27;days_stay&#x27;],\n",
       "      dtype=&#x27;object&#x27;)</pre></div></div></div><div class=\"sk-serial\"><div class=\"sk-item\"><div class=\"sk-serial\"><div class=\"sk-item\"><div class=\"sk-estimator sk-toggleable\"><input class=\"sk-toggleable__control sk-hidden--visually\" id=\"sk-estimator-id-94\" type=\"checkbox\" ><label for=\"sk-estimator-id-94\" class=\"sk-toggleable__label sk-toggleable__label-arrow\">SimpleImputer</label><div class=\"sk-toggleable__content\"><pre>SimpleImputer(fill_value=&#x27;Unknown&#x27;, strategy=&#x27;median&#x27;)</pre></div></div></div><div class=\"sk-item\"><div class=\"sk-estimator sk-toggleable\"><input class=\"sk-toggleable__control sk-hidden--visually\" id=\"sk-estimator-id-95\" type=\"checkbox\" ><label for=\"sk-estimator-id-95\" class=\"sk-toggleable__label sk-toggleable__label-arrow\">RobustScaler</label><div class=\"sk-toggleable__content\"><pre>RobustScaler()</pre></div></div></div></div></div></div></div></div><div class=\"sk-parallel-item\"><div class=\"sk-item\"><div class=\"sk-label-container\"><div class=\"sk-label sk-toggleable\"><input class=\"sk-toggleable__control sk-hidden--visually\" id=\"sk-estimator-id-96\" type=\"checkbox\" ><label for=\"sk-estimator-id-96\" class=\"sk-toggleable__label sk-toggleable__label-arrow\">cat</label><div class=\"sk-toggleable__content\"><pre>Index([&#x27;hotel&#x27;, &#x27;market_segment&#x27;, &#x27;reserved_room_type&#x27;, &#x27;customer_type&#x27;], dtype=&#x27;object&#x27;)</pre></div></div></div><div class=\"sk-serial\"><div class=\"sk-item\"><div class=\"sk-serial\"><div class=\"sk-item\"><div class=\"sk-estimator sk-toggleable\"><input class=\"sk-toggleable__control sk-hidden--visually\" id=\"sk-estimator-id-97\" type=\"checkbox\" ><label for=\"sk-estimator-id-97\" class=\"sk-toggleable__label sk-toggleable__label-arrow\">SimpleImputer</label><div class=\"sk-toggleable__content\"><pre>SimpleImputer(fill_value=&#x27;Unknown&#x27;, strategy=&#x27;constant&#x27;)</pre></div></div></div><div class=\"sk-item\"><div class=\"sk-estimator sk-toggleable\"><input class=\"sk-toggleable__control sk-hidden--visually\" id=\"sk-estimator-id-98\" type=\"checkbox\" ><label for=\"sk-estimator-id-98\" class=\"sk-toggleable__label sk-toggleable__label-arrow\">OneHotEncoder</label><div class=\"sk-toggleable__content\"><pre>OneHotEncoder(drop=&#x27;if_binary&#x27;, handle_unknown=&#x27;ignore&#x27;)</pre></div></div></div></div></div></div></div></div></div></div><div class=\"sk-item\"><div class=\"sk-estimator sk-toggleable\"><input class=\"sk-toggleable__control sk-hidden--visually\" id=\"sk-estimator-id-99\" type=\"checkbox\" ><label for=\"sk-estimator-id-99\" class=\"sk-toggleable__label sk-toggleable__label-arrow\">SelectPercentile</label><div class=\"sk-toggleable__content\"><pre>SelectPercentile(percentile=80)</pre></div></div></div><div class=\"sk-item\"><div class=\"sk-estimator sk-toggleable\"><input class=\"sk-toggleable__control sk-hidden--visually\" id=\"sk-estimator-id-100\" type=\"checkbox\" ><label for=\"sk-estimator-id-100\" class=\"sk-toggleable__label sk-toggleable__label-arrow\">LogisticRegression</label><div class=\"sk-toggleable__content\"><pre>LogisticRegression()</pre></div></div></div></div></div></div></div>"
      ],
      "text/plain": [
       "Pipeline(steps=[('preprocessor',\n",
       "                 ColumnTransformer(transformers=[('num',\n",
       "                                                  Pipeline(steps=[('imputer',\n",
       "                                                                   SimpleImputer(fill_value='Unknown',\n",
       "                                                                                 strategy='median')),\n",
       "                                                                  ('std',\n",
       "                                                                   RobustScaler())]),\n",
       "                                                  Index(['lead_time', 'arrival_date_week_number', 'arrival_date_day_of_month',\n",
       "       'adults', 'meal', 'country', 'is_repeated_guest',\n",
       "       'previous_cancellations', 'booking_changes', 'agent', '...\n",
       "       'days_stay'],\n",
       "      dtype='object')),\n",
       "                                                 ('cat',\n",
       "                                                  Pipeline(steps=[('imputer',\n",
       "                                                                   SimpleImputer(fill_value='Unknown',\n",
       "                                                                                 strategy='constant')),\n",
       "                                                                  ('ohe',\n",
       "                                                                   OneHotEncoder(drop='if_binary',\n",
       "                                                                                 handle_unknown='ignore'))]),\n",
       "                                                  Index(['hotel', 'market_segment', 'reserved_room_type', 'customer_type'], dtype='object'))])),\n",
       "                ('selection', SelectPercentile(percentile=80)),\n",
       "                ('classifier', LogisticRegression())])"
      ]
     },
     "execution_count": 90,
     "metadata": {},
     "output_type": "execute_result"
    }
   ],
   "source": [
    "pipeline_lr"
   ]
  },
  {
   "cell_type": "markdown",
   "id": "e42712b8",
   "metadata": {},
   "source": [
    "## Train-Test Split"
   ]
  },
  {
   "cell_type": "code",
   "execution_count": 75,
   "id": "796d2fff",
   "metadata": {},
   "outputs": [
    {
     "data": {
      "text/plain": [
       "((99215, 20), (99215,), (42521, 20), (42521,))"
      ]
     },
     "execution_count": 75,
     "metadata": {},
     "output_type": "execute_result"
    }
   ],
   "source": [
    "seed=7\n",
    "X_train, X_val, y_train, y_val = train_test_split(X, y, test_size = 0.3, stratify=y, random_state=seed)\n",
    "X_train.shape, y_train.shape, X_val.shape, y_val.shape"
   ]
  },
  {
   "cell_type": "code",
   "execution_count": 76,
   "id": "05ac7081",
   "metadata": {},
   "outputs": [],
   "source": [
    "def CM(y, y_pred):\n",
    "    print(\"Confusion Matrix:\")\n",
    "    labels = [\"Non-canceled\", \"Canceled\"]\n",
    "    cm = confusion_matrix(y, y_pred)\n",
    "    disp = ConfusionMatrixDisplay(confusion_matrix=cm, display_labels=labels)\n",
    "    disp.plot(cmap=\"Blues\", values_format=\"d\")  \n",
    "    plt.show() \n",
    "    print(\"Metrics \\n\", classification_report(y,y_pred))   "
   ]
  },
  {
   "cell_type": "code",
   "execution_count": 22,
   "id": "a5af2938",
   "metadata": {},
   "outputs": [
    {
     "name": "stdout",
     "output_type": "stream",
     "text": [
      "acc: 0.8834458267679499\n"
     ]
    }
   ],
   "source": [
    "model = pipeline_xgb.fit(X_train, y_train)\n",
    "predictions = model.predict(X_val)\n",
    "acc = accuracy_score(y_val, predictions)\n",
    "\n",
    "print(\"acc:\", acc)"
   ]
  },
  {
   "cell_type": "code",
   "execution_count": 23,
   "id": "c0a4cd2a",
   "metadata": {},
   "outputs": [
    {
     "name": "stdout",
     "output_type": "stream",
     "text": [
      "acc: 0.8016979845252934\n"
     ]
    }
   ],
   "source": [
    "model = pipeline_lr.fit(X_train, y_train)\n",
    "predictions = model.predict(X_val)\n",
    "acc = accuracy_score(y_val, predictions)\n",
    "\n",
    "print(\"acc:\", acc)"
   ]
  },
  {
   "cell_type": "markdown",
   "id": "5f366a23",
   "metadata": {},
   "source": [
    "## Cross Validation"
   ]
  },
  {
   "cell_type": "code",
   "execution_count": 46,
   "id": "991ed20a",
   "metadata": {},
   "outputs": [],
   "source": [
    "def CVS(model, X, y, model_dict=''):    \n",
    "    \n",
    "    number_folds = 3\n",
    "    #Kfold = KFold(n_splits=number_folds, shuffle=True, random_state=seed)\n",
    "    Kfold = StratifiedKFold(n_splits=number_folds, shuffle=True, random_state=seed)\n",
    "    \n",
    "    scoring = {'Accuracy': make_scorer(accuracy_score),\n",
    "               'Precision': make_scorer(precision_score),\n",
    "               'f1': make_scorer(f1_score),\n",
    "               'Recall': make_scorer(recall_score)}    \n",
    "    \n",
    "    validation_score = pd.DataFrame(columns=['Method','Time','Accuracy','Precision','Recall','F1 Score'])\n",
    "\n",
    "    y_pred = cross_val_predict(model, X, y, cv=Kfold, method='predict')\n",
    "   \n",
    "    CM(y,y_pred)\n",
    "   \n",
    "    scores = cross_validate(model, X, y, cv = Kfold, scoring=scoring)\n",
    "    \n",
    "    for chave, valor in scores.items():\n",
    "        print(f\"{chave}, over {number_folds} folds attempts: {round(np.mean(valor),5)} +/- {round(np.std(valor),5)}\")      \n",
    "  \n",
    "    print(\"\\n\")\n",
    "    n=25\n",
    "    print(f\"First {n} Predictions: {y_pred[0:n]}\\nLast {n} Predictions: {y_pred[n:0:-1]} \\n\")   \n",
    "    \n",
    "    validation_score = (model_dict, \n",
    "                        (scores.get('fit_time').mean()+scores.get('score_time').mean()),\n",
    "                        scores.get('test_Accuracy').mean(), \n",
    "                        scores.get('test_Precision').mean(),\n",
    "                        scores.get('test_f1').mean(), \n",
    "                        scores.get('test_Recall').mean())  \n",
    "\n",
    "    return y_pred, validation_score"
   ]
  },
  {
   "cell_type": "code",
   "execution_count": 28,
   "id": "a13b8e4c",
   "metadata": {},
   "outputs": [
    {
     "name": "stdout",
     "output_type": "stream",
     "text": [
      "*****************************************************\n",
      "Machine Learning algorithm: Logistic Regression\n",
      "*****************************************************\n",
      "Confusion Matrix:\n"
     ]
    },
    {
     "data": {
      "image/png": "[encoded data removed]",
      "text/plain": [
       "<Figure size 432x288 with 2 Axes>"
      ]
     },
     "metadata": {
      "needs_background": "light"
     },
     "output_type": "display_data"
    },
    {
     "name": "stdout",
     "output_type": "stream",
     "text": [
      "Metrics \n",
      "               precision    recall  f1-score   support\n",
      "\n",
      "           0       0.81      0.89      0.85     88924\n",
      "           1       0.77      0.65      0.70     52812\n",
      "\n",
      "    accuracy                           0.80    141736\n",
      "   macro avg       0.79      0.77      0.77    141736\n",
      "weighted avg       0.79      0.80      0.79    141736\n",
      "\n",
      "fit_time, over 3 folds attempts: 0.97207 +/- 0.02007\n",
      "score_time, over 3 folds attempts: 0.12913 +/- 0.00571\n",
      "test_Accuracy, over 3 folds attempts: 0.79628 +/- 0.00096\n",
      "test_Precision, over 3 folds attempts: 0.77045 +/- 0.00345\n",
      "test_f1, over 3 folds attempts: 0.70254 +/- 0.00255\n",
      "test_Recall, over 3 folds attempts: 0.64569 +/- 0.00598\n",
      "\n",
      "\n",
      "First 25 Predictions: [1 1 1 0 0 1 1 1 1 1 0 0 0 1 1 1 1 1 0 0 1 1 1 1 0]\n",
      "Last 25 Predictions: [1 0 1 1 1 1 0 0 1 1 1 1 1 0 0 0 1 1 1 1 1 0 0 1 1] \n",
      "\n",
      "*****************************************************\n",
      "Machine Learning algorithm: XGBoost\n",
      "*****************************************************\n",
      "Confusion Matrix:\n"
     ]
    },
    {
     "data": {
      "image/png": "[encoded data removed]",
      "text/plain": [
       "<Figure size 432x288 with 2 Axes>"
      ]
     },
     "metadata": {
      "needs_background": "light"
     },
     "output_type": "display_data"
    },
    {
     "name": "stdout",
     "output_type": "stream",
     "text": [
      "Metrics \n",
      "               precision    recall  f1-score   support\n",
      "\n",
      "           0       0.89      0.92      0.91     88924\n",
      "           1       0.86      0.81      0.83     52812\n",
      "\n",
      "    accuracy                           0.88    141736\n",
      "   macro avg       0.88      0.86      0.87    141736\n",
      "weighted avg       0.88      0.88      0.88    141736\n",
      "\n",
      "fit_time, over 3 folds attempts: 2.35926 +/- 0.14751\n",
      "score_time, over 3 folds attempts: 0.20775 +/- 0.00281\n",
      "test_Accuracy, over 3 folds attempts: 0.87981 +/- 0.00201\n",
      "test_Precision, over 3 folds attempts: 0.86285 +/- 0.0027\n",
      "test_f1, over 3 folds attempts: 0.83317 +/- 0.0031\n",
      "test_Recall, over 3 folds attempts: 0.80548 +/- 0.00512\n",
      "\n",
      "\n",
      "First 25 Predictions: [1 0 1 1 0 1 1 1 1 1 0 1 1 1 1 1 1 1 0 1 1 1 1 1 0]\n",
      "Last 25 Predictions: [1 0 1 1 1 1 1 0 1 1 1 1 1 1 1 0 1 1 1 1 1 0 1 1 0] \n",
      "\n",
      "*****************************************************\n",
      "Machine Learning algorithm: Random Forest\n",
      "*****************************************************\n",
      "Confusion Matrix:\n"
     ]
    },
    {
     "data": {
      "image/png": "[encoded data removed]",
      "text/plain": [
       "<Figure size 432x288 with 2 Axes>"
      ]
     },
     "metadata": {
      "needs_background": "light"
     },
     "output_type": "display_data"
    },
    {
     "name": "stdout",
     "output_type": "stream",
     "text": [
      "Metrics \n",
      "               precision    recall  f1-score   support\n",
      "\n",
      "           0       0.91      0.94      0.92     88924\n",
      "           1       0.89      0.84      0.87     52812\n",
      "\n",
      "    accuracy                           0.90    141736\n",
      "   macro avg       0.90      0.89      0.89    141736\n",
      "weighted avg       0.90      0.90      0.90    141736\n",
      "\n",
      "fit_time, over 3 folds attempts: 8.59557 +/- 0.35051\n",
      "score_time, over 3 folds attempts: 0.84352 +/- 0.09368\n",
      "test_Accuracy, over 3 folds attempts: 0.90345 +/- 0.00188\n",
      "test_Precision, over 3 folds attempts: 0.89274 +/- 0.00186\n",
      "test_f1, over 3 folds attempts: 0.86666 +/- 0.00285\n",
      "test_Recall, over 3 folds attempts: 0.84206 +/- 0.00468\n",
      "\n",
      "\n",
      "First 25 Predictions: [1 0 0 1 0 1 1 1 1 1 1 1 1 1 1 1 1 1 1 0 1 1 1 1 0]\n",
      "Last 25 Predictions: [1 0 1 1 1 1 0 1 1 1 1 1 1 1 1 1 1 1 1 1 1 0 1 0 0] \n",
      "\n",
      "Wall time: 1min 16s\n"
     ]
    }
   ],
   "source": [
    "%%time\n",
    "\n",
    "validation_score = pd.DataFrame(columns=['Method','Time','Accuracy','Precision','Recall','F1 Score'])\n",
    "\n",
    "for i,model in enumerate(pipelines): \n",
    "    print('*' * 53) \n",
    "    print(f\"Machine Learning algorithm: {pipe_dict[i]}\") \n",
    "    print('*' * 53)     \n",
    "    y_pred , validation_score.loc[i]  = CVS(model,X,y,pipe_dict[i])   "
   ]
  },
  {
   "cell_type": "code",
   "execution_count": 29,
   "id": "e58137e1",
   "metadata": {},
   "outputs": [
    {
     "data": {
      "text/html": [
       "<div>\n",
       "<style scoped>\n",
       "    .dataframe tbody tr th:only-of-type {\n",
       "        vertical-align: middle;\n",
       "    }\n",
       "\n",
       "    .dataframe tbody tr th {\n",
       "        vertical-align: top;\n",
       "    }\n",
       "\n",
       "    .dataframe thead th {\n",
       "        text-align: right;\n",
       "    }\n",
       "</style>\n",
       "<table border=\"1\" class=\"dataframe\">\n",
       "  <thead>\n",
       "    <tr style=\"text-align: right;\">\n",
       "      <th></th>\n",
       "      <th>Method</th>\n",
       "      <th>Time</th>\n",
       "      <th>Accuracy</th>\n",
       "      <th>Precision</th>\n",
       "      <th>Recall</th>\n",
       "      <th>F1 Score</th>\n",
       "    </tr>\n",
       "  </thead>\n",
       "  <tbody>\n",
       "    <tr>\n",
       "      <th>0</th>\n",
       "      <td>Logistic Regression</td>\n",
       "      <td>1.101200</td>\n",
       "      <td>0.796283</td>\n",
       "      <td>0.770454</td>\n",
       "      <td>0.702544</td>\n",
       "      <td>0.645687</td>\n",
       "    </tr>\n",
       "    <tr>\n",
       "      <th>1</th>\n",
       "      <td>XGBoost</td>\n",
       "      <td>2.567006</td>\n",
       "      <td>0.879812</td>\n",
       "      <td>0.862850</td>\n",
       "      <td>0.833169</td>\n",
       "      <td>0.805480</td>\n",
       "    </tr>\n",
       "    <tr>\n",
       "      <th>2</th>\n",
       "      <td>Random Forest</td>\n",
       "      <td>9.439090</td>\n",
       "      <td>0.903454</td>\n",
       "      <td>0.892742</td>\n",
       "      <td>0.866656</td>\n",
       "      <td>0.842062</td>\n",
       "    </tr>\n",
       "  </tbody>\n",
       "</table>\n",
       "</div>"
      ],
      "text/plain": [
       "                Method      Time  Accuracy  Precision    Recall  F1 Score\n",
       "0  Logistic Regression  1.101200  0.796283   0.770454  0.702544  0.645687\n",
       "1              XGBoost  2.567006  0.879812   0.862850  0.833169  0.805480\n",
       "2        Random Forest  9.439090  0.903454   0.892742  0.866656  0.842062"
      ]
     },
     "execution_count": 29,
     "metadata": {},
     "output_type": "execute_result"
    }
   ],
   "source": [
    "validation_score"
   ]
  },
  {
   "cell_type": "markdown",
   "id": "a8fb496a",
   "metadata": {},
   "source": [
    "## ROC and AUC"
   ]
  },
  {
   "cell_type": "code",
   "execution_count": 27,
   "id": "ef34abda",
   "metadata": {},
   "outputs": [
    {
     "name": "stdout",
     "output_type": "stream",
     "text": [
      "*****************************************************\n",
      "Machine Learning algorithm: Logistic Regression\n",
      "*****************************************************\n"
     ]
    },
    {
     "data": {
      "image/png": "[encoded data removed]",
      "text/plain": [
       "<Figure size 288x216 with 1 Axes>"
      ]
     },
     "metadata": {
      "needs_background": "light"
     },
     "output_type": "display_data"
    },
    {
     "name": "stdout",
     "output_type": "stream",
     "text": [
      "AUC Logistic Regression: 0.8656\n",
      "\n",
      "\n",
      "*****************************************************\n",
      "Machine Learning algorithm: XGBoost\n",
      "*****************************************************\n"
     ]
    },
    {
     "data": {
      "image/png": "[encoded data removed]",
      "text/plain": [
       "<Figure size 288x216 with 1 Axes>"
      ]
     },
     "metadata": {
      "needs_background": "light"
     },
     "output_type": "display_data"
    },
    {
     "name": "stdout",
     "output_type": "stream",
     "text": [
      "AUC XGBoost: 0.9615\n",
      "\n",
      "\n",
      "*****************************************************\n",
      "Machine Learning algorithm: Random Forest\n",
      "*****************************************************\n"
     ]
    },
    {
     "data": {
      "image/png": "[encoded data removed]",
      "text/plain": [
       "<Figure size 288x216 with 1 Axes>"
      ]
     },
     "metadata": {
      "needs_background": "light"
     },
     "output_type": "display_data"
    },
    {
     "name": "stdout",
     "output_type": "stream",
     "text": [
      "AUC Random Forest: 0.9935\n",
      "\n",
      "\n"
     ]
    }
   ],
   "source": [
    "score_metrics_auc = pd.DataFrame(columns=['Model','AUC'])\n",
    "\n",
    "for i,model in enumerate(pipelines): \n",
    "    print('*' * 53) \n",
    "    print(f\"Machine Learning algorithm: {pipe_dict[i]}\") \n",
    "    print('*' * 53)   \n",
    "    y_prob = model.fit(X_train,y_train)\n",
    "    y_prob = model.predict_proba(X)\n",
    "    y_prob = y_prob[:,1]\n",
    "    \n",
    "    fpr,tpr, threshold = roc_curve(y,y_prob)\n",
    "    auc = roc_auc_score(y,y_prob)\n",
    "    plt.figure(figsize=(4, 3))\n",
    "    plt.plot(fpr,tpr, color='steelblue', label = pipe_dict[i])    \n",
    "    plt.title(\"ROC\")\n",
    "    plt.xlim(0.0, 1.0)\n",
    "    plt.ylim(0.0, 1.0)\n",
    "    plt.plot([0,1],[0,1], color='black', linestyle='--')\n",
    "    plt.xlabel(\"False Positives Rate (1- Specifity)\")\n",
    "    plt.ylabel(\"True Positives Rate (Sensitivity)\")\n",
    "    plt.legend(loc = 'lower right') \n",
    "    plt.show()\n",
    "    print(f\"AUC {pipe_dict[i]}: {auc:.4f}\\n\\n\") \n",
    "    \n",
    "    score_metrics_auc.loc[i]=[pipe_dict[i], auc]"
   ]
  },
  {
   "cell_type": "code",
   "execution_count": 26,
   "id": "eae6e5ac",
   "metadata": {},
   "outputs": [
    {
     "data": {
      "text/html": [
       "<div>\n",
       "<style scoped>\n",
       "    .dataframe tbody tr th:only-of-type {\n",
       "        vertical-align: middle;\n",
       "    }\n",
       "\n",
       "    .dataframe tbody tr th {\n",
       "        vertical-align: top;\n",
       "    }\n",
       "\n",
       "    .dataframe thead th {\n",
       "        text-align: right;\n",
       "    }\n",
       "</style>\n",
       "<table border=\"1\" class=\"dataframe\">\n",
       "  <thead>\n",
       "    <tr style=\"text-align: right;\">\n",
       "      <th></th>\n",
       "      <th>Method</th>\n",
       "      <th>Time</th>\n",
       "      <th>Accuracy</th>\n",
       "      <th>Precision</th>\n",
       "      <th>Recall</th>\n",
       "      <th>F1 Score</th>\n",
       "      <th>AUC</th>\n",
       "    </tr>\n",
       "  </thead>\n",
       "  <tbody>\n",
       "    <tr>\n",
       "      <th>0</th>\n",
       "      <td>Logistic Regression</td>\n",
       "      <td>0.890870</td>\n",
       "      <td>0.791394</td>\n",
       "      <td>0.791451</td>\n",
       "      <td>0.681016</td>\n",
       "      <td>0.597629</td>\n",
       "      <td>0.863034</td>\n",
       "    </tr>\n",
       "    <tr>\n",
       "      <th>1</th>\n",
       "      <td>XGBoost</td>\n",
       "      <td>1.690308</td>\n",
       "      <td>0.867952</td>\n",
       "      <td>0.855146</td>\n",
       "      <td>0.814349</td>\n",
       "      <td>0.777285</td>\n",
       "      <td>0.949157</td>\n",
       "    </tr>\n",
       "    <tr>\n",
       "      <th>2</th>\n",
       "      <td>Random Forest</td>\n",
       "      <td>5.497292</td>\n",
       "      <td>0.868678</td>\n",
       "      <td>0.835082</td>\n",
       "      <td>0.820762</td>\n",
       "      <td>0.806938</td>\n",
       "      <td>0.974824</td>\n",
       "    </tr>\n",
       "  </tbody>\n",
       "</table>\n",
       "</div>"
      ],
      "text/plain": [
       "                Method      Time  Accuracy  Precision    Recall  F1 Score  \\\n",
       "0  Logistic Regression  0.890870  0.791394   0.791451  0.681016  0.597629   \n",
       "1              XGBoost  1.690308  0.867952   0.855146  0.814349  0.777285   \n",
       "2        Random Forest  5.497292  0.868678   0.835082  0.820762  0.806938   \n",
       "\n",
       "        AUC  \n",
       "0  0.863034  \n",
       "1  0.949157  \n",
       "2  0.974824  "
      ]
     },
     "execution_count": 26,
     "metadata": {},
     "output_type": "execute_result"
    }
   ],
   "source": [
    "validation_score['AUC'] = score_metrics_auc['AUC']\n",
    "validation_score"
   ]
  },
  {
   "cell_type": "markdown",
   "id": "6a07e981",
   "metadata": {},
   "source": [
    "## Feature Selection"
   ]
  },
  {
   "cell_type": "code",
   "execution_count": 83,
   "id": "895f3369",
   "metadata": {},
   "outputs": [
    {
     "data": {
      "image/png": "[encoded data removed]",
      "text/plain": [
       "<Figure size 720x432 with 1 Axes>"
      ]
     },
     "metadata": {
      "needs_background": "light"
     },
     "output_type": "display_data"
    }
   ],
   "source": [
    "### Apply SelectKBest Algorithm - Anova\n",
    "anova = SelectKBest(score_func=f_classif, k=10).fit(numerical_df,y)\n",
    "anova_scores=pd.DataFrame(anova.scores_,columns=[\"Score\"])\n",
    "anova_columns=pd.DataFrame(numerical_df.columns)\n",
    "anova_feature_rank=pd.concat([anova_columns,anova_scores],axis=1)\n",
    "anova_feature_rank.columns=['Features','Score']\n",
    "anova_feature_rank=anova_feature_rank.nlargest(10,'Score')\n",
    "\n",
    "plt.figure(figsize=(10,6))\n",
    "plt.title('Univariated Selection - Anova')\n",
    "sns.barplot(data=anova_feature_rank, x='Score', y='Features', color='SteelBlue');\n",
    "plt.show()"
   ]
  },
  {
   "cell_type": "code",
   "execution_count": 31,
   "id": "973aad2c",
   "metadata": {},
   "outputs": [],
   "source": [
    "categorical_df_dummy = pd.get_dummies(categorical_df)"
   ]
  },
  {
   "cell_type": "code",
   "execution_count": 32,
   "id": "054d1722",
   "metadata": {},
   "outputs": [
    {
     "data": {
      "image/png": "[encoded data removed]",
      "text/plain": [
       "<Figure size 720x432 with 1 Axes>"
      ]
     },
     "metadata": {
      "needs_background": "light"
     },
     "output_type": "display_data"
    }
   ],
   "source": [
    "### Apply SelectKBest Algorithm - Chi2\n",
    "chi2 = SelectKBest(score_func=chi2, k=10).fit(categorical_df_dummy,y)\n",
    "chi2_scores=pd.DataFrame(chi2.scores_,columns=[\"Score\"])\n",
    "chi2_columns=pd.DataFrame(categorical_df_dummy.columns)\n",
    "chi2_feature_rank=pd.concat([chi2_columns,anova_scores],axis=1)\n",
    "chi2_feature_rank.columns=['Features','Score']\n",
    "chi2_feature_rank=chi2_feature_rank.nlargest(10,'Score')\n",
    "\n",
    "plt.figure(figsize=(10,6))\n",
    "plt.title('Univariated Selection - Chi2')\n",
    "sns.barplot(data=chi2_feature_rank, x='Score', y='Features', color='SteelBlue');\n",
    "plt.show()"
   ]
  },
  {
   "cell_type": "code",
   "execution_count": 33,
   "id": "065b3d70",
   "metadata": {},
   "outputs": [
    {
     "data": {
      "text/plain": [
       "0    0.640644\n",
       "1    0.359356\n",
       "Name: is_canceled, dtype: float64"
      ]
     },
     "execution_count": 33,
     "metadata": {},
     "output_type": "execute_result"
    }
   ],
   "source": [
    "data.is_canceled.loc[(data['market_segment']=='Online TA')].value_counts(normalize=True)"
   ]
  },
  {
   "cell_type": "code",
   "execution_count": 34,
   "id": "c07abc14",
   "metadata": {},
   "outputs": [
    {
     "data": {
      "text/plain": [
       "0    0.627392\n",
       "1    0.372608\n",
       "Name: is_canceled, dtype: float64"
      ]
     },
     "execution_count": 34,
     "metadata": {},
     "output_type": "execute_result"
    }
   ],
   "source": [
    "data.is_canceled.value_counts(normalize=True)"
   ]
  },
  {
   "cell_type": "markdown",
   "id": "c8ddf885",
   "metadata": {},
   "source": [
    "## Hyperparameter Tunning"
   ]
  },
  {
   "cell_type": "code",
   "execution_count": 36,
   "id": "91c2f89f",
   "metadata": {},
   "outputs": [
    {
     "ename": "NameError",
     "evalue": "name 'factor' is not defined",
     "output_type": "error",
     "traceback": [
      "\u001b[1;31m---------------------------------------------------------------------------\u001b[0m",
      "\u001b[1;31mNameError\u001b[0m                                 Traceback (most recent call last)",
      "\u001b[1;32m~\\AppData\\Local\\Temp/ipykernel_3936/3260278148.py\u001b[0m in \u001b[0;36m<module>\u001b[1;34m\u001b[0m\n\u001b[1;32m----> 1\u001b[1;33m \u001b[0mtunning_time\u001b[0m \u001b[1;33m=\u001b[0m \u001b[0mfactor\u001b[0m\u001b[1;33m*\u001b[0m\u001b[1;33m(\u001b[0m\u001b[1;33m(\u001b[0m\u001b[0mfit_time\u001b[0m\u001b[1;33m+\u001b[0m\u001b[0mscore_time\u001b[0m\u001b[1;33m)\u001b[0m\u001b[1;33m*\u001b[0m\u001b[0mcv\u001b[0m\u001b[1;33m*\u001b[0m\u001b[0mn_iter\u001b[0m\u001b[1;33m)\u001b[0m\u001b[1;33m/\u001b[0m\u001b[1;36m3600\u001b[0m\u001b[1;33m\u001b[0m\u001b[1;33m\u001b[0m\u001b[0m\n\u001b[0m\u001b[0;32m      2\u001b[0m \u001b[0mtunning_time\u001b[0m\u001b[1;33m\u001b[0m\u001b[1;33m\u001b[0m\u001b[0m\n",
      "\u001b[1;31mNameError\u001b[0m: name 'factor' is not defined"
     ]
    }
   ],
   "source": [
    "# tunning_time = factor*((fit_time+score_time)*cv*n_iter)/3600\n",
    "# tunning_time"
   ]
  },
  {
   "cell_type": "markdown",
   "id": "c678e82f",
   "metadata": {},
   "source": [
    "### Hyperparameter Tunning - Logist Regression"
   ]
  },
  {
   "cell_type": "code",
   "execution_count": 91,
   "id": "2c67176d",
   "metadata": {},
   "outputs": [
    {
     "name": "stdout",
     "output_type": "stream",
     "text": [
      "Fitting 3 folds for each of 24 candidates, totalling 72 fits\n",
      "Confusion Matrix:\n"
     ]
    },
    {
     "data": {
      "image/png": "[encoded data removed]",
      "text/plain": [
       "<Figure size 432x288 with 2 Axes>"
      ]
     },
     "metadata": {
      "needs_background": "light"
     },
     "output_type": "display_data"
    },
    {
     "name": "stdout",
     "output_type": "stream",
     "text": [
      "Metrics \n",
      "               precision    recall  f1-score   support\n",
      "\n",
      "           0       0.82      0.90      0.86     26677\n",
      "           1       0.80      0.66      0.72     15844\n",
      "\n",
      "    accuracy                           0.81     42521\n",
      "   macro avg       0.81      0.78      0.79     42521\n",
      "weighted avg       0.81      0.81      0.81     42521\n",
      "\n",
      "\n",
      "Accuracy Score Traning:0.8054125069887825, Accuracy Score Validation:0.8097175513275793\n",
      "\n",
      "Best Paramters:\n",
      "{'classifier__C': 10, 'classifier__penalty': 'l1', 'classifier__solver': 'saga', 'preprocessor__num__std': MinMaxScaler()}\n",
      "\n",
      "Best Estimator:\n",
      "Pipeline(steps=[('preprocessor',\n",
      "                 ColumnTransformer(transformers=[('num',\n",
      "                                                  Pipeline(steps=[('imputer',\n",
      "                                                                   SimpleImputer(fill_value='Unknown',\n",
      "                                                                                 strategy='median')),\n",
      "                                                                  ('std',\n",
      "                                                                   MinMaxScaler())]),\n",
      "                                                  Index(['lead_time', 'arrival_date_week_number', 'arrival_date_day_of_month',\n",
      "       'adults', 'meal', 'country', 'is_repeated_guest',\n",
      "       'previous_cancellations', 'booking_changes', 'agent', '...\n",
      "                                                  Pipeline(steps=[('imputer',\n",
      "                                                                   SimpleImputer(fill_value='Unknown',\n",
      "                                                                                 strategy='constant')),\n",
      "                                                                  ('ohe',\n",
      "                                                                   OneHotEncoder(drop='if_binary',\n",
      "                                                                                 handle_unknown='ignore'))]),\n",
      "                                                  Index(['hotel', 'market_segment', 'reserved_room_type', 'customer_type'], dtype='object'))])),\n",
      "                ('selection', SelectPercentile(percentile=80)),\n",
      "                ('classifier',\n",
      "                 LogisticRegression(C=10, penalty='l1', solver='saga'))])\n",
      "Wall time: 1min 45s\n"
     ]
    }
   ],
   "source": [
    "%%time\n",
    "### Tunning parameters: Logistic Regression ###\n",
    "\n",
    "np.random.seed(7)\n",
    "\n",
    "params_lr = { \n",
    "        'preprocessor__num__std' : [MinMaxScaler(), RobustScaler()],\n",
    "        #'selection': [SelectPercentile(f_classif, percentile=80)],\n",
    "       # 'preprocessor__cat__selection': [SelectPercentile(chi2, percentile=80)],\n",
    "        'classifier__C': [0.1,1,10], \n",
    "        'classifier__solver': ['lbfgs','saga'], \n",
    "        'classifier__penalty': ['l1','l2'],\n",
    "        \n",
    "}\n",
    "\n",
    "gs = GridSearchCV(estimator=pipeline_lr, param_grid=params_lr, cv=3, scoring=\"accuracy\", verbose=True, return_train_score=False)\n",
    "gs.fit(X_train,y_train)\n",
    "\n",
    "\n",
    "lr_tuned_best_score = gs.best_score_\n",
    "lr_tuned_best_params = gs.best_params_\n",
    "lr_tuned_best_estimator = gs.best_estimator_\n",
    "y_pred_lr_tuned = gs.best_estimator_.predict(X_val)\n",
    "validation_score = gs.score(X_val, y_val)\n",
    "\n",
    "CM(y_val, y_pred_lr_tuned)\n",
    "\n",
    "print(f\"\\nAccuracy Score Traning:{gs.best_score_}, Accuracy Score Validation:{validation_score}\")\n",
    "print(f\"\\nBest Paramters:\\n{gs.best_params_}\")\n",
    "print(f\"\\nBest Estimator:\\n{gs.best_estimator_}\")"
   ]
  },
  {
   "cell_type": "markdown",
   "id": "a4fa3716",
   "metadata": {},
   "source": [
    "### Hyperparameter Tunning - Random Forest"
   ]
  },
  {
   "cell_type": "code",
   "execution_count": null,
   "id": "abe188a7",
   "metadata": {},
   "outputs": [],
   "source": [
    "np.random.seed(7)\n",
    "\n",
    "params_rf  = {'criterion': ['entropy', 'gini'],\n",
    "               'max_depth': [12,18,24,30],\n",
    "               'max_features': ['auto', 'sqrt'],\n",
    "               'min_samples_leaf': [1, 4, 6, 8],\n",
    "               'min_samples_split': [5, 7,10],\n",
    "               'n_estimators': [100,500,1000]}\n",
    "\n",
    "\n",
    "gs = GridSearchCV(estimator=pipeline_rf, param_grid=params, cv=3, scoring=\"accuracy\", n_jobs=2, verbose=True, return_train_score=False)\n",
    "gs.fit(X_train,y_train)\n",
    "\n",
    "\n",
    "rf_tuned_best_score = gs.best_score_\n",
    "rf_tuned_best_params = gs.best_params_\n",
    "rf_tuned_best_estimator = gs.best_estimator_\n",
    "y_pred_rf_tuned = gs.best_estimator_.predict(X_val)\n",
    "validation_score = gs.score(X_val, y_val)\n",
    "\n",
    "CM(y_val, y_pred_xgb_tuned)\n",
    "\n",
    "print(f\"\\nAccuracy Score Traning:{gs.best_score_}, Accuracy Score Validation:{validation_score}\") \n",
    "print(f\"\\nBest Paramters:\\n{gs.best_params_}\") \n",
    "print(f\"\\nBest Estimator:\\n{gs.best_estimator_}\") "
   ]
  },
  {
   "cell_type": "markdown",
   "id": "2b998010",
   "metadata": {},
   "source": [
    "### Hyperparameter Tunning - XGBoost"
   ]
  },
  {
   "cell_type": "code",
   "execution_count": 42,
   "id": "941dd51a",
   "metadata": {},
   "outputs": [
    {
     "name": "stdout",
     "output_type": "stream",
     "text": [
      "Fitting 3 folds for each of 72 candidates, totalling 216 fits\n",
      "Confusion Matrix:\n"
     ]
    },
    {
     "data": {
      "image/png": "[encoded data removed]",
      "text/plain": [
       "<Figure size 432x288 with 2 Axes>"
      ]
     },
     "metadata": {
      "needs_background": "light"
     },
     "output_type": "display_data"
    },
    {
     "name": "stdout",
     "output_type": "stream",
     "text": [
      "Metrics \n",
      "               precision    recall  f1-score   support\n",
      "\n",
      "           0       0.92      0.93      0.93     26677\n",
      "           1       0.89      0.86      0.87     15844\n",
      "\n",
      "    accuracy                           0.91     42521\n",
      "   macro avg       0.90      0.90      0.90     42521\n",
      "weighted avg       0.91      0.91      0.91     42521\n",
      "\n",
      "\n",
      "Accuracy Score Traning:0.8951771376875342, Accuracy Score Validation:0.9054349615484114\n",
      "\n",
      "Best Paramters:\n",
      "{'classifier__learning_rate': 0.05, 'classifier__max_depth': 18, 'classifier__n_estimators': 500, 'preprocessor__num__std': MinMaxScaler(), 'selection': SelectPercentile(percentile=95)}\n",
      "\n",
      "Best Estimator:\n",
      "Pipeline(steps=[('preprocessor',\n",
      "                 ColumnTransformer(transformers=[('num',\n",
      "                                                  Pipeline(steps=[('imputer',\n",
      "                                                                   SimpleImputer(fill_value='Unknown',\n",
      "                                                                                 strategy='median')),\n",
      "                                                                  ('std',\n",
      "                                                                   MinMaxScaler())]),\n",
      "                                                  Index(['lead_time', 'arrival_date_week_number', 'arrival_date_day_of_month',\n",
      "       'adults', 'meal', 'country', 'is_repeated_guest',\n",
      "       'previous_cancellations', 'booking_changes', 'agent', '...\n",
      "                               gamma=0, gpu_id=-1, grow_policy='depthwise',\n",
      "                               importance_type=None, interaction_constraints='',\n",
      "                               learning_rate=0.05, max_bin=256,\n",
      "                               max_cat_to_onehot=4, max_delta_step=0,\n",
      "                               max_depth=18, max_leaves=0, min_child_weight=1,\n",
      "                               missing=nan, monotone_constraints='()',\n",
      "                               n_estimators=500, n_jobs=0, num_parallel_tree=1,\n",
      "                               predictor='auto', random_state=0, reg_alpha=0,\n",
      "                               reg_lambda=1, ...))])\n",
      "Wall time: 1h 53min 15s\n"
     ]
    }
   ],
   "source": [
    "%%time\n",
    "### Tunning parameters: XGBoost\n",
    "\n",
    "np.random.seed(7)\n",
    "\n",
    "params_xgb = { \n",
    "        #'preprocessor__num__std' : [MinMaxScaler(), RobustScaler()],\n",
    "        'selection': [SelectPercentile(f_classif, percentile=80)],\n",
    "        'classifier__max_depth': [18,24,30],\n",
    "        'classifier__learning_rate': [0.05,0.10], \n",
    "        #'classifier__min_child_weight': [1,3],\n",
    "        'classifier__n_estimators': [100, 300, 600],    \n",
    "        #'classifier__eta' : [0.1, 0.3]\n",
    "            }\n",
    "\n",
    "gs = GridSearchCV(estimator=pipeline_xgb, param_grid=params_xgb, cv=3, scoring=\"accuracy\", n_jobs=2, verbose=True, return_train_score=False)\n",
    "gs.fit(X_train,y_train)\n",
    "\n",
    "\n",
    "xgb_tuned_best_score = gs.best_score_\n",
    "xgb_tuned_best_params = gs.best_params_\n",
    "xgb_tuned_best_estimator = gs.best_estimator_\n",
    "y_pred_xgb_tuned = gs.best_estimator_.predict(X_val)\n",
    "validation_score = gs.score(X_val, y_val)\n",
    "\n",
    "CM(y_val, y_pred_xgb_tuned)\n",
    "\n",
    "print(f\"\\nAccuracy Score Traning:{gs.best_score_}, Accuracy Score Validation:{validation_score}\") \n",
    "print(f\"\\nBest Paramters:\\n{gs.best_params_}\") \n",
    "print(f\"\\nBest Estimator:\\n{gs.best_estimator_}\") "
   ]
  },
  {
   "cell_type": "markdown",
   "id": "97208767",
   "metadata": {},
   "source": [
    "## Ensembles"
   ]
  },
  {
   "cell_type": "code",
   "execution_count": 44,
   "id": "0c8ebba2",
   "metadata": {},
   "outputs": [
    {
     "data": {
      "text/plain": [
       "{'classifier__learning_rate': 0.05,\n",
       " 'classifier__max_depth': 18,\n",
       " 'classifier__n_estimators': 500,\n",
       " 'preprocessor__num__std': MinMaxScaler(),\n",
       " 'selection': SelectPercentile(percentile=95)}"
      ]
     },
     "execution_count": 44,
     "metadata": {},
     "output_type": "execute_result"
    }
   ],
   "source": [
    "xgb_tuned_best_params"
   ]
  },
  {
   "cell_type": "code",
   "execution_count": 41,
   "id": "bbad0273",
   "metadata": {},
   "outputs": [],
   "source": [
    "#selection = SelectPercentile(chi2, percentile=50)\n",
    "selection = SelectPercentile(f_classif, percentile=95)\n",
    "\n",
    "lr_tuned = LogisticRegression(C=0.1,penalty='l1',solver='saga')\n",
    "rf_tuned = RandomForestClassifier()\n",
    "xgb_tuned = XGBClassifier(learning_rate=0.05, max_depth=18,n_estimators=500)\n",
    "\n",
    "pipeline_lr = Pipeline(\n",
    "    steps=[(\"preprocessor\", preprocessor), \n",
    "           ('selection', selection),\n",
    "           (\"classifier\", lr_tuned)]\n",
    ") \n",
    "    \n",
    "pipeline_rf = Pipeline(\n",
    "    steps=[(\"preprocessor\", preprocessor),            \n",
    "           ('selection', selection),\n",
    "           (\"classifier\", rf_tuned)]\n",
    ") \n",
    "\n",
    "pipeline_xgb = Pipeline(\n",
    "    steps=[(\"preprocessor\", preprocessor),\n",
    "           ('selection', selection),\n",
    "           (\"classifier\", xgb_tuned)]\n",
    ") "
   ]
  },
  {
   "cell_type": "code",
   "execution_count": 71,
   "id": "d18e434a",
   "metadata": {},
   "outputs": [
    {
     "data": {
      "text/plain": [
       "<bound method ColumnTransformer.get_feature_names_out of ColumnTransformer(transformers=[('num',\n",
       "                                 Pipeline(steps=[('imputer',\n",
       "                                                  SimpleImputer(fill_value='Unknown',\n",
       "                                                                strategy='median')),\n",
       "                                                 ('std', MinMaxScaler())]),\n",
       "                                 Index(['lead_time', 'arrival_date_week_number', 'arrival_date_day_of_month',\n",
       "       'adults', 'meal', 'country', 'is_repeated_guest',\n",
       "       'previous_cancellations', 'booking_changes', 'agent', 'company', 'adr',\n",
       "       'required_car_parking_spaces', 'total_of_special_requests', 'kids',\n",
       "       'days_stay'],\n",
       "      dtype='object')),\n",
       "                                ('cat',\n",
       "                                 Pipeline(steps=[('imputer',\n",
       "                                                  SimpleImputer(fill_value='Unknown',\n",
       "                                                                strategy='constant')),\n",
       "                                                 ('ohe',\n",
       "                                                  OneHotEncoder(handle_unknown='ignore'))]),\n",
       "                                 Index(['hotel', 'market_segment', 'reserved_room_type', 'customer_type'], dtype='object'))])>"
      ]
     },
     "execution_count": 71,
     "metadata": {},
     "output_type": "execute_result"
    }
   ],
   "source": []
  },
  {
   "cell_type": "code",
   "execution_count": null,
   "id": "e6941f0f",
   "metadata": {},
   "outputs": [],
   "source": []
  },
  {
   "cell_type": "code",
   "execution_count": 61,
   "id": "948411c8",
   "metadata": {},
   "outputs": [
    {
     "name": "stdout",
     "output_type": "stream",
     "text": [
      "acc: 0.9653818113402789\n"
     ]
    }
   ],
   "source": [
    "vc = VotingClassifier([\n",
    "    ('lr', pipeline_lr),\n",
    "    ('xgb', pipeline_xgb),\n",
    "    ('rf', pipeline_rf),    \n",
    "])\n",
    "\n",
    "vc.fit(X_train, y_train)\n",
    "predictions = vc.predict(X_test)\n",
    "acc = accuracy_score(y_test, predictions)\n",
    "\n",
    "print(\"acc:\", acc)"
   ]
  },
  {
   "cell_type": "code",
   "execution_count": 64,
   "id": "2f545421",
   "metadata": {},
   "outputs": [
    {
     "name": "stdout",
     "output_type": "stream",
     "text": [
      "Fitting 3 folds for each of 72 candidates, totalling 216 fits\n"
     ]
    },
    {
     "ename": "ValueError",
     "evalue": "Invalid parameter 'classifier' for estimator VotingClassifier(estimators=[('lr',\n                              Pipeline(steps=[('preprocessor',\n                                               ColumnTransformer(transformers=[('num',\n                                                                                Pipeline(steps=[('imputer',\n                                                                                                 SimpleImputer(fill_value='Unknown',\n                                                                                                               strategy='median')),\n                                                                                                ('std',\n                                                                                                 MinMaxScaler())]),\n                                                                                Index(['lead_time', 'arrival_date_week_number', 'arrival_date_day_of_month',\n       'adults', 'meal', 'country', 'is_repeated_guest',\n       'previous_cancell...\n       'days_stay'],\n      dtype='object')),\n                                                                               ('cat',\n                                                                                Pipeline(steps=[('imputer',\n                                                                                                 SimpleImputer(fill_value='Unknown',\n                                                                                                               strategy='constant')),\n                                                                                                ('ohe',\n                                                                                                 OneHotEncoder(handle_unknown='ignore'))]),\n                                                                                Index(['hotel', 'market_segment', 'reserved_room_type', 'customer_type'], dtype='object'))])),\n                                              ('selection',\n                                               SelectPercentile(percentile=95)),\n                                              ('classifier',\n                                               RandomForestClassifier())]))]). Valid parameters are: ['estimators', 'flatten_transform', 'n_jobs', 'verbose', 'voting', 'weights'].",
     "output_type": "error",
     "traceback": [
      "\u001b[1;31m---------------------------------------------------------------------------\u001b[0m",
      "\u001b[1;31m_RemoteTraceback\u001b[0m                          Traceback (most recent call last)",
      "\u001b[1;31m_RemoteTraceback\u001b[0m: \n\"\"\"\nTraceback (most recent call last):\n  File \"C:\\Users\\Alysson\\anaconda3\\lib\\site-packages\\joblib\\externals\\loky\\process_executor.py\", line 436, in _process_worker\n    r = call_item()\n  File \"C:\\Users\\Alysson\\anaconda3\\lib\\site-packages\\joblib\\externals\\loky\\process_executor.py\", line 288, in __call__\n    return self.fn(*self.args, **self.kwargs)\n  File \"C:\\Users\\Alysson\\anaconda3\\lib\\site-packages\\joblib\\_parallel_backends.py\", line 595, in __call__\n    return self.func(*args, **kwargs)\n  File \"C:\\Users\\Alysson\\anaconda3\\lib\\site-packages\\joblib\\parallel.py\", line 262, in __call__\n    return [func(*args, **kwargs)\n  File \"C:\\Users\\Alysson\\anaconda3\\lib\\site-packages\\joblib\\parallel.py\", line 262, in <listcomp>\n    return [func(*args, **kwargs)\n  File \"C:\\Users\\Alysson\\anaconda3\\lib\\site-packages\\sklearn\\utils\\fixes.py\", line 117, in __call__\n    return self.function(*args, **kwargs)\n  File \"C:\\Users\\Alysson\\anaconda3\\lib\\site-packages\\sklearn\\model_selection\\_validation.py\", line 674, in _fit_and_score\n    estimator = estimator.set_params(**cloned_parameters)\n  File \"C:\\Users\\Alysson\\anaconda3\\lib\\site-packages\\sklearn\\ensemble\\_base.py\", line 307, in set_params\n    super()._set_params(\"estimators\", **params)\n  File \"C:\\Users\\Alysson\\anaconda3\\lib\\site-packages\\sklearn\\utils\\metaestimators.py\", line 72, in _set_params\n    super().set_params(**params)\n  File \"C:\\Users\\Alysson\\anaconda3\\lib\\site-packages\\sklearn\\base.py\", line 246, in set_params\n    raise ValueError(\nValueError: Invalid parameter 'classifier' for estimator VotingClassifier(estimators=[('lr',\n                              Pipeline(steps=[('preprocessor',\n                                               ColumnTransformer(transformers=[('num',\n                                                                                Pipeline(steps=[('imputer',\n                                                                                                 SimpleImputer(fill_value='Unknown',\n                                                                                                               strategy='median')),\n                                                                                                ('std',\n                                                                                                 MinMaxScaler())]),\n                                                                                Index(['lead_time', 'arrival_date_week_number', 'arrival_date_day_of_month',\n       'adults', 'meal', 'country', 'is_repeated_guest',\n       'previous_cancell...\n       'days_stay'],\n      dtype='object')),\n                                                                               ('cat',\n                                                                                Pipeline(steps=[('imputer',\n                                                                                                 SimpleImputer(fill_value='Unknown',\n                                                                                                               strategy='constant')),\n                                                                                                ('ohe',\n                                                                                                 OneHotEncoder(handle_unknown='ignore'))]),\n                                                                                Index(['hotel', 'market_segment', 'reserved_room_type', 'customer_type'], dtype='object'))])),\n                                              ('selection',\n                                               SelectPercentile(percentile=95)),\n                                              ('classifier',\n                                               RandomForestClassifier())]))]). Valid parameters are: ['estimators', 'flatten_transform', 'n_jobs', 'verbose', 'voting', 'weights'].\n\"\"\"",
      "\nThe above exception was the direct cause of the following exception:\n",
      "\u001b[1;31mValueError\u001b[0m                                Traceback (most recent call last)",
      "\u001b[1;32m~\\AppData\\Local\\Temp/ipykernel_11612/3628646582.py\u001b[0m in \u001b[0;36m<module>\u001b[1;34m\u001b[0m\n\u001b[0;32m      6\u001b[0m \u001b[1;33m\u001b[0m\u001b[0m\n\u001b[0;32m      7\u001b[0m \u001b[0mgs\u001b[0m \u001b[1;33m=\u001b[0m \u001b[0mGridSearchCV\u001b[0m\u001b[1;33m(\u001b[0m\u001b[0mestimator\u001b[0m\u001b[1;33m=\u001b[0m\u001b[0mvc\u001b[0m\u001b[1;33m,\u001b[0m \u001b[0mparam_grid\u001b[0m\u001b[1;33m=\u001b[0m\u001b[0mparams_xgb\u001b[0m\u001b[1;33m,\u001b[0m \u001b[0mcv\u001b[0m\u001b[1;33m=\u001b[0m\u001b[1;36m3\u001b[0m\u001b[1;33m,\u001b[0m \u001b[0mscoring\u001b[0m\u001b[1;33m=\u001b[0m\u001b[1;34m\"accuracy\"\u001b[0m\u001b[1;33m,\u001b[0m \u001b[0mn_jobs\u001b[0m\u001b[1;33m=\u001b[0m\u001b[1;36m2\u001b[0m\u001b[1;33m,\u001b[0m \u001b[0mverbose\u001b[0m\u001b[1;33m=\u001b[0m\u001b[1;32mTrue\u001b[0m\u001b[1;33m,\u001b[0m \u001b[0mreturn_train_score\u001b[0m\u001b[1;33m=\u001b[0m\u001b[1;32mFalse\u001b[0m\u001b[1;33m)\u001b[0m\u001b[1;33m\u001b[0m\u001b[1;33m\u001b[0m\u001b[0m\n\u001b[1;32m----> 8\u001b[1;33m \u001b[0mgs\u001b[0m\u001b[1;33m.\u001b[0m\u001b[0mfit\u001b[0m\u001b[1;33m(\u001b[0m\u001b[0mX_train\u001b[0m\u001b[1;33m,\u001b[0m\u001b[0my_train\u001b[0m\u001b[1;33m)\u001b[0m\u001b[1;33m\u001b[0m\u001b[1;33m\u001b[0m\u001b[0m\n\u001b[0m\u001b[0;32m      9\u001b[0m \u001b[1;33m\u001b[0m\u001b[0m\n\u001b[0;32m     10\u001b[0m \u001b[0mvc_tuned_best_score\u001b[0m \u001b[1;33m=\u001b[0m \u001b[0mgs\u001b[0m\u001b[1;33m.\u001b[0m\u001b[0mbest_score_\u001b[0m\u001b[1;33m\u001b[0m\u001b[1;33m\u001b[0m\u001b[0m\n",
      "\u001b[1;32m~\\anaconda3\\lib\\site-packages\\sklearn\\model_selection\\_search.py\u001b[0m in \u001b[0;36mfit\u001b[1;34m(self, X, y, groups, **fit_params)\u001b[0m\n\u001b[0;32m    873\u001b[0m                 \u001b[1;32mreturn\u001b[0m \u001b[0mresults\u001b[0m\u001b[1;33m\u001b[0m\u001b[1;33m\u001b[0m\u001b[0m\n\u001b[0;32m    874\u001b[0m \u001b[1;33m\u001b[0m\u001b[0m\n\u001b[1;32m--> 875\u001b[1;33m             \u001b[0mself\u001b[0m\u001b[1;33m.\u001b[0m\u001b[0m_run_search\u001b[0m\u001b[1;33m(\u001b[0m\u001b[0mevaluate_candidates\u001b[0m\u001b[1;33m)\u001b[0m\u001b[1;33m\u001b[0m\u001b[1;33m\u001b[0m\u001b[0m\n\u001b[0m\u001b[0;32m    876\u001b[0m \u001b[1;33m\u001b[0m\u001b[0m\n\u001b[0;32m    877\u001b[0m             \u001b[1;31m# multimetric is determined here because in the case of a callable\u001b[0m\u001b[1;33m\u001b[0m\u001b[1;33m\u001b[0m\u001b[0m\n",
      "\u001b[1;32m~\\anaconda3\\lib\\site-packages\\sklearn\\model_selection\\_search.py\u001b[0m in \u001b[0;36m_run_search\u001b[1;34m(self, evaluate_candidates)\u001b[0m\n\u001b[0;32m   1373\u001b[0m     \u001b[1;32mdef\u001b[0m \u001b[0m_run_search\u001b[0m\u001b[1;33m(\u001b[0m\u001b[0mself\u001b[0m\u001b[1;33m,\u001b[0m \u001b[0mevaluate_candidates\u001b[0m\u001b[1;33m)\u001b[0m\u001b[1;33m:\u001b[0m\u001b[1;33m\u001b[0m\u001b[1;33m\u001b[0m\u001b[0m\n\u001b[0;32m   1374\u001b[0m         \u001b[1;34m\"\"\"Search all candidates in param_grid\"\"\"\u001b[0m\u001b[1;33m\u001b[0m\u001b[1;33m\u001b[0m\u001b[0m\n\u001b[1;32m-> 1375\u001b[1;33m         \u001b[0mevaluate_candidates\u001b[0m\u001b[1;33m(\u001b[0m\u001b[0mParameterGrid\u001b[0m\u001b[1;33m(\u001b[0m\u001b[0mself\u001b[0m\u001b[1;33m.\u001b[0m\u001b[0mparam_grid\u001b[0m\u001b[1;33m)\u001b[0m\u001b[1;33m)\u001b[0m\u001b[1;33m\u001b[0m\u001b[1;33m\u001b[0m\u001b[0m\n\u001b[0m\u001b[0;32m   1376\u001b[0m \u001b[1;33m\u001b[0m\u001b[0m\n\u001b[0;32m   1377\u001b[0m \u001b[1;33m\u001b[0m\u001b[0m\n",
      "\u001b[1;32m~\\anaconda3\\lib\\site-packages\\sklearn\\model_selection\\_search.py\u001b[0m in \u001b[0;36mevaluate_candidates\u001b[1;34m(candidate_params, cv, more_results)\u001b[0m\n\u001b[0;32m    820\u001b[0m                     )\n\u001b[0;32m    821\u001b[0m \u001b[1;33m\u001b[0m\u001b[0m\n\u001b[1;32m--> 822\u001b[1;33m                 out = parallel(\n\u001b[0m\u001b[0;32m    823\u001b[0m                     delayed(_fit_and_score)(\n\u001b[0;32m    824\u001b[0m                         \u001b[0mclone\u001b[0m\u001b[1;33m(\u001b[0m\u001b[0mbase_estimator\u001b[0m\u001b[1;33m)\u001b[0m\u001b[1;33m,\u001b[0m\u001b[1;33m\u001b[0m\u001b[1;33m\u001b[0m\u001b[0m\n",
      "\u001b[1;32m~\\anaconda3\\lib\\site-packages\\joblib\\parallel.py\u001b[0m in \u001b[0;36m__call__\u001b[1;34m(self, iterable)\u001b[0m\n\u001b[0;32m   1054\u001b[0m \u001b[1;33m\u001b[0m\u001b[0m\n\u001b[0;32m   1055\u001b[0m             \u001b[1;32mwith\u001b[0m \u001b[0mself\u001b[0m\u001b[1;33m.\u001b[0m\u001b[0m_backend\u001b[0m\u001b[1;33m.\u001b[0m\u001b[0mretrieval_context\u001b[0m\u001b[1;33m(\u001b[0m\u001b[1;33m)\u001b[0m\u001b[1;33m:\u001b[0m\u001b[1;33m\u001b[0m\u001b[1;33m\u001b[0m\u001b[0m\n\u001b[1;32m-> 1056\u001b[1;33m                 \u001b[0mself\u001b[0m\u001b[1;33m.\u001b[0m\u001b[0mretrieve\u001b[0m\u001b[1;33m(\u001b[0m\u001b[1;33m)\u001b[0m\u001b[1;33m\u001b[0m\u001b[1;33m\u001b[0m\u001b[0m\n\u001b[0m\u001b[0;32m   1057\u001b[0m             \u001b[1;31m# Make sure that we get a last message telling us we are done\u001b[0m\u001b[1;33m\u001b[0m\u001b[1;33m\u001b[0m\u001b[0m\n\u001b[0;32m   1058\u001b[0m             \u001b[0melapsed_time\u001b[0m \u001b[1;33m=\u001b[0m \u001b[0mtime\u001b[0m\u001b[1;33m.\u001b[0m\u001b[0mtime\u001b[0m\u001b[1;33m(\u001b[0m\u001b[1;33m)\u001b[0m \u001b[1;33m-\u001b[0m \u001b[0mself\u001b[0m\u001b[1;33m.\u001b[0m\u001b[0m_start_time\u001b[0m\u001b[1;33m\u001b[0m\u001b[1;33m\u001b[0m\u001b[0m\n",
      "\u001b[1;32m~\\anaconda3\\lib\\site-packages\\joblib\\parallel.py\u001b[0m in \u001b[0;36mretrieve\u001b[1;34m(self)\u001b[0m\n\u001b[0;32m    933\u001b[0m             \u001b[1;32mtry\u001b[0m\u001b[1;33m:\u001b[0m\u001b[1;33m\u001b[0m\u001b[1;33m\u001b[0m\u001b[0m\n\u001b[0;32m    934\u001b[0m                 \u001b[1;32mif\u001b[0m \u001b[0mgetattr\u001b[0m\u001b[1;33m(\u001b[0m\u001b[0mself\u001b[0m\u001b[1;33m.\u001b[0m\u001b[0m_backend\u001b[0m\u001b[1;33m,\u001b[0m \u001b[1;34m'supports_timeout'\u001b[0m\u001b[1;33m,\u001b[0m \u001b[1;32mFalse\u001b[0m\u001b[1;33m)\u001b[0m\u001b[1;33m:\u001b[0m\u001b[1;33m\u001b[0m\u001b[1;33m\u001b[0m\u001b[0m\n\u001b[1;32m--> 935\u001b[1;33m                     \u001b[0mself\u001b[0m\u001b[1;33m.\u001b[0m\u001b[0m_output\u001b[0m\u001b[1;33m.\u001b[0m\u001b[0mextend\u001b[0m\u001b[1;33m(\u001b[0m\u001b[0mjob\u001b[0m\u001b[1;33m.\u001b[0m\u001b[0mget\u001b[0m\u001b[1;33m(\u001b[0m\u001b[0mtimeout\u001b[0m\u001b[1;33m=\u001b[0m\u001b[0mself\u001b[0m\u001b[1;33m.\u001b[0m\u001b[0mtimeout\u001b[0m\u001b[1;33m)\u001b[0m\u001b[1;33m)\u001b[0m\u001b[1;33m\u001b[0m\u001b[1;33m\u001b[0m\u001b[0m\n\u001b[0m\u001b[0;32m    936\u001b[0m                 \u001b[1;32melse\u001b[0m\u001b[1;33m:\u001b[0m\u001b[1;33m\u001b[0m\u001b[1;33m\u001b[0m\u001b[0m\n\u001b[0;32m    937\u001b[0m                     \u001b[0mself\u001b[0m\u001b[1;33m.\u001b[0m\u001b[0m_output\u001b[0m\u001b[1;33m.\u001b[0m\u001b[0mextend\u001b[0m\u001b[1;33m(\u001b[0m\u001b[0mjob\u001b[0m\u001b[1;33m.\u001b[0m\u001b[0mget\u001b[0m\u001b[1;33m(\u001b[0m\u001b[1;33m)\u001b[0m\u001b[1;33m)\u001b[0m\u001b[1;33m\u001b[0m\u001b[1;33m\u001b[0m\u001b[0m\n",
      "\u001b[1;32m~\\anaconda3\\lib\\site-packages\\joblib\\_parallel_backends.py\u001b[0m in \u001b[0;36mwrap_future_result\u001b[1;34m(future, timeout)\u001b[0m\n\u001b[0;32m    540\u001b[0m         AsyncResults.get from multiprocessing.\"\"\"\n\u001b[0;32m    541\u001b[0m         \u001b[1;32mtry\u001b[0m\u001b[1;33m:\u001b[0m\u001b[1;33m\u001b[0m\u001b[1;33m\u001b[0m\u001b[0m\n\u001b[1;32m--> 542\u001b[1;33m             \u001b[1;32mreturn\u001b[0m \u001b[0mfuture\u001b[0m\u001b[1;33m.\u001b[0m\u001b[0mresult\u001b[0m\u001b[1;33m(\u001b[0m\u001b[0mtimeout\u001b[0m\u001b[1;33m=\u001b[0m\u001b[0mtimeout\u001b[0m\u001b[1;33m)\u001b[0m\u001b[1;33m\u001b[0m\u001b[1;33m\u001b[0m\u001b[0m\n\u001b[0m\u001b[0;32m    543\u001b[0m         \u001b[1;32mexcept\u001b[0m \u001b[0mCfTimeoutError\u001b[0m \u001b[1;32mas\u001b[0m \u001b[0me\u001b[0m\u001b[1;33m:\u001b[0m\u001b[1;33m\u001b[0m\u001b[1;33m\u001b[0m\u001b[0m\n\u001b[0;32m    544\u001b[0m             \u001b[1;32mraise\u001b[0m \u001b[0mTimeoutError\u001b[0m \u001b[1;32mfrom\u001b[0m \u001b[0me\u001b[0m\u001b[1;33m\u001b[0m\u001b[1;33m\u001b[0m\u001b[0m\n",
      "\u001b[1;32m~\\anaconda3\\lib\\concurrent\\futures\\_base.py\u001b[0m in \u001b[0;36mresult\u001b[1;34m(self, timeout)\u001b[0m\n\u001b[0;32m    443\u001b[0m                     \u001b[1;32mraise\u001b[0m \u001b[0mCancelledError\u001b[0m\u001b[1;33m(\u001b[0m\u001b[1;33m)\u001b[0m\u001b[1;33m\u001b[0m\u001b[1;33m\u001b[0m\u001b[0m\n\u001b[0;32m    444\u001b[0m                 \u001b[1;32melif\u001b[0m \u001b[0mself\u001b[0m\u001b[1;33m.\u001b[0m\u001b[0m_state\u001b[0m \u001b[1;33m==\u001b[0m \u001b[0mFINISHED\u001b[0m\u001b[1;33m:\u001b[0m\u001b[1;33m\u001b[0m\u001b[1;33m\u001b[0m\u001b[0m\n\u001b[1;32m--> 445\u001b[1;33m                     \u001b[1;32mreturn\u001b[0m \u001b[0mself\u001b[0m\u001b[1;33m.\u001b[0m\u001b[0m__get_result\u001b[0m\u001b[1;33m(\u001b[0m\u001b[1;33m)\u001b[0m\u001b[1;33m\u001b[0m\u001b[1;33m\u001b[0m\u001b[0m\n\u001b[0m\u001b[0;32m    446\u001b[0m                 \u001b[1;32melse\u001b[0m\u001b[1;33m:\u001b[0m\u001b[1;33m\u001b[0m\u001b[1;33m\u001b[0m\u001b[0m\n\u001b[0;32m    447\u001b[0m                     \u001b[1;32mraise\u001b[0m \u001b[0mTimeoutError\u001b[0m\u001b[1;33m(\u001b[0m\u001b[1;33m)\u001b[0m\u001b[1;33m\u001b[0m\u001b[1;33m\u001b[0m\u001b[0m\n",
      "\u001b[1;32m~\\anaconda3\\lib\\concurrent\\futures\\_base.py\u001b[0m in \u001b[0;36m__get_result\u001b[1;34m(self)\u001b[0m\n\u001b[0;32m    388\u001b[0m         \u001b[1;32mif\u001b[0m \u001b[0mself\u001b[0m\u001b[1;33m.\u001b[0m\u001b[0m_exception\u001b[0m\u001b[1;33m:\u001b[0m\u001b[1;33m\u001b[0m\u001b[1;33m\u001b[0m\u001b[0m\n\u001b[0;32m    389\u001b[0m             \u001b[1;32mtry\u001b[0m\u001b[1;33m:\u001b[0m\u001b[1;33m\u001b[0m\u001b[1;33m\u001b[0m\u001b[0m\n\u001b[1;32m--> 390\u001b[1;33m                 \u001b[1;32mraise\u001b[0m \u001b[0mself\u001b[0m\u001b[1;33m.\u001b[0m\u001b[0m_exception\u001b[0m\u001b[1;33m\u001b[0m\u001b[1;33m\u001b[0m\u001b[0m\n\u001b[0m\u001b[0;32m    391\u001b[0m             \u001b[1;32mfinally\u001b[0m\u001b[1;33m:\u001b[0m\u001b[1;33m\u001b[0m\u001b[1;33m\u001b[0m\u001b[0m\n\u001b[0;32m    392\u001b[0m                 \u001b[1;31m# Break a reference cycle with the exception in self._exception\u001b[0m\u001b[1;33m\u001b[0m\u001b[1;33m\u001b[0m\u001b[0m\n",
      "\u001b[1;31mValueError\u001b[0m: Invalid parameter 'classifier' for estimator VotingClassifier(estimators=[('lr',\n                              Pipeline(steps=[('preprocessor',\n                                               ColumnTransformer(transformers=[('num',\n                                                                                Pipeline(steps=[('imputer',\n                                                                                                 SimpleImputer(fill_value='Unknown',\n                                                                                                               strategy='median')),\n                                                                                                ('std',\n                                                                                                 MinMaxScaler())]),\n                                                                                Index(['lead_time', 'arrival_date_week_number', 'arrival_date_day_of_month',\n       'adults', 'meal', 'country', 'is_repeated_guest',\n       'previous_cancell...\n       'days_stay'],\n      dtype='object')),\n                                                                               ('cat',\n                                                                                Pipeline(steps=[('imputer',\n                                                                                                 SimpleImputer(fill_value='Unknown',\n                                                                                                               strategy='constant')),\n                                                                                                ('ohe',\n                                                                                                 OneHotEncoder(handle_unknown='ignore'))]),\n                                                                                Index(['hotel', 'market_segment', 'reserved_room_type', 'customer_type'], dtype='object'))])),\n                                              ('selection',\n                                               SelectPercentile(percentile=95)),\n                                              ('classifier',\n                                               RandomForestClassifier())]))]). Valid parameters are: ['estimators', 'flatten_transform', 'n_jobs', 'verbose', 'voting', 'weights']."
     ]
    }
   ],
   "source": [
    "params_vc = { \n",
    "        'voting' : ['hard', 'soft'],\n",
    "        'weight': [(1,1,1),(1,2,1)]    \n",
    "}\n",
    "\n",
    "\n",
    "gs = GridSearchCV(estimator=vc, param_grid=params_xgb, cv=3, scoring=\"accuracy\", n_jobs=2, verbose=True, return_train_score=False)\n",
    "gs.fit(X_train,y_train)\n",
    "\n",
    "vc_tuned_best_score = gs.best_score_\n",
    "vc_tuned_best_params = gs.best_params_\n",
    "vc_tuned_best_estimator = gs.best_estimator_\n",
    "y_pred_vc_tuned = gs.best_estimator_.predict(X_val)\n",
    "validation_score = gs.score(X_val, y_val)\n",
    "\n",
    "CM(y_val, y_pred_vc_tuned)\n",
    "\n",
    "print(f\"\\nAccuracy Score Traning:{gs.best_score_}, Accuracy Score Validation:{validation_score}\") \n",
    "print(f\"\\nBest Paramters:\\n{gs.best_params_}\") \n",
    "print(f\"\\nBest Estimator:\\n{gs.best_estimator_}\") "
   ]
  },
  {
   "cell_type": "code",
   "execution_count": null,
   "id": "1528d5c1",
   "metadata": {},
   "outputs": [],
   "source": []
  },
  {
   "cell_type": "code",
   "execution_count": null,
   "id": "eb969835",
   "metadata": {},
   "outputs": [],
   "source": []
  },
  {
   "cell_type": "code",
   "execution_count": null,
   "id": "1006ee16",
   "metadata": {},
   "outputs": [],
   "source": [
    "model = pipeline_xgb.fit(X_train, y_train)"
   ]
  },
  {
   "cell_type": "code",
   "execution_count": 815,
   "id": "ae5b6ffe",
   "metadata": {},
   "outputs": [
    {
     "name": "stdout",
     "output_type": "stream",
     "text": [
      "acc: 0.8683944403941581\n"
     ]
    }
   ],
   "source": [
    "pipeline_xgb.fit(X_train, y_train)\n",
    "predictions = pipeline_xgb.predict(X_test)\n",
    "acc = accuracy_score(y_test, predictions)\n",
    "\n",
    "print(\"acc:\", acc)"
   ]
  },
  {
   "cell_type": "markdown",
   "id": "4ade6a8b",
   "metadata": {},
   "source": [
    "## Export Model"
   ]
  },
  {
   "cell_type": "code",
   "execution_count": 570,
   "id": "643a6bda",
   "metadata": {},
   "outputs": [
    {
     "data": {
      "text/plain": [
       "['../models/model.pkl']"
      ]
     },
     "execution_count": 570,
     "metadata": {},
     "output_type": "execute_result"
    }
   ],
   "source": [
    "ref_cols = list(X.columns)\n",
    "\n",
    "joblib.dump(value=[model, ref_cols, target], filename=\"../models/model.pkl\")"
   ]
  },
  {
   "cell_type": "markdown",
   "id": "98d91665",
   "metadata": {},
   "source": [
    "## Test"
   ]
  },
  {
   "cell_type": "code",
   "execution_count": 571,
   "id": "0e54b100",
   "metadata": {},
   "outputs": [],
   "source": [
    "new_sample = data_prep.sample(20)"
   ]
  },
  {
   "cell_type": "code",
   "execution_count": 572,
   "id": "95a60b86",
   "metadata": {},
   "outputs": [],
   "source": [
    "model, ref_cols, target = joblib.load(\"../models/model.pkl\")"
   ]
  },
  {
   "cell_type": "code",
   "execution_count": 573,
   "id": "31080835",
   "metadata": {},
   "outputs": [],
   "source": [
    "# --------------------------------------------------------------\n",
    "# Make predictions\n",
    "# --------------------------------------------------------------\n",
    "\n",
    "X_new = new_sample[ref_cols]\n",
    "y_new = new_sample[target]\n",
    "predictions = model.predict(X_new)"
   ]
  },
  {
   "cell_type": "code",
   "execution_count": 574,
   "id": "a75e8a84",
   "metadata": {},
   "outputs": [
    {
     "data": {
      "text/plain": [
       "array([1, 0, 0, 1, 0, 0, 1, 0, 0, 1, 0, 1, 0, 0, 0, 0, 0, 0, 0, 1])"
      ]
     },
     "execution_count": 574,
     "metadata": {},
     "output_type": "execute_result"
    }
   ],
   "source": [
    "predictions"
   ]
  }
 ],
 "metadata": {
  "hide_input": false,
  "kernelspec": {
   "display_name": "Python 3 (ipykernel)",
   "language": "python",
   "name": "python3"
  },
  "language_info": {
   "codemirror_mode": {
    "name": "ipython",
    "version": 3
   },
   "file_extension": ".py",
   "mimetype": "text/x-python",
   "name": "python",
   "nbconvert_exporter": "python",
   "pygments_lexer": "ipython3",
   "version": "3.11.2"
  },
  "latex_envs": {
   "LaTeX_envs_menu_present": true,
   "autoclose": false,
   "autocomplete": true,
   "bibliofile": "biblio.bib",
   "cite_by": "apalike",
   "current_citInitial": 1,
   "eqLabelWithNumbers": true,
   "eqNumInitial": 1,
   "hotkeys": {
    "equation": "Ctrl-E",
    "itemize": "Ctrl-I"
   },
   "labels_anchors": false,
   "latex_user_defs": false,
   "report_style_numbering": false,
   "user_envs_cfg": false
  }
 },
 "nbformat": 4,
 "nbformat_minor": 5
}
